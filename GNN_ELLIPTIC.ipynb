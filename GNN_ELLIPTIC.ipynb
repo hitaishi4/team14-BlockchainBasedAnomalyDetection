{
  "cells": [
    {
      "cell_type": "code",
      "source": [
        "!pip install torch-geometric"
      ],
      "outputs": [
        {
          "output_type": "display_data",
          "data": {
            "application/vnd.livy.statement-meta+json": {
              "spark_pool": "team14elliptic",
              "statement_id": 2,
              "statement_ids": [
                2
              ],
              "state": "finished",
              "livy_statement_state": "available",
              "spark_jobs": null,
              "session_id": "23",
              "normalized_state": "finished",
              "queued_time": "2025-05-05T20:00:58.2190045Z",
              "session_start_time": "2025-05-05T20:00:58.2200361Z",
              "execution_start_time": "2025-05-05T20:04:32.9376925Z",
              "execution_finish_time": "2025-05-05T20:04:53.7667216Z",
              "parent_msg_id": "63e20f5c-5879-4b65-b0b1-fb228c0116cf"
            },
            "text/plain": "StatementMeta(team14elliptic, 23, 2, Finished, Available, Finished)"
          },
          "metadata": {}
        },
        {
          "output_type": "stream",
          "name": "stdout",
          "text": [
            "Collecting torch-geometric\n  Downloading torch_geometric-2.6.1-py3-none-any.whl (1.1 MB)\n\u001b[2K     \u001b[90m━━━━━━━━━━━━━━━━━━━━━━━━━━━━━━━━━━━━━━━━\u001b[0m \u001b[32m1.1/1.1 MB\u001b[0m \u001b[31m31.4 MB/s\u001b[0m eta \u001b[36m0:00:00\u001b[0m00:01\u001b[0m\n\u001b[?25hRequirement already satisfied: aiohttp in /home/trusted-service-user/cluster-env/env/lib/python3.10/site-packages (from torch-geometric) (3.9.3)\nRequirement already satisfied: fsspec in /home/trusted-service-user/cluster-env/env/lib/python3.10/site-packages (from torch-geometric) (2024.2.0)\nRequirement already satisfied: jinja2 in /home/trusted-service-user/cluster-env/env/lib/python3.10/site-packages (from torch-geometric) (3.1.3)\nRequirement already satisfied: numpy in /home/trusted-service-user/cluster-env/env/lib/python3.10/site-packages (from torch-geometric) (1.23.5)\nRequirement already satisfied: psutil>=5.8.0 in /home/trusted-service-user/cluster-env/env/lib/python3.10/site-packages (from torch-geometric) (5.9.8)\nRequirement already satisfied: pyparsing in /home/trusted-service-user/cluster-env/env/lib/python3.10/site-packages (from torch-geometric) (3.1.2)\nRequirement already satisfied: requests in /home/trusted-service-user/cluster-env/env/lib/python3.10/site-packages (from torch-geometric) (2.31.0)\nRequirement already satisfied: tqdm in /home/trusted-service-user/cluster-env/env/lib/python3.10/site-packages (from torch-geometric) (4.66.2)\nRequirement already satisfied: aiosignal>=1.1.2 in /home/trusted-service-user/cluster-env/env/lib/python3.10/site-packages (from aiohttp->torch-geometric) (1.3.1)\nRequirement already satisfied: attrs>=17.3.0 in /home/trusted-service-user/cluster-env/env/lib/python3.10/site-packages (from aiohttp->torch-geometric) (23.2.0)\nRequirement already satisfied: frozenlist>=1.1.1 in /home/trusted-service-user/cluster-env/env/lib/python3.10/site-packages (from aiohttp->torch-geometric) (1.4.1)\nRequirement already satisfied: multidict<7.0,>=4.5 in /home/trusted-service-user/cluster-env/env/lib/python3.10/site-packages (from aiohttp->torch-geometric) (6.0.5)\nRequirement already satisfied: yarl<2.0,>=1.0 in /home/trusted-service-user/cluster-env/env/lib/python3.10/site-packages (from aiohttp->torch-geometric) (1.9.4)\nRequirement already satisfied: async-timeout<5.0,>=4.0 in /home/trusted-service-user/cluster-env/env/lib/python3.10/site-packages (from aiohttp->torch-geometric) (4.0.3)\nRequirement already satisfied: MarkupSafe>=2.0 in /home/trusted-service-user/cluster-env/env/lib/python3.10/site-packages (from jinja2->torch-geometric) (2.1.5)\nRequirement already satisfied: charset-normalizer<4,>=2 in /home/trusted-service-user/cluster-env/env/lib/python3.10/site-packages (from requests->torch-geometric) (3.3.2)\nRequirement already satisfied: idna<4,>=2.5 in /home/trusted-service-user/cluster-env/env/lib/python3.10/site-packages (from requests->torch-geometric) (3.6)\nRequirement already satisfied: urllib3<3,>=1.21.1 in /home/trusted-service-user/cluster-env/env/lib/python3.10/site-packages (from requests->torch-geometric) (2.1.0)\nRequirement already satisfied: certifi>=2017.4.17 in /home/trusted-service-user/cluster-env/env/lib/python3.10/site-packages (from requests->torch-geometric) (2024.2.2)\nInstalling collected packages: torch-geometric\nSuccessfully installed torch-geometric-2.6.1\n"
          ]
        }
      ],
      "execution_count": 34,
      "metadata": {
        "jupyter": {
          "outputs_hidden": true
        }
      }
    },
    {
      "cell_type": "code",
      "source": [
        "# 1. Setup and Configuration\n",
        "# --------------------------\n",
        "# Configure storage account access\n",
        "storage_account_name = \"team14storage\"\n",
        "storage_account_key = \"BqTUGm0vEddQ0O5wOaAzGNjFqZVnK4ZnhfvBYjBhfLbcBPoeO43ABkRBPhdgzwuyzoYDInfw0wjs+ASt89HrGw==\"\n",
        "\n",
        "spark.conf.set(\n",
        "    f\"fs.azure.account.key.{storage_account_name}.dfs.core.windows.net\",\n",
        "    storage_account_key\n",
        ")"
      ],
      "outputs": [
        {
          "output_type": "display_data",
          "data": {
            "application/vnd.livy.statement-meta+json": {
              "spark_pool": "team14elliptic",
              "statement_id": 14,
              "statement_ids": [
                14
              ],
              "state": "finished",
              "livy_statement_state": "available",
              "spark_jobs": null,
              "session_id": "23",
              "normalized_state": "finished",
              "queued_time": "2025-05-05T20:25:13.4535062Z",
              "session_start_time": null,
              "execution_start_time": "2025-05-05T20:25:13.4546852Z",
              "execution_finish_time": "2025-05-05T20:25:13.6696587Z",
              "parent_msg_id": "92af50d8-3f6a-419d-ba31-5b3004259700"
            },
            "text/plain": "StatementMeta(team14elliptic, 23, 14, Finished, Available, Finished)"
          },
          "metadata": {}
        }
      ],
      "execution_count": 46,
      "metadata": {}
    },
    {
      "cell_type": "code",
      "source": [
        "# 2. Data Loading\n",
        "# ---------------\n",
        "# Read each CSV into its own DataFrame\n",
        "elliptic_txs_classes_df = (\n",
        "    spark.read\n",
        "        .option(\"header\", \"true\")\n",
        "        .option(\"inferSchema\", \"true\")\n",
        "        .csv(\n",
        "            f\"wasbs://team14-blobcontainer@{storage_account_name}\"\n",
        "            + \".blob.core.windows.net/Bronze/elliptic_txs_classes.csv\"\n",
        "        )\n",
        ")\n",
        "\n",
        "elliptic_txs_edgelist_df = (\n",
        "    spark.read\n",
        "        .option(\"header\", \"true\")\n",
        "        .option(\"inferSchema\", \"true\")\n",
        "        .csv(\n",
        "            f\"wasbs://team14-blobcontainer@{storage_account_name}\"\n",
        "            + \".blob.core.windows.net/Bronze/elliptic_txs_edgelist.csv\"\n",
        "        )\n",
        ")\n",
        "\n",
        "elliptic_txs_features_df = (\n",
        "    spark.read\n",
        "        .option(\"header\", \"true\")\n",
        "        .option(\"inferSchema\", \"true\")\n",
        "        .csv(\n",
        "            f\"wasbs://team14-blobcontainer@{storage_account_name}\"\n",
        "            + \".blob.core.windows.net/Bronze/elliptic_txs_features.csv\"\n",
        "        )\n",
        ")"
      ],
      "outputs": [
        {
          "output_type": "display_data",
          "data": {
            "application/vnd.livy.statement-meta+json": {
              "spark_pool": "team14elliptic",
              "statement_id": 15,
              "statement_ids": [
                15
              ],
              "state": "finished",
              "livy_statement_state": "available",
              "spark_jobs": null,
              "session_id": "23",
              "normalized_state": "finished",
              "queued_time": "2025-05-05T20:25:34.6856201Z",
              "session_start_time": null,
              "execution_start_time": "2025-05-05T20:25:34.686886Z",
              "execution_finish_time": "2025-05-05T20:25:38.7472595Z",
              "parent_msg_id": "6f4183bc-3c58-469e-921f-35218d19e766"
            },
            "text/plain": "StatementMeta(team14elliptic, 23, 15, Finished, Available, Finished)"
          },
          "metadata": {}
        }
      ],
      "execution_count": 47,
      "metadata": {}
    },
    {
      "cell_type": "code",
      "source": [
        "# 3. Initial Data Exploration\n",
        "# ---------------------------\n",
        "# First, rename the columns in the features dataframe\n",
        "# We assume the first column is 'txId' and the second is 'time_step'\n",
        "feature_columns = elliptic_txs_features_df.columns\n",
        "new_columns = ['txId', 'time_step'] \n",
        "for i in range(2, len(feature_columns)):\n",
        "    new_columns.append(f'feature_{i-1}')\n",
        "\n",
        "elliptic_txs_features_df = elliptic_txs_features_df.toDF(*new_columns)\n",
        "\n",
        "print(\"Dataset Overview:\")\n",
        "print(f\"Classes DataFrame: {elliptic_txs_classes_df.count()} rows\")\n",
        "print(f\"Edgelist DataFrame: {elliptic_txs_edgelist_df.count()} rows\")\n",
        "print(f\"Features DataFrame: {elliptic_txs_features_df.count()} rows\")\n",
        "\n",
        "print(\"\\nClasses DataFrame Schema:\")\n",
        "elliptic_txs_classes_df.printSchema()\n",
        "\n",
        "print(\"\\nEdgelist DataFrame Schema:\")\n",
        "elliptic_txs_edgelist_df.printSchema()\n",
        "\n",
        "print(\"\\nFeatures DataFrame Schema:\")\n",
        "elliptic_txs_features_df.printSchema()\n",
        "\n",
        "# Sample data display\n",
        "print(\"\\nSample rows from Classes DataFrame:\")\n",
        "display(elliptic_txs_classes_df.limit(5))\n",
        "\n",
        "print(\"\\nSample rows from Edgelist DataFrame:\")\n",
        "display(elliptic_txs_edgelist_df.limit(5))\n",
        "\n",
        "print(\"\\nSample rows from Features DataFrame:\")\n",
        "display(elliptic_txs_features_df.limit(5))"
      ],
      "outputs": [
        {
          "output_type": "display_data",
          "data": {
            "application/vnd.livy.statement-meta+json": {
              "spark_pool": "team14elliptic",
              "statement_id": 16,
              "statement_ids": [
                16
              ],
              "state": "finished",
              "livy_statement_state": "available",
              "spark_jobs": null,
              "session_id": "23",
              "normalized_state": "finished",
              "queued_time": "2025-05-05T20:26:00.6005934Z",
              "session_start_time": null,
              "execution_start_time": "2025-05-05T20:26:00.6018425Z",
              "execution_finish_time": "2025-05-05T20:26:07.5586084Z",
              "parent_msg_id": "9beed367-3de6-4b51-a6b1-1575c252f600"
            },
            "text/plain": "StatementMeta(team14elliptic, 23, 16, Finished, Available, Finished)"
          },
          "metadata": {}
        },
        {
          "output_type": "stream",
          "name": "stdout",
          "text": [
            "Dataset Overview:\nClasses DataFrame: 203769 rows\nEdgelist DataFrame: 234355 rows\nFeatures DataFrame: 24789 rows\n\nClasses DataFrame Schema:\nroot\n |-- txId: integer (nullable = true)\n |-- class: string (nullable = true)\n\n\nEdgelist DataFrame Schema:\nroot\n |-- txId1: integer (nullable = true)\n |-- txId2: integer (nullable = true)\n\n\nFeatures DataFrame Schema:\nroot\n |-- txId: integer (nullable = true)\n |-- time_step: integer (nullable = true)\n |-- feature_1: double (nullable = true)\n |-- feature_2: double (nullable = true)\n |-- feature_3: double (nullable = true)\n |-- feature_4: double (nullable = true)\n |-- feature_5: double (nullable = true)\n |-- feature_6: double (nullable = true)\n |-- feature_7: double (nullable = true)\n |-- feature_8: double (nullable = true)\n |-- feature_9: double (nullable = true)\n |-- feature_10: double (nullable = true)\n |-- feature_11: double (nullable = true)\n |-- feature_12: double (nullable = true)\n |-- feature_13: double (nullable = true)\n |-- feature_14: double (nullable = true)\n |-- feature_15: double (nullable = true)\n |-- feature_16: double (nullable = true)\n |-- feature_17: double (nullable = true)\n |-- feature_18: double (nullable = true)\n |-- feature_19: double (nullable = true)\n |-- feature_20: double (nullable = true)\n |-- feature_21: double (nullable = true)\n |-- feature_22: double (nullable = true)\n |-- feature_23: double (nullable = true)\n |-- feature_24: double (nullable = true)\n |-- feature_25: double (nullable = true)\n |-- feature_26: double (nullable = true)\n |-- feature_27: double (nullable = true)\n |-- feature_28: double (nullable = true)\n |-- feature_29: double (nullable = true)\n |-- feature_30: double (nullable = true)\n |-- feature_31: double (nullable = true)\n |-- feature_32: double (nullable = true)\n |-- feature_33: double (nullable = true)\n |-- feature_34: double (nullable = true)\n |-- feature_35: double (nullable = true)\n |-- feature_36: double (nullable = true)\n |-- feature_37: double (nullable = true)\n |-- feature_38: double (nullable = true)\n |-- feature_39: double (nullable = true)\n |-- feature_40: double (nullable = true)\n |-- feature_41: double (nullable = true)\n |-- feature_42: double (nullable = true)\n |-- feature_43: double (nullable = true)\n |-- feature_44: double (nullable = true)\n |-- feature_45: double (nullable = true)\n |-- feature_46: double (nullable = true)\n |-- feature_47: double (nullable = true)\n |-- feature_48: double (nullable = true)\n |-- feature_49: double (nullable = true)\n |-- feature_50: double (nullable = true)\n |-- feature_51: double (nullable = true)\n |-- feature_52: double (nullable = true)\n |-- feature_53: double (nullable = true)\n |-- feature_54: double (nullable = true)\n |-- feature_55: double (nullable = true)\n |-- feature_56: double (nullable = true)\n |-- feature_57: double (nullable = true)\n |-- feature_58: double (nullable = true)\n |-- feature_59: double (nullable = true)\n |-- feature_60: double (nullable = true)\n |-- feature_61: double (nullable = true)\n |-- feature_62: double (nullable = true)\n |-- feature_63: double (nullable = true)\n |-- feature_64: double (nullable = true)\n |-- feature_65: double (nullable = true)\n |-- feature_66: double (nullable = true)\n |-- feature_67: double (nullable = true)\n |-- feature_68: double (nullable = true)\n |-- feature_69: double (nullable = true)\n |-- feature_70: double (nullable = true)\n |-- feature_71: double (nullable = true)\n |-- feature_72: double (nullable = true)\n |-- feature_73: double (nullable = true)\n |-- feature_74: double (nullable = true)\n |-- feature_75: double (nullable = true)\n |-- feature_76: double (nullable = true)\n |-- feature_77: double (nullable = true)\n |-- feature_78: double (nullable = true)\n |-- feature_79: double (nullable = true)\n |-- feature_80: double (nullable = true)\n |-- feature_81: double (nullable = true)\n |-- feature_82: double (nullable = true)\n |-- feature_83: double (nullable = true)\n |-- feature_84: double (nullable = true)\n |-- feature_85: double (nullable = true)\n |-- feature_86: double (nullable = true)\n |-- feature_87: double (nullable = true)\n |-- feature_88: double (nullable = true)\n |-- feature_89: double (nullable = true)\n |-- feature_90: double (nullable = true)\n |-- feature_91: double (nullable = true)\n |-- feature_92: double (nullable = true)\n |-- feature_93: double (nullable = true)\n |-- feature_94: double (nullable = true)\n |-- feature_95: double (nullable = true)\n |-- feature_96: double (nullable = true)\n |-- feature_97: double (nullable = true)\n |-- feature_98: double (nullable = true)\n |-- feature_99: double (nullable = true)\n |-- feature_100: double (nullable = true)\n |-- feature_101: double (nullable = true)\n |-- feature_102: double (nullable = true)\n |-- feature_103: double (nullable = true)\n |-- feature_104: double (nullable = true)\n |-- feature_105: double (nullable = true)\n |-- feature_106: double (nullable = true)\n |-- feature_107: double (nullable = true)\n |-- feature_108: double (nullable = true)\n |-- feature_109: double (nullable = true)\n |-- feature_110: double (nullable = true)\n |-- feature_111: double (nullable = true)\n |-- feature_112: double (nullable = true)\n |-- feature_113: double (nullable = true)\n |-- feature_114: double (nullable = true)\n |-- feature_115: double (nullable = true)\n |-- feature_116: double (nullable = true)\n |-- feature_117: double (nullable = true)\n |-- feature_118: double (nullable = true)\n |-- feature_119: double (nullable = true)\n |-- feature_120: double (nullable = true)\n |-- feature_121: double (nullable = true)\n |-- feature_122: double (nullable = true)\n |-- feature_123: double (nullable = true)\n |-- feature_124: double (nullable = true)\n |-- feature_125: double (nullable = true)\n |-- feature_126: double (nullable = true)\n |-- feature_127: double (nullable = true)\n |-- feature_128: double (nullable = true)\n |-- feature_129: double (nullable = true)\n |-- feature_130: double (nullable = true)\n |-- feature_131: double (nullable = true)\n |-- feature_132: double (nullable = true)\n |-- feature_133: double (nullable = true)\n |-- feature_134: double (nullable = true)\n |-- feature_135: double (nullable = true)\n |-- feature_136: double (nullable = true)\n |-- feature_137: double (nullable = true)\n |-- feature_138: double (nullable = true)\n |-- feature_139: double (nullable = true)\n |-- feature_140: double (nullable = true)\n |-- feature_141: double (nullable = true)\n |-- feature_142: double (nullable = true)\n |-- feature_143: double (nullable = true)\n |-- feature_144: double (nullable = true)\n |-- feature_145: double (nullable = true)\n |-- feature_146: double (nullable = true)\n |-- feature_147: double (nullable = true)\n |-- feature_148: double (nullable = true)\n |-- feature_149: double (nullable = true)\n |-- feature_150: double (nullable = true)\n |-- feature_151: double (nullable = true)\n |-- feature_152: double (nullable = true)\n |-- feature_153: double (nullable = true)\n |-- feature_154: double (nullable = true)\n |-- feature_155: double (nullable = true)\n |-- feature_156: double (nullable = true)\n |-- feature_157: double (nullable = true)\n |-- feature_158: double (nullable = true)\n |-- feature_159: double (nullable = true)\n |-- feature_160: double (nullable = true)\n |-- feature_161: double (nullable = true)\n |-- feature_162: double (nullable = true)\n |-- feature_163: double (nullable = true)\n |-- feature_164: double (nullable = true)\n |-- feature_165: double (nullable = true)\n\n\nSample rows from Classes DataFrame:\n"
          ]
        },
        {
          "output_type": "display_data",
          "data": {
            "application/vnd.synapse.widget-view+json": {
              "widget_id": "f3564696-3c67-43ba-879a-7423960b1898",
              "widget_type": "Synapse.DataFrame"
            },
            "text/plain": "SynapseWidget(Synapse.DataFrame, f3564696-3c67-43ba-879a-7423960b1898)"
          },
          "metadata": {}
        },
        {
          "output_type": "stream",
          "name": "stdout",
          "text": [
            "\nSample rows from Edgelist DataFrame:\n"
          ]
        },
        {
          "output_type": "display_data",
          "data": {
            "application/vnd.synapse.widget-view+json": {
              "widget_id": "bcd10e7c-c117-4bbb-9118-06b6436bc0be",
              "widget_type": "Synapse.DataFrame"
            },
            "text/plain": "SynapseWidget(Synapse.DataFrame, bcd10e7c-c117-4bbb-9118-06b6436bc0be)"
          },
          "metadata": {}
        },
        {
          "output_type": "stream",
          "name": "stdout",
          "text": [
            "\nSample rows from Features DataFrame:\n"
          ]
        },
        {
          "output_type": "display_data",
          "data": {
            "application/vnd.synapse.widget-view+json": {
              "widget_id": "c4a3f3fa-869f-4792-8834-04ebfcf58d94",
              "widget_type": "Synapse.DataFrame"
            },
            "text/plain": "SynapseWidget(Synapse.DataFrame, c4a3f3fa-869f-4792-8834-04ebfcf58d94)"
          },
          "metadata": {}
        }
      ],
      "execution_count": 48,
      "metadata": {
        "collapsed": false
      }
    },
    {
      "cell_type": "code",
      "source": [
        "# 4. Enhanced Exploratory Data Analysis (EDA)\n",
        "# -------------------------------------------\n",
        "\n",
        "# 4.1 Check for null values in each dataframe\n",
        "from pyspark.sql.functions import col, count, when, isnan, isnull\n",
        "\n",
        "def null_value_check(df, name):\n",
        "    print(f\"\\nNull values in {name} DataFrame:\")\n",
        "    \n",
        "    # Calculate number of null values in each column\n",
        "    null_counts = []\n",
        "    for column in df.columns:\n",
        "        null_count = df.filter(\n",
        "            col(column).isNull() | \n",
        "            isnan(col(column)) | \n",
        "            (col(column) == \"\")\n",
        "        ).count()\n",
        "        null_counts.append((column, null_count))\n",
        "    \n",
        "    # Display columns with null values\n",
        "    for column, null_count in null_counts:\n",
        "        if null_count > 0:\n",
        "            print(f\"Column '{column}' has {null_count} null values\")\n",
        "    \n",
        "    # If no null values found\n",
        "    if all(count == 0 for _, count in null_counts):\n",
        "        print(\"No null values found.\")\n",
        "\n",
        "# Check for null values in each dataframe\n",
        "null_value_check(elliptic_txs_classes_df, \"Classes\")\n",
        "null_value_check(elliptic_txs_edgelist_df, \"Edgelist\")\n",
        "null_value_check(elliptic_txs_features_df, \"Features\")\n",
        "\n",
        "# 4.2 Analyze class distribution\n",
        "from pyspark.sql.functions import count, col, countDistinct\n",
        "\n",
        "# Analyze class distribution\n",
        "print(\"\\nClass Distribution Analysis:\")\n",
        "elliptic_txs_classes_df.groupBy(\"class\").count().orderBy(\"class\").show()\n",
        "\n",
        "# Convert class to more meaningful labels\n",
        "from pyspark.sql.functions import when, lit\n",
        "\n",
        "# Add meaningful labels based on class values\n",
        "elliptic_txs_classes_df = elliptic_txs_classes_df.withColumn(\n",
        "    \"label\",\n",
        "    when(col(\"class\") == \"1\", \"illicit\")\n",
        "    .when(col(\"class\") == \"2\", \"licit\")\n",
        "    .otherwise(\"unknown\")\n",
        ")\n",
        "\n",
        "# Show the distribution with meaningful labels\n",
        "print(\"\\nClass Distribution with Labels:\")\n",
        "elliptic_txs_classes_df.groupBy(\"label\").count().show()\n",
        "\n",
        "# 4.3 Analyze time steps in features data\n",
        "print(\"\\nTime Step Distribution:\")\n",
        "elliptic_txs_features_df.groupBy(\"time_step\").count().orderBy(\"time_step\").show(50)\n",
        "\n",
        "# 4.4 Join features with class labels for further analysis\n",
        "labeled_transactions = elliptic_txs_features_df.join(\n",
        "    elliptic_txs_classes_df.select(\"txId\", \"class\", \"label\"), \n",
        "    \"txId\", \"left\"\n",
        ")\n",
        "\n",
        "# Display sample of joined data\n",
        "print(\"\\nSample of labeled transactions:\")\n",
        "display(labeled_transactions.limit(5))\n",
        "\n",
        "# 4.5 Analyze class distribution across time steps\n",
        "print(\"\\nClass distribution over time:\")\n",
        "time_class_dist = labeled_transactions.groupBy(\"time_step\", \"label\").count().orderBy(\"time_step\", \"label\")\n",
        "display(time_class_dist)\n",
        "\n",
        "# 4.6 Create a contingency table for illicit vs licit transactions by time step\n",
        "print(\"\\nContingency table of illicit vs licit transactions by time step:\")\n",
        "time_class_contingency = labeled_transactions.filter(\n",
        "    (col(\"label\") == \"illicit\") | (col(\"label\") == \"licit\")\n",
        ").groupBy(\"time_step\").pivot(\"label\").count().fillna(0).orderBy(\"time_step\")\n",
        "display(time_class_contingency)\n",
        "\n",
        "# 4.7 Calculate illicit transaction percentage by time step\n",
        "from pyspark.sql.functions import col, sum, round, when, count\n",
        "\n",
        "print(\"\\nIllicit transaction percentage by time step:\")\n",
        "illicit_pct_by_time = labeled_transactions.filter(\n",
        "    (col(\"label\") == \"illicit\") | (col(\"label\") == \"licit\")\n",
        ").groupBy(\"time_step\").agg(\n",
        "    round(100 * sum(when(col(\"label\") == \"illicit\", 1).otherwise(0)) / \n",
        "          count(\"*\"), 2).alias(\"illicit_percentage\"),\n",
        "    count(when(col(\"label\") == \"illicit\", 1)).alias(\"illicit_count\"),\n",
        "    count(when(col(\"label\") == \"licit\", 1)).alias(\"licit_count\"),\n",
        "    count(\"*\").alias(\"total_labeled\")\n",
        ").orderBy(\"time_step\")\n",
        "display(illicit_pct_by_time)\n",
        "\n",
        "# 4.8 Prepare for visualization in Synapse\n",
        "import matplotlib.pyplot as plt\n",
        "import numpy as np\n",
        "import pandas as pd\n",
        "from pyspark.sql.functions import col\n",
        "\n",
        "# Convert to Pandas for visualization\n",
        "time_class_dist_pd = time_class_dist.toPandas()\n",
        "illicit_pct_by_time_pd = illicit_pct_by_time.toPandas()\n",
        "\n",
        "# Create a pivot table for easier plotting\n",
        "time_class_pivot = time_class_dist_pd.pivot(index='time_step', columns='label', values='count').fillna(0)"
      ],
      "outputs": [
        {
          "output_type": "display_data",
          "data": {
            "application/vnd.livy.statement-meta+json": {
              "spark_pool": "team14elliptic",
              "statement_id": 25,
              "statement_ids": [
                25
              ],
              "state": "finished",
              "livy_statement_state": "available",
              "spark_jobs": null,
              "session_id": "23",
              "normalized_state": "finished",
              "queued_time": "2025-05-05T21:28:03.4892921Z",
              "session_start_time": null,
              "execution_start_time": "2025-05-05T21:28:03.4905801Z",
              "execution_finish_time": "2025-05-05T21:30:22.3825156Z",
              "parent_msg_id": "dc21d6ec-e085-4a9e-a896-ec5ffc159c82"
            },
            "text/plain": "StatementMeta(team14elliptic, 23, 25, Finished, Available, Finished)"
          },
          "metadata": {}
        },
        {
          "output_type": "stream",
          "name": "stdout",
          "text": [
            "\nNull values in Classes DataFrame:\nNo null values found.\n\nNull values in Edgelist DataFrame:\nNo null values found.\n\nNull values in Features DataFrame:\nColumn 'feature_131' has 1 null values\nColumn 'feature_132' has 1 null values\nColumn 'feature_133' has 1 null values\nColumn 'feature_134' has 1 null values\nColumn 'feature_135' has 1 null values\nColumn 'feature_136' has 1 null values\nColumn 'feature_137' has 1 null values\nColumn 'feature_138' has 1 null values\nColumn 'feature_139' has 1 null values\nColumn 'feature_140' has 1 null values\nColumn 'feature_141' has 1 null values\nColumn 'feature_142' has 1 null values\nColumn 'feature_143' has 1 null values\nColumn 'feature_144' has 1 null values\nColumn 'feature_145' has 1 null values\nColumn 'feature_146' has 1 null values\nColumn 'feature_147' has 1 null values\nColumn 'feature_148' has 1 null values\nColumn 'feature_149' has 1 null values\nColumn 'feature_150' has 1 null values\nColumn 'feature_151' has 1 null values\nColumn 'feature_152' has 1 null values\nColumn 'feature_153' has 1 null values\nColumn 'feature_154' has 1 null values\nColumn 'feature_155' has 1 null values\nColumn 'feature_156' has 1 null values\nColumn 'feature_157' has 1 null values\nColumn 'feature_158' has 1 null values\nColumn 'feature_159' has 1 null values\nColumn 'feature_160' has 1 null values\nColumn 'feature_161' has 1 null values\nColumn 'feature_162' has 1 null values\nColumn 'feature_163' has 1 null values\nColumn 'feature_164' has 1 null values\nColumn 'feature_165' has 1 null values\n\nClass Distribution Analysis:\n+-------+------+\n|  class| count|\n+-------+------+\n|      1|  4545|\n|      2| 42019|\n|unknown|157205|\n+-------+------+\n\n\nClass Distribution with Labels:\n+-------+------+\n|  label| count|\n+-------+------+\n|  licit| 42019|\n|unknown|157205|\n|illicit|  4545|\n+-------+------+\n\n\nTime Step Distribution:\n+---------+-----+\n|time_step|count|\n+---------+-----+\n|        1| 7879|\n|        2| 4544|\n|        3| 6621|\n|        4| 5693|\n|        5|   52|\n+---------+-----+\n\n\nSample of labeled transactions:\n"
          ]
        },
        {
          "output_type": "display_data",
          "data": {
            "application/vnd.synapse.widget-view+json": {
              "widget_id": "9e67139b-e325-4d11-b5fd-4e40b4774220",
              "widget_type": "Synapse.DataFrame"
            },
            "text/plain": "SynapseWidget(Synapse.DataFrame, 9e67139b-e325-4d11-b5fd-4e40b4774220)"
          },
          "metadata": {}
        },
        {
          "output_type": "stream",
          "name": "stdout",
          "text": [
            "\nClass distribution over time:\n"
          ]
        },
        {
          "output_type": "display_data",
          "data": {
            "application/vnd.synapse.widget-view+json": {
              "widget_id": "548e1baa-22d5-4255-b586-f6b429eb17b9",
              "widget_type": "Synapse.DataFrame"
            },
            "text/plain": "SynapseWidget(Synapse.DataFrame, 548e1baa-22d5-4255-b586-f6b429eb17b9)"
          },
          "metadata": {}
        },
        {
          "output_type": "stream",
          "name": "stdout",
          "text": [
            "\nContingency table of illicit vs licit transactions by time step:\n"
          ]
        },
        {
          "output_type": "display_data",
          "data": {
            "application/vnd.synapse.widget-view+json": {
              "widget_id": "25337fa8-15ea-4414-a81a-51eabf9b97b4",
              "widget_type": "Synapse.DataFrame"
            },
            "text/plain": "SynapseWidget(Synapse.DataFrame, 25337fa8-15ea-4414-a81a-51eabf9b97b4)"
          },
          "metadata": {}
        },
        {
          "output_type": "stream",
          "name": "stdout",
          "text": [
            "\nIllicit transaction percentage by time step:\n"
          ]
        },
        {
          "output_type": "display_data",
          "data": {
            "application/vnd.synapse.widget-view+json": {
              "widget_id": "b6a6c106-8e22-4366-a98f-368c53b7e076",
              "widget_type": "Synapse.DataFrame"
            },
            "text/plain": "SynapseWidget(Synapse.DataFrame, b6a6c106-8e22-4366-a98f-368c53b7e076)"
          },
          "metadata": {}
        }
      ],
      "execution_count": 57,
      "metadata": {
        "collapsed": false
      }
    },
    {
      "cell_type": "code",
      "source": [
        "# 5. Data Preprocessing and Feature Engineering\n",
        "# --------------------------------------------\n",
        "\n",
        "# 5.1 Handle missing values (if any)\n",
        "# We already checked for null values, now let's handle them\n",
        "def clean_dataframe(df, strategy=\"drop\"):\n",
        "    \"\"\"\n",
        "    Clean a dataframe by handling missing values\n",
        "    \n",
        "    Parameters:\n",
        "    df: DataFrame to clean\n",
        "    strategy: Strategy to handle missing values ('drop' or 'impute')\n",
        "    \n",
        "    Returns:\n",
        "    Cleaned DataFrame\n",
        "    \"\"\"\n",
        "    if strategy == \"drop\":\n",
        "        # Drop rows with any null values\n",
        "        return df.dropna()\n",
        "    elif strategy == \"impute\":\n",
        "        # Impute missing values - for numerical columns, use mean; for categorical, use mode\n",
        "        from pyspark.ml.feature import Imputer\n",
        "        \n",
        "        # Identify numerical columns\n",
        "        numeric_cols = [col_name for col_name, col_type in df.dtypes \n",
        "                      if col_type in ('int', 'double', 'float')]\n",
        "        \n",
        "        if numeric_cols:\n",
        "            # Setup imputer for numerical columns\n",
        "            imputer = Imputer(\n",
        "                inputCols=numeric_cols,\n",
        "                outputCols=[f\"{col}_imputed\" for col in numeric_cols],\n",
        "                strategy=\"mean\"\n",
        "            )\n",
        "            \n",
        "            # Fit and transform\n",
        "            df = imputer.fit(df).transform(df)\n",
        "            \n",
        "            # Replace original columns with imputed ones\n",
        "            for i, col_name in enumerate(numeric_cols):\n",
        "                df = df.drop(col_name).withColumnRenamed(f\"{col_name}_imputed\", col_name)\n",
        "        \n",
        "        return df\n",
        "    else:\n",
        "        raise ValueError(\"Unknown strategy. Use 'drop' or 'impute'.\")\n",
        "\n",
        "# Clean each dataframe\n",
        "classes_df_clean = clean_dataframe(elliptic_txs_classes_df)\n",
        "edgelist_df_clean = clean_dataframe(elliptic_txs_edgelist_df)\n",
        "features_df_clean = clean_dataframe(elliptic_txs_features_df)\n",
        "\n",
        "# 5.2 Feature engineering - statistical features\n",
        "from pyspark.sql.functions import mean, stddev, min, max\n",
        "\n",
        "# Create statistical features from transaction graph\n",
        "# First, count in-degree and out-degree for each node\n",
        "in_degree = edgelist_df_clean.groupBy(\"txId2\") \\\n",
        "    .count() \\\n",
        "    .withColumnRenamed(\"txId2\", \"txId\") \\\n",
        "    .withColumnRenamed(\"count\", \"in_degree\")\n",
        "\n",
        "out_degree = edgelist_df_clean.groupBy(\"txId1\") \\\n",
        "    .count() \\\n",
        "    .withColumnRenamed(\"txId1\", \"txId\") \\\n",
        "    .withColumnRenamed(\"count\", \"out_degree\")\n",
        "\n",
        "# Join the degree information with features\n",
        "features_enhanced = features_df_clean \\\n",
        "    .join(in_degree, \"txId\", \"left\") \\\n",
        "    .join(out_degree, \"txId\", \"left\")\n",
        "\n",
        "# Fill null values for nodes without connections\n",
        "features_enhanced = features_enhanced \\\n",
        "    .fillna({\"in_degree\": 0, \"out_degree\": 0})\n",
        "\n",
        "# Calculate total degree\n",
        "features_enhanced = features_enhanced \\\n",
        "    .withColumn(\"total_degree\", col(\"in_degree\") + col(\"out_degree\"))\n",
        "\n",
        "# Sample of enhanced features\n",
        "print(\"\\nSample of enhanced features with graph metrics:\")\n",
        "display(features_enhanced.limit(5))\n"
      ],
      "outputs": [
        {
          "output_type": "display_data",
          "data": {
            "application/vnd.livy.statement-meta+json": {
              "spark_pool": "team14elliptic",
              "statement_id": 18,
              "statement_ids": [
                18
              ],
              "state": "finished",
              "livy_statement_state": "available",
              "spark_jobs": null,
              "session_id": "23",
              "normalized_state": "finished",
              "queued_time": "2025-05-05T20:34:52.298979Z",
              "session_start_time": null,
              "execution_start_time": "2025-05-05T20:34:52.300347Z",
              "execution_finish_time": "2025-05-05T20:34:58.410931Z",
              "parent_msg_id": "607c1c6c-6a70-47aa-b1b5-d63bfdf87b12"
            },
            "text/plain": "StatementMeta(team14elliptic, 23, 18, Finished, Available, Finished)"
          },
          "metadata": {}
        },
        {
          "output_type": "stream",
          "name": "stdout",
          "text": [
            "\nSample of enhanced features with graph metrics:\n"
          ]
        },
        {
          "output_type": "display_data",
          "data": {
            "application/vnd.synapse.widget-view+json": {
              "widget_id": "aa7dd57d-0825-4b85-a4a6-22c566117f86",
              "widget_type": "Synapse.DataFrame"
            },
            "text/plain": "SynapseWidget(Synapse.DataFrame, aa7dd57d-0825-4b85-a4a6-22c566117f86)"
          },
          "metadata": {}
        }
      ],
      "execution_count": 50,
      "metadata": {
        "collapsed": false
      }
    },
    {
      "cell_type": "code",
      "source": [
        "# 6. Feature Preparation for Modeling\n",
        "# ----------------------------------\n",
        "\n",
        "# 6.1 Join with classes to create labeled dataset\n",
        "modeling_data = features_enhanced.join(\n",
        "    classes_df_clean.select(\"txId\", \"class\", \"label\"), \n",
        "    \"txId\", \n",
        "    \"left\"\n",
        ")\n",
        "\n",
        "# Filter out rows with unknown class (if needed for supervised learning)\n",
        "supervised_data = modeling_data.filter(col(\"class\").isin(\"1\", \"2\"))\n",
        "\n",
        "# Display class distribution in supervised data\n",
        "print(\"\\nClass distribution in supervised data:\")\n",
        "supervised_data.groupBy(\"label\").count().show()\n",
        "\n",
        "# 6.2 Convert class to numeric for ML modeling\n",
        "from pyspark.sql.functions import when\n",
        "\n",
        "supervised_data = supervised_data.withColumn(\n",
        "    \"label_numeric\", \n",
        "    when(col(\"class\") == \"1\", 1.0).otherwise(0.0)\n",
        ")\n",
        "\n",
        "# 6.3 Split data into features and target\n",
        "feature_cols = [col_name for col_name in supervised_data.columns \n",
        "               if col_name.startswith(\"feature_\") or \n",
        "                  col_name in [\"in_degree\", \"out_degree\", \"total_degree\"]]\n",
        "\n",
        "# 6.4 Create train/test split\n",
        "train_data, test_data = supervised_data.randomSplit([0.8, 0.2], seed=42)\n",
        "\n",
        "print(f\"\\nTraining data size: {train_data.count()}\")\n",
        "print(f\"Test data size: {test_data.count()}\")"
      ],
      "outputs": [
        {
          "output_type": "display_data",
          "data": {
            "application/vnd.livy.statement-meta+json": {
              "spark_pool": "team14elliptic",
              "statement_id": 19,
              "statement_ids": [
                19
              ],
              "state": "finished",
              "livy_statement_state": "available",
              "spark_jobs": null,
              "session_id": "23",
              "normalized_state": "finished",
              "queued_time": "2025-05-05T20:35:23.0970503Z",
              "session_start_time": null,
              "execution_start_time": "2025-05-05T20:35:23.0982833Z",
              "execution_finish_time": "2025-05-05T20:35:37.8150274Z",
              "parent_msg_id": "1972b164-ec7f-4c95-8553-ae1d5d4def2e"
            },
            "text/plain": "StatementMeta(team14elliptic, 23, 19, Finished, Available, Finished)"
          },
          "metadata": {}
        },
        {
          "output_type": "stream",
          "name": "stdout",
          "text": [
            "\nClass distribution in supervised data:\n+-------+-----+\n|  label|count|\n+-------+-----+\n|  licit| 5927|\n|illicit|   76|\n+-------+-----+\n\n\nTraining data size: 4813\nTest data size: 1190\n"
          ]
        }
      ],
      "execution_count": 51,
      "metadata": {}
    },
    {
      "cell_type": "code",
      "source": [
        "# 7. Isolation Forest for Anomaly Detection\n",
        "# ----------------------------------------\n",
        "from pyspark.ml.feature import VectorAssembler\n",
        "from pyspark.ml.classification import RandomForestClassifier\n",
        "from pyspark.ml import Pipeline\n",
        "from pyspark.ml.evaluation import BinaryClassificationEvaluator\n",
        "import numpy as np\n",
        "\n",
        "# Create feature vector\n",
        "vector_assembler = VectorAssembler(\n",
        "    inputCols=feature_cols,\n",
        "    outputCol=\"features\",\n",
        "    handleInvalid=\"skip\"\n",
        ")\n",
        "\n",
        "# 7.1 Implement Isolation Forest\n",
        "# Isolation Forest is implemented using RandomForestClassifier with bootstrap sampling in Spark\n",
        "isolation_forest = RandomForestClassifier(\n",
        "    featuresCol=\"features\",\n",
        "    labelCol=\"label_numeric\",\n",
        "    numTrees=100,\n",
        "    maxDepth=10,\n",
        "    bootstrap=True,\n",
        "    subsamplingRate=0.5,  # Randomly sample 50% of the data for each tree\n",
        "    seed=42\n",
        ")\n",
        "\n",
        "# Create pipeline\n",
        "isolation_pipeline = Pipeline(stages=[vector_assembler, isolation_forest])\n",
        "\n",
        "# Train the model\n",
        "isolation_model = isolation_pipeline.fit(train_data)\n",
        "\n",
        "# Make predictions\n",
        "isolation_predictions = isolation_model.transform(test_data)\n",
        "\n",
        "# Evaluate model\n",
        "evaluator = BinaryClassificationEvaluator(\n",
        "    labelCol=\"label_numeric\",\n",
        "    rawPredictionCol=\"rawPrediction\",\n",
        "    metricName=\"areaUnderROC\"\n",
        ")\n",
        "\n",
        "isolation_auc = evaluator.evaluate(isolation_predictions)\n",
        "print(f\"\\nIsolation Forest AUC: {isolation_auc:.4f}\")"
      ],
      "outputs": [
        {
          "output_type": "display_data",
          "data": {
            "application/vnd.livy.statement-meta+json": {
              "spark_pool": "team14elliptic",
              "statement_id": 20,
              "statement_ids": [
                20
              ],
              "state": "finished",
              "livy_statement_state": "available",
              "spark_jobs": null,
              "session_id": "23",
              "normalized_state": "finished",
              "queued_time": "2025-05-05T20:35:51.1170483Z",
              "session_start_time": null,
              "execution_start_time": "2025-05-05T20:35:51.1183332Z",
              "execution_finish_time": "2025-05-05T20:36:24.2558425Z",
              "parent_msg_id": "62869f9b-026e-46e1-a6fc-b0034c83322b"
            },
            "text/plain": "StatementMeta(team14elliptic, 23, 20, Finished, Available, Finished)"
          },
          "metadata": {}
        },
        {
          "output_type": "stream",
          "name": "stdout",
          "text": [
            "\nIsolation Forest AUC: 1.0000\n"
          ]
        }
      ],
      "execution_count": 52,
      "metadata": {}
    },
    {
      "cell_type": "code",
      "source": [
        "# 8. XGBoost for Supervised Learning\n",
        "# ---------------------------------\n",
        "# For Synapse, we need to use appropriate libraries\n",
        "from pyspark.ml.classification import GBTClassifier\n",
        "from pyspark.ml.tuning import ParamGridBuilder, CrossValidator\n",
        "from pyspark.ml.evaluation import BinaryClassificationEvaluator, MulticlassClassificationEvaluator\n",
        "\n",
        "# Create XGBoost-like model using GBTClassifier (Gradient-Boosted Trees)\n",
        "gbt = GBTClassifier(\n",
        "    featuresCol=\"features\",\n",
        "    labelCol=\"label_numeric\",\n",
        "    maxIter=100,\n",
        "    maxDepth=5,\n",
        "    stepSize=0.1  # Learning rate\n",
        ")\n",
        "\n",
        "# Create a pipeline\n",
        "gbt_pipeline = Pipeline(stages=[vector_assembler, gbt])\n",
        "\n",
        "# Parameter grid for tuning\n",
        "paramGrid = ParamGridBuilder() \\\n",
        "    .addGrid(gbt.maxDepth, [3, 5, 7]) \\\n",
        "    .addGrid(gbt.maxIter, [50, 100]) \\\n",
        "    .addGrid(gbt.stepSize, [0.05, 0.1, 0.2]) \\\n",
        "    .build()\n",
        "\n",
        "# Cross-validation\n",
        "crossval = CrossValidator(\n",
        "    estimator=gbt_pipeline,\n",
        "    estimatorParamMaps=paramGrid,\n",
        "    evaluator=BinaryClassificationEvaluator(labelCol=\"label_numeric\"),\n",
        "    numFolds=3\n",
        ")\n",
        "\n",
        "# Train the model with cross-validation\n",
        "print(\"\\nTraining XGBoost-like model with cross-validation (this may take a while)...\")\n",
        "gbt_model = crossval.fit(train_data)\n",
        "\n",
        "# Get the best model\n",
        "best_gbt_model = gbt_model.bestModel\n",
        "print(\"Best model parameters:\")\n",
        "print(f\"Max Depth: {best_gbt_model.stages[-1].getMaxDepth()}\")\n",
        "print(f\"Max Iterations: {best_gbt_model.stages[-1].getMaxIter()}\")\n",
        "print(f\"Step Size: {best_gbt_model.stages[-1].getStepSize()}\")\n",
        "\n",
        "# Make predictions\n",
        "gbt_predictions = best_gbt_model.transform(test_data)\n",
        "\n",
        "# Evaluate model\n",
        "evaluator = BinaryClassificationEvaluator(\n",
        "    labelCol=\"label_numeric\",\n",
        "    rawPredictionCol=\"rawPrediction\",\n",
        "    metricName=\"areaUnderROC\"\n",
        ")\n",
        "\n",
        "gbt_auc = evaluator.evaluate(gbt_predictions)\n",
        "print(f\"XGBoost-like model AUC: {gbt_auc:.4f}\")\n",
        "\n",
        "# Calculate precision, recall, and F1 score\n",
        "evaluator_multi = MulticlassClassificationEvaluator(\n",
        "    labelCol=\"label_numeric\",\n",
        "    predictionCol=\"prediction\"\n",
        ")\n",
        "\n",
        "precision = evaluator_multi.setMetricName(\"weightedPrecision\").evaluate(gbt_predictions)\n",
        "recall = evaluator_multi.setMetricName(\"weightedRecall\").evaluate(gbt_predictions)\n",
        "f1 = evaluator_multi.setMetricName(\"f1\").evaluate(gbt_predictions)\n",
        "\n",
        "print(f\"Precision: {precision:.4f}\")\n",
        "print(f\"Recall: {recall:.4f}\")\n",
        "print(f\"F1 Score: {f1:.4f}\")"
      ],
      "outputs": [
        {
          "output_type": "display_data",
          "data": {
            "application/vnd.livy.statement-meta+json": {
              "spark_pool": "team14elliptic",
              "statement_id": 21,
              "statement_ids": [
                21
              ],
              "state": "finished",
              "livy_statement_state": "available",
              "spark_jobs": null,
              "session_id": "23",
              "normalized_state": "finished",
              "queued_time": "2025-05-05T20:36:31.3221832Z",
              "session_start_time": null,
              "execution_start_time": "2025-05-05T20:36:31.3235441Z",
              "execution_finish_time": "2025-05-05T21:20:28.5817325Z",
              "parent_msg_id": "2daea0c6-d2a5-48c1-95e9-c7536d1daf03"
            },
            "text/plain": "StatementMeta(team14elliptic, 23, 21, Finished, Available, Finished)"
          },
          "metadata": {}
        },
        {
          "output_type": "stream",
          "name": "stdout",
          "text": [
            "\nTraining XGBoost-like model with cross-validation (this may take a while)...\nBest model parameters:\nMax Depth: 3\nMax Iterations: 50\nStep Size: 0.05\nXGBoost-like model AUC: 1.0000\nPrecision: 1.0000\nRecall: 1.0000\nF1 Score: 1.0000\n"
          ]
        }
      ],
      "execution_count": 53,
      "metadata": {}
    },
    {
      "cell_type": "code",
      "source": [
        "# 9. Autoencoder for Unsupervised Anomaly Detection\n",
        "# ----------------------------------------------\n",
        "# For Synapse, we'll use a simple implementation\n",
        "from pyspark.ml.feature import StandardScaler\n",
        "from pyspark.ml.classification import MultilayerPerceptronClassifier\n",
        "from pyspark.ml.evaluation import RegressionEvaluator\n",
        "from pyspark.sql.functions import udf\n",
        "from pyspark.sql.types import DoubleType\n",
        "import math\n",
        "\n",
        "# Standardize features\n",
        "scaler = StandardScaler(\n",
        "    inputCol=\"features\",\n",
        "    outputCol=\"scaled_features\",\n",
        "    withStd=True,\n",
        "    withMean=True\n",
        ")\n",
        "\n",
        "# Create a simple autoencoder using MultilayerPerceptronClassifier\n",
        "# Note: This is a simplified approach as Spark ML doesn't have a dedicated autoencoder\n",
        "autoencoder = MultilayerPerceptronClassifier(\n",
        "    featuresCol=\"scaled_features\",\n",
        "    labelCol=\"label_numeric\",  # Not actually used for reconstruction\n",
        "    layers=[len(feature_cols), 32, 16, 32, len(feature_cols)],\n",
        "    blockSize=128,\n",
        "    seed=42,\n",
        "    maxIter=100\n",
        ")\n",
        "\n",
        "# Create pipeline\n",
        "autoencoder_pipeline = Pipeline(stages=[vector_assembler, scaler, autoencoder])\n",
        "\n",
        "# Train the model\n",
        "# This is a simplified approach - in a real autoencoder the input would equal the output\n",
        "print(\"\\nTraining Autoencoder (simplified approach)...\")\n",
        "autoencoder_model = autoencoder_pipeline.fit(train_data)\n",
        "\n",
        "# Make predictions\n",
        "autoencoder_predictions = autoencoder_model.transform(test_data)"
      ],
      "outputs": [
        {
          "output_type": "display_data",
          "data": {
            "application/vnd.livy.statement-meta+json": {
              "spark_pool": "team14elliptic",
              "statement_id": 22,
              "statement_ids": [
                22
              ],
              "state": "finished",
              "livy_statement_state": "available",
              "spark_jobs": null,
              "session_id": "23",
              "normalized_state": "finished",
              "queued_time": "2025-05-05T21:21:02.6011518Z",
              "session_start_time": null,
              "execution_start_time": "2025-05-05T21:21:02.6023555Z",
              "execution_finish_time": "2025-05-05T21:21:42.4960001Z",
              "parent_msg_id": "d61e6b8e-a7fc-4cc1-8976-a223429e5b8e"
            },
            "text/plain": "StatementMeta(team14elliptic, 23, 22, Finished, Available, Finished)"
          },
          "metadata": {}
        },
        {
          "output_type": "stream",
          "name": "stdout",
          "text": [
            "\nTraining Autoencoder (simplified approach)...\n"
          ]
        }
      ],
      "execution_count": 54,
      "metadata": {}
    },
    {
      "cell_type": "code",
      "source": [
        "# 10. Graph Neural Network\n",
        "# -----------------------\n",
        "# Since Spark ML doesn't have built-in GNN support, \n",
        "# we'll prepare the data for GNN processing and export it\n",
        "\n",
        "# Create a representation of the graph structure\n",
        "# The basic data is already in the edgelist\n",
        "\n",
        "# Add features to nodes\n",
        "node_features = features_enhanced.select(\"txId\", *feature_cols)\n",
        "\n",
        "# Create node index mapping (for numeric node IDs required by most GNN frameworks)\n",
        "from pyspark.sql.functions import monotonically_increasing_id, row_number\n",
        "from pyspark.sql.window import Window\n",
        "\n",
        "# Get unique node IDs\n",
        "unique_nodes = node_features.select(\"txId\").distinct()\n",
        "\n",
        "# Add numeric index\n",
        "w = Window.orderBy(\"txId\")\n",
        "node_mapping = unique_nodes.withColumn(\"node_id\", row_number().over(w) - 1)\n",
        "\n",
        "# Map edge list to numeric indices\n",
        "edgelist_mapped = edgelist_df_clean\\\n",
        "    .join(node_mapping.withColumnRenamed(\"txId\", \"txId1\").withColumnRenamed(\"node_id\", \"source_id\"), \"txId1\")\\\n",
        "    .join(node_mapping.withColumnRenamed(\"txId\", \"txId2\").withColumnRenamed(\"node_id\", \"target_id\"), \"txId2\")\\\n",
        "    .select(\"source_id\", \"target_id\")\n",
        "\n",
        "# Get samples of the prepared data\n",
        "print(\"\\nSample of node mapping:\")\n",
        "display(node_mapping.limit(5))\n",
        "\n",
        "print(\"\\nSample of mapped edge list:\")\n",
        "display(edgelist_mapped.limit(5))"
      ],
      "outputs": [
        {
          "output_type": "display_data",
          "data": {
            "application/vnd.livy.statement-meta+json": {
              "spark_pool": "team14elliptic",
              "statement_id": 23,
              "statement_ids": [
                23
              ],
              "state": "finished",
              "livy_statement_state": "available",
              "spark_jobs": null,
              "session_id": "23",
              "normalized_state": "finished",
              "queued_time": "2025-05-05T21:22:22.4016771Z",
              "session_start_time": null,
              "execution_start_time": "2025-05-05T21:22:22.4029286Z",
              "execution_finish_time": "2025-05-05T21:22:28.4851465Z",
              "parent_msg_id": "4b6c4097-f138-4eb2-8e8d-e3e3a3a9e487"
            },
            "text/plain": "StatementMeta(team14elliptic, 23, 23, Finished, Available, Finished)"
          },
          "metadata": {}
        },
        {
          "output_type": "stream",
          "name": "stdout",
          "text": [
            "\nSample of node mapping:\n"
          ]
        },
        {
          "output_type": "display_data",
          "data": {
            "application/vnd.synapse.widget-view+json": {
              "widget_id": "eaa56dbe-32c9-4479-aa2a-1e4af5701dac",
              "widget_type": "Synapse.DataFrame"
            },
            "text/plain": "SynapseWidget(Synapse.DataFrame, eaa56dbe-32c9-4479-aa2a-1e4af5701dac)"
          },
          "metadata": {}
        },
        {
          "output_type": "stream",
          "name": "stdout",
          "text": [
            "\nSample of mapped edge list:\n"
          ]
        },
        {
          "output_type": "display_data",
          "data": {
            "application/vnd.synapse.widget-view+json": {
              "widget_id": "5e833e13-6e58-415b-81d4-c2f2e386f7ec",
              "widget_type": "Synapse.DataFrame"
            },
            "text/plain": "SynapseWidget(Synapse.DataFrame, 5e833e13-6e58-415b-81d4-c2f2e386f7ec)"
          },
          "metadata": {}
        }
      ],
      "execution_count": 55,
      "metadata": {
        "collapsed": false
      }
    },
    {
      "cell_type": "code",
      "source": [
        "# Class & Time‑Step Trends\n",
        "import matplotlib.pyplot as plt\n",
        "\n",
        "# 1. Bar chart: overall class counts\n",
        "class_counts = elliptic_txs_classes_df.groupBy(\"label\").count().toPandas()\n",
        "plt.figure(figsize=(6,4))\n",
        "plt.bar(class_counts['label'], class_counts['count'])\n",
        "plt.title(\"Overall Transaction Class Counts\")\n",
        "plt.xlabel(\"Class\")\n",
        "plt.ylabel(\"Count\")\n",
        "plt.show()\n",
        "\n",
        "# 2. Line chart: transactions by time_step & label\n",
        "time_class_dist_pd = time_class_dist.toPandas()\n",
        "plt.figure(figsize=(8,5))\n",
        "for lbl in time_class_dist_pd['label'].unique():\n",
        "    subset = time_class_dist_pd[time_class_dist_pd['label']==lbl]\n",
        "    plt.plot(subset['time_step'], subset['count'], label=lbl)\n",
        "plt.title(\"Transactions Over Time by Class\")\n",
        "plt.xlabel(\"Time Step\")\n",
        "plt.ylabel(\"Count\")\n",
        "plt.legend()\n",
        "plt.show()\n",
        "\n",
        "# 3. Line chart: illicit % over time\n",
        "illicit_pct_by_time_pd = illicit_pct_by_time.toPandas()\n",
        "plt.figure(figsize=(8,4))\n",
        "plt.plot(illicit_pct_by_time_pd['time_step'], illicit_pct_by_time_pd['illicit_percentage'], marker='o')\n",
        "plt.title(\"Illicit Transaction Percentage by Time Step\")\n",
        "plt.xlabel(\"Time Step\")\n",
        "plt.ylabel(\"Illicit %\")\n",
        "plt.ylim(0,100)\n",
        "plt.show()\n"
      ],
      "outputs": [
        {
          "output_type": "display_data",
          "data": {
            "application/vnd.livy.statement-meta+json": {
              "spark_pool": "team14elliptic",
              "statement_id": 34,
              "statement_ids": [
                34
              ],
              "state": "finished",
              "livy_statement_state": "available",
              "spark_jobs": null,
              "session_id": "23",
              "normalized_state": "finished",
              "queued_time": "2025-05-05T21:57:00.7654259Z",
              "session_start_time": null,
              "execution_start_time": "2025-05-05T21:57:00.7667078Z",
              "execution_finish_time": "2025-05-05T21:57:06.1573207Z",
              "parent_msg_id": "2fadf23d-c861-418e-86e3-fe697379a08b"
            },
            "text/plain": "StatementMeta(team14elliptic, 23, 34, Finished, Available, Finished)"
          },
          "metadata": {}
        },
        {
          "output_type": "display_data",
          "data": {
            "text/plain": "<Figure size 600x400 with 1 Axes>",
            "image/png": "[encoded data removed]"
          },
          "metadata": {}
        },
        {
          "output_type": "display_data",
          "data": {
            "text/plain": "<Figure size 800x500 with 1 Axes>",
            "image/png": "[encoded data removed]"
          },
          "metadata": {}
        },
        {
          "output_type": "display_data",
          "data": {
            "text/plain": "<Figure size 800x400 with 1 Axes>",
            "image/png": "[encoded data removed]"
          },
          "metadata": {}
        }
      ],
      "execution_count": 66,
      "metadata": {}
    },
    {
      "cell_type": "code",
      "source": [
        "#Scatter of Degree Metrics by Class\n",
        "\n",
        "import matplotlib.pyplot as plt\n",
        "\n",
        "# Sample 10% of your supervised_data for plotting\n",
        "scatter_pd = supervised_data.select(\"in_degree\", \"out_degree\", \"label\") \\\n",
        "    .sample(False, 0.1, seed=42) \\\n",
        "    .toPandas()\n",
        "\n",
        "plt.figure(figsize=(6,6))\n",
        "for lbl in scatter_pd['label'].unique():\n",
        "    sub = scatter_pd[scatter_pd['label'] == lbl]\n",
        "    plt.scatter(sub['in_degree'], sub['out_degree'],\n",
        "                s=10, label=lbl, alpha=0.6)\n",
        "\n",
        "plt.title(\"Node In‑Degree vs. Out‑Degree by Class\")\n",
        "plt.xlabel(\"In‑Degree\")\n",
        "plt.ylabel(\"Out‑Degree\")\n",
        "plt.legend()\n",
        "plt.show()\n"
      ],
      "outputs": [
        {
          "output_type": "display_data",
          "data": {
            "application/vnd.livy.statement-meta+json": {
              "spark_pool": "team14elliptic",
              "statement_id": 36,
              "statement_ids": [
                36
              ],
              "state": "finished",
              "livy_statement_state": "available",
              "spark_jobs": null,
              "session_id": "23",
              "normalized_state": "finished",
              "queued_time": "2025-05-05T21:58:12.5792762Z",
              "session_start_time": null,
              "execution_start_time": "2025-05-05T21:58:12.5804807Z",
              "execution_finish_time": "2025-05-05T21:58:16.5725898Z",
              "parent_msg_id": "88a1ec14-7626-4bdf-9989-889c65b29ee6"
            },
            "text/plain": "StatementMeta(team14elliptic, 23, 36, Finished, Available, Finished)"
          },
          "metadata": {}
        },
        {
          "output_type": "display_data",
          "data": {
            "text/plain": "<Figure size 600x600 with 1 Axes>",
            "image/png": "[encoded data removed]"
          },
          "metadata": {}
        }
      ],
      "execution_count": 68,
      "metadata": {}
    },
    {
      "cell_type": "code",
      "source": [
        "#Top‑20 Feature Importances \n",
        "\n",
        "import matplotlib.pyplot as plt\n",
        "\n",
        "# Convert top-20 importances to Pandas\n",
        "fi_pd = feature_importance_df.toPandas().sort_values('importance', ascending=True)\n",
        "\n",
        "plt.figure(figsize=(6,8))\n",
        "plt.barh(fi_pd['feature'], fi_pd['importance'])\n",
        "plt.title(\"Top 20 Feature Importances (GBT Model)\")\n",
        "plt.xlabel(\"Importance Score\")\n",
        "plt.ylabel(\"Feature\")\n",
        "plt.show()\n"
      ],
      "outputs": [
        {
          "output_type": "display_data",
          "data": {
            "application/vnd.livy.statement-meta+json": {
              "spark_pool": "team14elliptic",
              "statement_id": 37,
              "statement_ids": [
                37
              ],
              "state": "finished",
              "livy_statement_state": "available",
              "spark_jobs": null,
              "session_id": "23",
              "normalized_state": "finished",
              "queued_time": "2025-05-05T21:58:31.293404Z",
              "session_start_time": null,
              "execution_start_time": "2025-05-05T21:58:31.2944633Z",
              "execution_finish_time": "2025-05-05T21:58:31.8856206Z",
              "parent_msg_id": "58c26fa1-c878-4c58-bc26-57b40a56eee2"
            },
            "text/plain": "StatementMeta(team14elliptic, 23, 37, Finished, Available, Finished)"
          },
          "metadata": {}
        },
        {
          "output_type": "display_data",
          "data": {
            "text/plain": "<Figure size 600x800 with 1 Axes>",
            "image/png": "[encoded data removed]"
          },
          "metadata": {}
        }
      ],
      "execution_count": 69,
      "metadata": {}
    },
    {
      "cell_type": "code",
      "source": [
        "#Degree Distribution Histograms \n",
        "\n",
        "import matplotlib.pyplot as plt\n",
        "\n",
        "# Pull to Pandas\n",
        "deg_pd = supervised_data.select(\"in_degree\", \"out_degree\").toPandas()\n",
        "\n",
        "plt.figure(figsize=(12,4))\n",
        "\n",
        "# In‑degree histogram\n",
        "plt.subplot(1,2,1)\n",
        "plt.hist(deg_pd['in_degree'], bins=50)\n",
        "plt.title('In‑Degree Distribution')\n",
        "plt.xlabel('In‑Degree')\n",
        "plt.ylabel('Frequency')\n",
        "\n",
        "# Out‑degree histogram\n",
        "plt.subplot(1,2,2)\n",
        "plt.hist(deg_pd['out_degree'], bins=50)\n",
        "plt.title('Out‑Degree Distribution')\n",
        "plt.xlabel('Out‑Degree')\n",
        "plt.ylabel('Frequency')\n",
        "\n",
        "plt.tight_layout()\n",
        "plt.show()\n"
      ],
      "outputs": [
        {
          "output_type": "display_data",
          "data": {
            "application/vnd.livy.statement-meta+json": {
              "spark_pool": "team14elliptic",
              "statement_id": 39,
              "statement_ids": [
                39
              ],
              "state": "finished",
              "livy_statement_state": "available",
              "spark_jobs": null,
              "session_id": "23",
              "normalized_state": "finished",
              "queued_time": "2025-05-05T21:59:36.4009716Z",
              "session_start_time": null,
              "execution_start_time": "2025-05-05T21:59:36.4021424Z",
              "execution_finish_time": "2025-05-05T21:59:41.0659043Z",
              "parent_msg_id": "d74ee237-9e61-4296-a5ad-b01dac8654b8"
            },
            "text/plain": "StatementMeta(team14elliptic, 23, 39, Finished, Available, Finished)"
          },
          "metadata": {}
        },
        {
          "output_type": "display_data",
          "data": {
            "text/plain": "<Figure size 1200x400 with 2 Axes>",
            "image/png": "[encoded data removed]"
          },
          "metadata": {}
        }
      ],
      "execution_count": 71,
      "metadata": {}
    },
    {
      "cell_type": "code",
      "source": [
        "#ROC & Precision‑Recall Curves (GBT Model)\n",
        "\n",
        "from sklearn.metrics import roc_curve, precision_recall_curve, auc\n",
        "import matplotlib.pyplot as plt\n",
        "\n",
        "# Convert Spark preds to Pandas\n",
        "preds_pd = gbt_predictions.select(\"probability\", \"label_numeric\").toPandas()\n",
        "preds_pd['score'] = preds_pd['probability'].apply(lambda v: float(v[1]))\n",
        "y_true = preds_pd['label_numeric']\n",
        "y_score = preds_pd['score']\n",
        "\n",
        "# ROC Curve\n",
        "fpr, tpr, _ = roc_curve(y_true, y_score)\n",
        "roc_auc = auc(fpr, tpr)\n",
        "plt.figure(figsize=(6,6))\n",
        "plt.plot(fpr, tpr, label=f'GBT ROC (AUC={roc_auc:.2f})')\n",
        "plt.plot([0,1],[0,1],'k--')\n",
        "plt.xlabel('False Positive Rate')\n",
        "plt.ylabel('True Positive Rate')\n",
        "plt.title('ROC Curve')\n",
        "plt.legend()\n",
        "plt.show()\n",
        "\n",
        "# Precision‑Recall Curve\n",
        "precision, recall, _ = precision_recall_curve(y_true, y_score)\n",
        "pr_auc = auc(recall, precision)\n",
        "plt.figure(figsize=(6,6))\n",
        "plt.plot(recall, precision, label=f'GBT PR (AUC={pr_auc:.2f})')\n",
        "plt.xlabel('Recall')\n",
        "plt.ylabel('Precision')\n",
        "plt.title('Precision‑Recall Curve')\n",
        "plt.legend()\n",
        "plt.show()\n"
      ],
      "outputs": [
        {
          "output_type": "display_data",
          "data": {
            "application/vnd.livy.statement-meta+json": {
              "spark_pool": "team14elliptic",
              "statement_id": 40,
              "statement_ids": [
                40
              ],
              "state": "finished",
              "livy_statement_state": "available",
              "spark_jobs": null,
              "session_id": "23",
              "normalized_state": "finished",
              "queued_time": "2025-05-05T21:59:52.4696694Z",
              "session_start_time": null,
              "execution_start_time": "2025-05-05T21:59:52.4708954Z",
              "execution_finish_time": "2025-05-05T21:59:56.4577798Z",
              "parent_msg_id": "e6c0a753-f056-4579-a527-88fa15e0f9ee"
            },
            "text/plain": "StatementMeta(team14elliptic, 23, 40, Finished, Available, Finished)"
          },
          "metadata": {}
        },
        {
          "output_type": "stream",
          "name": "stderr",
          "text": [
            "/opt/spark/python/lib/pyspark.zip/pyspark/sql/pandas/conversion.py:117: UserWarning: toPandas attempted Arrow optimization because 'spark.sql.execution.arrow.pyspark.enabled' is set to true; however, failed by the reason below:\n  Unsupported type in conversion to Arrow: VectorUDT()\nAttempting non-optimization as 'spark.sql.execution.arrow.pyspark.fallback.enabled' is set to true.\n  warn(msg)\n"
          ]
        },
        {
          "output_type": "display_data",
          "data": {
            "text/plain": "<Figure size 600x600 with 1 Axes>",
            "image/png": "[encoded data removed]"
          },
          "metadata": {}
        },
        {
          "output_type": "display_data",
          "data": {
            "text/plain": "<Figure size 600x600 with 1 Axes>",
            "image/png": "[encoded data removed]"
          },
          "metadata": {}
        }
      ],
      "execution_count": 72,
      "metadata": {}
    },
    {
      "cell_type": "code",
      "source": [
        "#Confusion Matrix Heatmap \n",
        "\n",
        "import seaborn as sns\n",
        "import matplotlib.pyplot as plt\n",
        "from sklearn.metrics import confusion_matrix\n",
        "\n",
        "# Compute confusion matrix at threshold=0.5\n",
        "y_pred = (y_score >= 0.5).astype(int)\n",
        "cm = confusion_matrix(y_true, y_pred)\n",
        "\n",
        "plt.figure(figsize=(4,4))\n",
        "sns.heatmap(cm, annot=True, fmt='d', cmap='Blues')\n",
        "plt.xlabel('Predicted Label')\n",
        "plt.ylabel('True Label')\n",
        "plt.title('GBT Confusion Matrix (thr=0.5)')\n",
        "plt.show()\n"
      ],
      "outputs": [
        {
          "output_type": "display_data",
          "data": {
            "application/vnd.livy.statement-meta+json": {
              "spark_pool": "team14elliptic",
              "statement_id": 41,
              "statement_ids": [
                41
              ],
              "state": "finished",
              "livy_statement_state": "available",
              "spark_jobs": null,
              "session_id": "23",
              "normalized_state": "finished",
              "queued_time": "2025-05-05T22:00:11.1109698Z",
              "session_start_time": null,
              "execution_start_time": "2025-05-05T22:00:11.1121862Z",
              "execution_finish_time": "2025-05-05T22:00:11.8086959Z",
              "parent_msg_id": "fa2b0487-94e7-45e6-b47d-0235d81d7a87"
            },
            "text/plain": "StatementMeta(team14elliptic, 23, 41, Finished, Available, Finished)"
          },
          "metadata": {}
        },
        {
          "output_type": "display_data",
          "data": {
            "text/plain": "<Figure size 400x400 with 2 Axes>",
            "image/png": "[encoded data removed]"
          },
          "metadata": {}
        }
      ],
      "execution_count": 73,
      "metadata": {}
    },
    {
      "cell_type": "code",
      "source": [
        "from sklearn.decomposition import PCA\n",
        "import matplotlib.pyplot as plt\n",
        "\n",
        "# Sample and to Pandas\n",
        "pca_pd = supervised_data.select(*feature_cols, \"label_numeric\")\\\n",
        "            .sample(False, 0.1, seed=42).toPandas()\n",
        "\n",
        "pca = PCA(n_components=2)\n",
        "coords = pca.fit_transform(pca_pd[feature_cols])\n",
        "\n",
        "plt.figure(figsize=(6,6))\n",
        "plt.scatter(coords[:,0], coords[:,1], c=pca_pd['label_numeric'],\n",
        "            cmap='coolwarm', s=10, alpha=0.7)\n",
        "plt.xlabel('PC1'); plt.ylabel('PC2')\n",
        "plt.title('PCA 2‑Component Projection')\n",
        "plt.show()\n"
      ],
      "outputs": [
        {
          "output_type": "display_data",
          "data": {
            "application/vnd.livy.statement-meta+json": {
              "spark_pool": "team14elliptic",
              "statement_id": 43,
              "statement_ids": [
                43
              ],
              "state": "finished",
              "livy_statement_state": "available",
              "spark_jobs": null,
              "session_id": "23",
              "normalized_state": "finished",
              "queued_time": "2025-05-05T22:00:53.7441079Z",
              "session_start_time": null,
              "execution_start_time": "2025-05-05T22:00:53.7451657Z",
              "execution_finish_time": "2025-05-05T22:00:59.0896608Z",
              "parent_msg_id": "a5386834-25f3-496b-992e-69ac57cb3002"
            },
            "text/plain": "StatementMeta(team14elliptic, 23, 43, Finished, Available, Finished)"
          },
          "metadata": {}
        },
        {
          "output_type": "display_data",
          "data": {
            "text/plain": "<Figure size 600x600 with 1 Axes>",
            "image/png": "[encoded data removed]"
          },
          "metadata": {}
        }
      ],
      "execution_count": 75,
      "metadata": {}
    },
    {
      "cell_type": "code",
      "source": [
        "#Visualization Block 10: t‑SNE 2D Projection \n",
        "\n",
        "from sklearn.manifold import TSNE\n",
        "import matplotlib.pyplot as plt\n",
        "\n",
        "# Smaller sample for t‑SNE\n",
        "tsne_pd = supervised_data.select(*feature_cols, \"label_numeric\")\\\n",
        "             .sample(False, 0.05, seed=42).toPandas()\n",
        "\n",
        "tsne = TSNE(n_components=2, random_state=42)\n",
        "emb = tsne.fit_transform(tsne_pd[feature_cols])\n",
        "\n",
        "plt.figure(figsize=(6,6))\n",
        "plt.scatter(emb[:,0], emb[:,1], c=tsne_pd['label_numeric'],\n",
        "            cmap='viridis', s=10, alpha=0.7)\n",
        "plt.xlabel('t‑SNE 1'); plt.ylabel('t‑SNE 2')\n",
        "plt.title('t‑SNE Projection of Transactions')\n",
        "plt.show()\n"
      ],
      "outputs": [
        {
          "output_type": "display_data",
          "data": {
            "application/vnd.livy.statement-meta+json": {
              "spark_pool": "team14elliptic",
              "statement_id": 44,
              "statement_ids": [
                44
              ],
              "state": "finished",
              "livy_statement_state": "available",
              "spark_jobs": null,
              "session_id": "23",
              "normalized_state": "finished",
              "queued_time": "2025-05-05T22:01:06.2349395Z",
              "session_start_time": null,
              "execution_start_time": "2025-05-05T22:01:06.2361202Z",
              "execution_finish_time": "2025-05-05T22:01:11.8139483Z",
              "parent_msg_id": "f7412011-6341-43ab-a896-c2f0607e8612"
            },
            "text/plain": "StatementMeta(team14elliptic, 23, 44, Finished, Available, Finished)"
          },
          "metadata": {}
        },
        {
          "output_type": "display_data",
          "data": {
            "text/plain": "<Figure size 600x600 with 1 Axes>",
            "image/png": "[encoded data removed]"
          },
          "metadata": {}
        }
      ],
      "execution_count": 76,
      "metadata": {}
    },
    {
      "cell_type": "code",
      "source": [
        "# The error shows permissions issues with SQL operations and directory deletion\n",
        "\n",
        "# 11. Simplified approach to save the cleaned and processed data to Gold container\n",
        "# ------------------------------------------------------\n",
        "\n",
        "# Simple function to save dataframes to Azure storage without SQL operations\n",
        "def save_data_simple(df, name):\n",
        "    try:\n",
        "        # Use a simple write with a unique path to avoid conflicts\n",
        "        import time\n",
        "        timestamp = int(time.time())\n",
        "        \n",
        "        # Save as CSV with timestamp to avoid conflicts\n",
        "        output_path = f\"wasbs://team14-blobcontainer@{storage_account_name}.blob.core.windows.net/Gold/{name}_{timestamp}\"\n",
        "        \n",
        "        df.write.format(\"csv\") \\\n",
        "            .option(\"header\", \"true\") \\\n",
        "            .mode(\"overwrite\") \\\n",
        "            .save(output_path)\n",
        "        \n",
        "        print(f\"Successfully saved {name} to {output_path}\")\n",
        "        return output_path\n",
        "    except Exception as e:\n",
        "        print(f\"Error saving {name}: {str(e)}\")\n",
        "        return None\n",
        "\n",
        "# Save the main datasets with the simplified approach\n",
        "print(\"Saving processed datasets to Gold container...\")\n",
        "\n",
        "# Save only the most essential datasets to minimize errors\n",
        "datasets = {\n",
        "    \"features_enhanced\": features_enhanced,\n",
        "    \"supervised_data\": supervised_data, \n",
        "    \"model_predictions\": gbt_predictions\n",
        "}\n",
        "\n",
        "saved_paths = {}\n",
        "for name, df in datasets.items():\n",
        "    path = save_data_simple(df, name)\n",
        "    if path:\n",
        "        saved_paths[name] = path\n",
        "\n",
        "# Create summary files with key statistics\n",
        "# These are smaller and more likely to save successfully\n",
        "\n",
        "# 1. Class distribution summary\n",
        "class_summary = supervised_data.groupBy(\"label\").count()\n",
        "save_data_simple(class_summary, \"class_distribution\")\n",
        "\n",
        "# 2. Feature importance summary (top features only)\n",
        "feature_importances = best_gbt_model.stages[-1].featureImportances.toArray()\n",
        "feature_names = feature_cols\n",
        "\n",
        "# Create a DataFrame with feature importance - just top 20 features\n",
        "from pyspark.sql.types import StructType, StructField, StringType, DoubleType\n",
        "import pandas as pd\n",
        "\n",
        "# Convert to pandas then back to Spark DataFrame\n",
        "feature_imp_pd = pd.DataFrame({\n",
        "    'feature': feature_names,\n",
        "    'importance': feature_importances\n",
        "})\n",
        "feature_imp_pd = feature_imp_pd.sort_values('importance', ascending=False).head(20)\n",
        "\n",
        "feature_imp_schema = StructType([\n",
        "    StructField(\"feature\", StringType(), True),\n",
        "    StructField(\"importance\", DoubleType(), True)\n",
        "])\n",
        "\n",
        "feature_importance_df = spark.createDataFrame(feature_imp_pd, schema=feature_imp_schema)\n",
        "save_data_simple(feature_importance_df, \"top_feature_importance\")\n",
        "\n",
        "# 3. Model performance metrics summary\n",
        "from pyspark.sql.types import StructType, StructField, StringType, DoubleType\n",
        "\n",
        "# Create a small DataFrame with just the performance metrics\n",
        "metrics_data = [\n",
        "    (\"Isolation Forest\", float(isolation_auc), None, None, None),\n",
        "    (\"XGBoost\", float(gbt_auc), float(precision), float(recall), float(f1))\n",
        "]\n",
        "metrics_schema = StructType([\n",
        "    StructField(\"model\", StringType(), True),\n",
        "    StructField(\"auc\", DoubleType(), True),\n",
        "    StructField(\"precision\", DoubleType(), True),\n",
        "    StructField(\"recall\", DoubleType(), True),\n",
        "    StructField(\"f1\", DoubleType(), True)\n",
        "])\n",
        "metrics_df = spark.createDataFrame(metrics_data, schema=metrics_schema)\n",
        "save_data_simple(metrics_df, \"model_metrics\")"
      ],
      "outputs": [
        {
          "output_type": "display_data",
          "data": {
            "application/vnd.livy.statement-meta+json": {
              "spark_pool": "team14elliptic",
              "statement_id": 27,
              "statement_ids": [
                27
              ],
              "state": "finished",
              "livy_statement_state": "available",
              "spark_jobs": null,
              "session_id": "23",
              "normalized_state": "finished",
              "queued_time": "2025-05-05T21:32:51.1426676Z",
              "session_start_time": null,
              "execution_start_time": "2025-05-05T21:32:51.144057Z",
              "execution_finish_time": "2025-05-05T21:33:21.1130354Z",
              "parent_msg_id": "9d2bc924-497f-444f-9a16-5d13d2f75048"
            },
            "text/plain": "StatementMeta(team14elliptic, 23, 27, Finished, Available, Finished)"
          },
          "metadata": {}
        },
        {
          "output_type": "stream",
          "name": "stdout",
          "text": [
            "Saving processed datasets to Gold container...\nError saving features_enhanced: An error occurred while calling o42221.save.\n: org.apache.hadoop.fs.azure.AzureException: com.microsoft.azure.storage.StorageException: This operation is not permitted on a non-empty directory.\n\tat org.apache.hadoop.fs.azure.AzureNativeFileSystemStore.delete(AzureNativeFileSystemStore.java:2720)\n\tat org.apache.hadoop.fs.azure.AzureNativeFileSystemStore.delete(AzureNativeFileSystemStore.java:2730)\n\tat org.apache.hadoop.fs.azure.NativeAzureFileSystem.deleteFile(NativeAzureFileSystem.java:2670)\n\tat org.apache.hadoop.fs.azure.NativeAzureFileSystem$2.execute(NativeAzureFileSystem.java:2421)\n\tat org.apache.hadoop.fs.azure.AzureFileSystemThreadPoolExecutor.executeParallel(AzureFileSystemThreadPoolExecutor.java:223)\n\tat org.apache.hadoop.fs.azure.NativeAzureFileSystem.deleteWithoutAuth(NativeAzureFileSystem.java:2433)\n\tat org.apache.hadoop.fs.azure.NativeAzureFileSystem.delete(NativeAzureFileSystem.java:2483)\n\tat org.apache.hadoop.fs.azure.NativeAzureFileSystem.delete(NativeAzureFileSystem.java:1977)\n\tat org.apache.hadoop.mapreduce.lib.output.FileOutputCommitter.cleanupJob(FileOutputCommitter.java:561)\n\tat org.apache.hadoop.mapreduce.lib.output.FileOutputCommitter.commitJobInternal(FileOutputCommitter.java:444)\n\tat org.apache.hadoop.mapreduce.lib.output.FileOutputCommitter.commitJob(FileOutputCommitter.java:405)\n\tat org.apache.spark.internal.io.HadoopMapReduceCommitProtocol.commitJob(HadoopMapReduceCommitProtocol.scala:233)\n\tat org.apache.spark.sql.execution.datasources.FileFormatWriter$.$anonfun$writeAndCommit$3(FileFormatWriter.scala:313)\n\tat scala.runtime.java8.JFunction0$mcV$sp.apply(JFunction0$mcV$sp.java:23)\n\tat org.apache.spark.util.Utils$.timeTakenMs(Utils.scala:640)\n\tat org.apache.spark.sql.execution.datasources.FileFormatWriter$.writeAndCommit(FileFormatWriter.scala:313)\n\tat org.apache.spark.sql.execution.datasources.FileFormatWriter$.executeWrite(FileFormatWriter.scala:351)\n\tat org.apache.spark.sql.execution.datasources.FileFormatWriter$.write(FileFormatWriter.scala:217)\n\tat org.apache.spark.sql.execution.datasources.InsertIntoHadoopFsRelationCommand.run(InsertIntoHadoopFsRelationCommand.scala:191)\n\tat org.apache.spark.sql.execution.command.DataWritingCommandExec.sideEffectResult$lzycompute(commands.scala:113)\n\tat org.apache.spark.sql.execution.command.DataWritingCommandExec.sideEffectResult(commands.scala:111)\n\tat org.apache.spark.sql.execution.command.DataWritingCommandExec.executeCollect(commands.scala:125)\n\tat org.apache.spark.sql.execution.adaptive.AdaptiveSparkPlanExec.$anonfun$executeCollect$1(AdaptiveSparkPlanExec.scala:369)\n\tat org.apache.spark.sql.execution.adaptive.AdaptiveSparkPlanExec.withFinalPlanUpdate(AdaptiveSparkPlanExec.scala:397)\n\tat org.apache.spark.sql.execution.adaptive.AdaptiveSparkPlanExec.executeCollect(AdaptiveSparkPlanExec.scala:369)\n\tat org.apache.spark.sql.execution.QueryExecution$$anonfun$eagerlyExecuteCommands$1.$anonfun$applyOrElse$1(QueryExecution.scala:152)\n\tat org.apache.spark.sql.execution.SQLExecution$.$anonfun$withNewExecutionId$5(SQLExecution.scala:125)\n\tat org.apache.spark.sql.execution.SQLExecution$.withSQLConfPropagated(SQLExecution.scala:214)\n\tat org.apache.spark.sql.execution.SQLExecution$.$anonfun$withNewExecutionId$1(SQLExecution.scala:100)\n\tat org.apache.spark.sql.SparkSession.withActive(SparkSession.scala:827)\n\tat org.apache.spark.sql.execution.SQLExecution$.withNewExecutionId(SQLExecution.scala:67)\n\tat org.apache.spark.sql.execution.QueryExecution$$anonfun$eagerlyExecuteCommands$1.applyOrElse(QueryExecution.scala:152)\n\tat org.apache.spark.sql.execution.QueryExecution$$anonfun$eagerlyExecuteCommands$1.applyOrElse(QueryExecution.scala:145)\n\tat org.apache.spark.sql.catalyst.trees.TreeNode.$anonfun$transformDownWithPruning$1(TreeNode.scala:512)\n\tat org.apache.spark.sql.catalyst.trees.CurrentOrigin$.withOrigin(TreeNode.scala:104)\n\tat org.apache.spark.sql.catalyst.trees.TreeNode.transformDownWithPruning(TreeNode.scala:512)\n\tat org.apache.spark.sql.catalyst.plans.logical.LogicalPlan.org$apache$spark$sql$catalyst$plans$logical$AnalysisHelper$$super$transformDownWithPruning(LogicalPlan.scala:32)\n\tat org.apache.spark.sql.catalyst.plans.logical.AnalysisHelper.transformDownWithPruning(AnalysisHelper.scala:267)\n\tat org.apache.spark.sql.catalyst.plans.logical.AnalysisHelper.transformDownWithPruning$(AnalysisHelper.scala:263)\n\tat org.apache.spark.sql.catalyst.plans.logical.LogicalPlan.transformDownWithPruning(LogicalPlan.scala:32)\n\tat org.apache.spark.sql.catalyst.plans.logical.LogicalPlan.transformDownWithPruning(LogicalPlan.scala:32)\n\tat org.apache.spark.sql.catalyst.trees.TreeNode.transformDown(TreeNode.scala:488)\n\tat org.apache.spark.sql.execution.QueryExecution.eagerlyExecuteCommands(QueryExecution.scala:145)\n\tat org.apache.spark.sql.execution.QueryExecution.commandExecuted$lzycompute(QueryExecution.scala:129)\n\tat org.apache.spark.sql.execution.QueryExecution.commandExecuted(QueryExecution.scala:123)\n\tat org.apache.spark.sql.execution.QueryExecution.assertCommandExecuted(QueryExecution.scala:200)\n\tat org.apache.spark.sql.DataFrameWriter.runCommand(DataFrameWriter.scala:897)\n\tat org.apache.spark.sql.DataFrameWriter.saveToV1Source(DataFrameWriter.scala:412)\n\tat org.apache.spark.sql.DataFrameWriter.saveInternal(DataFrameWriter.scala:379)\n\tat org.apache.spark.sql.DataFrameWriter.save(DataFrameWriter.scala:241)\n\tat java.base/jdk.internal.reflect.NativeMethodAccessorImpl.invoke0(Native Method)\n\tat java.base/jdk.internal.reflect.NativeMethodAccessorImpl.invoke(NativeMethodAccessorImpl.java:62)\n\tat java.base/jdk.internal.reflect.DelegatingMethodAccessorImpl.invoke(DelegatingMethodAccessorImpl.java:43)\n\tat java.base/java.lang.reflect.Method.invoke(Method.java:566)\n\tat py4j.reflection.MethodInvoker.invoke(MethodInvoker.java:244)\n\tat py4j.reflection.ReflectionEngine.invoke(ReflectionEngine.java:374)\n\tat py4j.Gateway.invoke(Gateway.java:282)\n\tat py4j.commands.AbstractCommand.invokeMethod(AbstractCommand.java:132)\n\tat py4j.commands.CallCommand.execute(CallCommand.java:79)\n\tat py4j.GatewayConnection.run(GatewayConnection.java:238)\n\tat java.base/java.lang.Thread.run(Thread.java:829)\nCaused by: com.microsoft.azure.storage.StorageException: This operation is not permitted on a non-empty directory.\n\tat com.microsoft.azure.storage.StorageException.translateException(StorageException.java:87)\n\tat com.microsoft.azure.storage.core.StorageRequest.materializeException(StorageRequest.java:315)\n\tat com.microsoft.azure.storage.core.ExecutionEngine.executeWithRetry(ExecutionEngine.java:185)\n\tat com.microsoft.azure.storage.blob.CloudBlob.delete(CloudBlob.java:981)\n\tat org.apache.hadoop.fs.azure.StorageInterfaceImpl$CloudBlobWrapperImpl.delete(StorageInterfaceImpl.java:314)\n\tat org.apache.hadoop.fs.azure.AzureNativeFileSystemStore.safeDelete(AzureNativeFileSystemStore.java:2672)\n\tat org.apache.hadoop.fs.azure.AzureNativeFileSystemStore.delete(AzureNativeFileSystemStore.java:2711)\n\t... 60 more\n\nError saving supervised_data: An error occurred while calling o42227.save.\n: org.apache.hadoop.fs.azure.AzureException: com.microsoft.azure.storage.StorageException: This operation is not permitted on a non-empty directory.\n\tat org.apache.hadoop.fs.azure.AzureNativeFileSystemStore.delete(AzureNativeFileSystemStore.java:2720)\n\tat org.apache.hadoop.fs.azure.AzureNativeFileSystemStore.delete(AzureNativeFileSystemStore.java:2730)\n\tat org.apache.hadoop.fs.azure.NativeAzureFileSystem.deleteFile(NativeAzureFileSystem.java:2670)\n\tat org.apache.hadoop.fs.azure.NativeAzureFileSystem$2.execute(NativeAzureFileSystem.java:2421)\n\tat org.apache.hadoop.fs.azure.AzureFileSystemThreadPoolExecutor.executeParallel(AzureFileSystemThreadPoolExecutor.java:223)\n\tat org.apache.hadoop.fs.azure.NativeAzureFileSystem.deleteWithoutAuth(NativeAzureFileSystem.java:2433)\n\tat org.apache.hadoop.fs.azure.NativeAzureFileSystem.delete(NativeAzureFileSystem.java:2483)\n\tat org.apache.hadoop.fs.azure.NativeAzureFileSystem.delete(NativeAzureFileSystem.java:1977)\n\tat org.apache.hadoop.mapreduce.lib.output.FileOutputCommitter.cleanupJob(FileOutputCommitter.java:561)\n\tat org.apache.hadoop.mapreduce.lib.output.FileOutputCommitter.commitJobInternal(FileOutputCommitter.java:444)\n\tat org.apache.hadoop.mapreduce.lib.output.FileOutputCommitter.commitJob(FileOutputCommitter.java:405)\n\tat org.apache.spark.internal.io.HadoopMapReduceCommitProtocol.commitJob(HadoopMapReduceCommitProtocol.scala:233)\n\tat org.apache.spark.sql.execution.datasources.FileFormatWriter$.$anonfun$writeAndCommit$3(FileFormatWriter.scala:313)\n\tat scala.runtime.java8.JFunction0$mcV$sp.apply(JFunction0$mcV$sp.java:23)\n\tat org.apache.spark.util.Utils$.timeTakenMs(Utils.scala:640)\n\tat org.apache.spark.sql.execution.datasources.FileFormatWriter$.writeAndCommit(FileFormatWriter.scala:313)\n\tat org.apache.spark.sql.execution.datasources.FileFormatWriter$.executeWrite(FileFormatWriter.scala:351)\n\tat org.apache.spark.sql.execution.datasources.FileFormatWriter$.write(FileFormatWriter.scala:217)\n\tat org.apache.spark.sql.execution.datasources.InsertIntoHadoopFsRelationCommand.run(InsertIntoHadoopFsRelationCommand.scala:191)\n\tat org.apache.spark.sql.execution.command.DataWritingCommandExec.sideEffectResult$lzycompute(commands.scala:113)\n\tat org.apache.spark.sql.execution.command.DataWritingCommandExec.sideEffectResult(commands.scala:111)\n\tat org.apache.spark.sql.execution.command.DataWritingCommandExec.executeCollect(commands.scala:125)\n\tat org.apache.spark.sql.execution.adaptive.AdaptiveSparkPlanExec.$anonfun$executeCollect$1(AdaptiveSparkPlanExec.scala:369)\n\tat org.apache.spark.sql.execution.adaptive.AdaptiveSparkPlanExec.withFinalPlanUpdate(AdaptiveSparkPlanExec.scala:397)\n\tat org.apache.spark.sql.execution.adaptive.AdaptiveSparkPlanExec.executeCollect(AdaptiveSparkPlanExec.scala:369)\n\tat org.apache.spark.sql.execution.QueryExecution$$anonfun$eagerlyExecuteCommands$1.$anonfun$applyOrElse$1(QueryExecution.scala:152)\n\tat org.apache.spark.sql.execution.SQLExecution$.$anonfun$withNewExecutionId$5(SQLExecution.scala:125)\n\tat org.apache.spark.sql.execution.SQLExecution$.withSQLConfPropagated(SQLExecution.scala:214)\n\tat org.apache.spark.sql.execution.SQLExecution$.$anonfun$withNewExecutionId$1(SQLExecution.scala:100)\n\tat org.apache.spark.sql.SparkSession.withActive(SparkSession.scala:827)\n\tat org.apache.spark.sql.execution.SQLExecution$.withNewExecutionId(SQLExecution.scala:67)\n\tat org.apache.spark.sql.execution.QueryExecution$$anonfun$eagerlyExecuteCommands$1.applyOrElse(QueryExecution.scala:152)\n\tat org.apache.spark.sql.execution.QueryExecution$$anonfun$eagerlyExecuteCommands$1.applyOrElse(QueryExecution.scala:145)\n\tat org.apache.spark.sql.catalyst.trees.TreeNode.$anonfun$transformDownWithPruning$1(TreeNode.scala:512)\n\tat org.apache.spark.sql.catalyst.trees.CurrentOrigin$.withOrigin(TreeNode.scala:104)\n\tat org.apache.spark.sql.catalyst.trees.TreeNode.transformDownWithPruning(TreeNode.scala:512)\n\tat org.apache.spark.sql.catalyst.plans.logical.LogicalPlan.org$apache$spark$sql$catalyst$plans$logical$AnalysisHelper$$super$transformDownWithPruning(LogicalPlan.scala:32)\n\tat org.apache.spark.sql.catalyst.plans.logical.AnalysisHelper.transformDownWithPruning(AnalysisHelper.scala:267)\n\tat org.apache.spark.sql.catalyst.plans.logical.AnalysisHelper.transformDownWithPruning$(AnalysisHelper.scala:263)\n\tat org.apache.spark.sql.catalyst.plans.logical.LogicalPlan.transformDownWithPruning(LogicalPlan.scala:32)\n\tat org.apache.spark.sql.catalyst.plans.logical.LogicalPlan.transformDownWithPruning(LogicalPlan.scala:32)\n\tat org.apache.spark.sql.catalyst.trees.TreeNode.transformDown(TreeNode.scala:488)\n\tat org.apache.spark.sql.execution.QueryExecution.eagerlyExecuteCommands(QueryExecution.scala:145)\n\tat org.apache.spark.sql.execution.QueryExecution.commandExecuted$lzycompute(QueryExecution.scala:129)\n\tat org.apache.spark.sql.execution.QueryExecution.commandExecuted(QueryExecution.scala:123)\n\tat org.apache.spark.sql.execution.QueryExecution.assertCommandExecuted(QueryExecution.scala:200)\n\tat org.apache.spark.sql.DataFrameWriter.runCommand(DataFrameWriter.scala:897)\n\tat org.apache.spark.sql.DataFrameWriter.saveToV1Source(DataFrameWriter.scala:412)\n\tat org.apache.spark.sql.DataFrameWriter.saveInternal(DataFrameWriter.scala:379)\n\tat org.apache.spark.sql.DataFrameWriter.save(DataFrameWriter.scala:241)\n\tat java.base/jdk.internal.reflect.NativeMethodAccessorImpl.invoke0(Native Method)\n\tat java.base/jdk.internal.reflect.NativeMethodAccessorImpl.invoke(NativeMethodAccessorImpl.java:62)\n\tat java.base/jdk.internal.reflect.DelegatingMethodAccessorImpl.invoke(DelegatingMethodAccessorImpl.java:43)\n\tat java.base/java.lang.reflect.Method.invoke(Method.java:566)\n\tat py4j.reflection.MethodInvoker.invoke(MethodInvoker.java:244)\n\tat py4j.reflection.ReflectionEngine.invoke(ReflectionEngine.java:374)\n\tat py4j.Gateway.invoke(Gateway.java:282)\n\tat py4j.commands.AbstractCommand.invokeMethod(AbstractCommand.java:132)\n\tat py4j.commands.CallCommand.execute(CallCommand.java:79)\n\tat py4j.GatewayConnection.run(GatewayConnection.java:238)\n\tat java.base/java.lang.Thread.run(Thread.java:829)\nCaused by: com.microsoft.azure.storage.StorageException: This operation is not permitted on a non-empty directory.\n\tat com.microsoft.azure.storage.StorageException.translateException(StorageException.java:87)\n\tat com.microsoft.azure.storage.core.StorageRequest.materializeException(StorageRequest.java:315)\n\tat com.microsoft.azure.storage.core.ExecutionEngine.executeWithRetry(ExecutionEngine.java:185)\n\tat com.microsoft.azure.storage.blob.CloudBlob.delete(CloudBlob.java:981)\n\tat org.apache.hadoop.fs.azure.StorageInterfaceImpl$CloudBlobWrapperImpl.delete(StorageInterfaceImpl.java:314)\n\tat org.apache.hadoop.fs.azure.AzureNativeFileSystemStore.safeDelete(AzureNativeFileSystemStore.java:2672)\n\tat org.apache.hadoop.fs.azure.AzureNativeFileSystemStore.delete(AzureNativeFileSystemStore.java:2711)\n\t... 60 more\n\nError saving model_predictions: Column `features` has a data type of struct<type:tinyint,size:int,indices:array<int>,values:array<double>>, which is not supported by CSV.\nError saving class_distribution: An error occurred while calling o42244.save.\n: org.apache.hadoop.fs.azure.AzureException: com.microsoft.azure.storage.StorageException: This operation is not permitted on a non-empty directory.\n\tat org.apache.hadoop.fs.azure.AzureNativeFileSystemStore.delete(AzureNativeFileSystemStore.java:2720)\n\tat org.apache.hadoop.fs.azure.AzureNativeFileSystemStore.delete(AzureNativeFileSystemStore.java:2730)\n\tat org.apache.hadoop.fs.azure.NativeAzureFileSystem.deleteFile(NativeAzureFileSystem.java:2670)\n\tat org.apache.hadoop.fs.azure.NativeAzureFileSystem$2.execute(NativeAzureFileSystem.java:2421)\n\tat org.apache.hadoop.fs.azure.AzureFileSystemThreadPoolExecutor.executeParallel(AzureFileSystemThreadPoolExecutor.java:223)\n\tat org.apache.hadoop.fs.azure.NativeAzureFileSystem.deleteWithoutAuth(NativeAzureFileSystem.java:2433)\n\tat org.apache.hadoop.fs.azure.NativeAzureFileSystem.delete(NativeAzureFileSystem.java:2483)\n\tat org.apache.hadoop.fs.azure.NativeAzureFileSystem.delete(NativeAzureFileSystem.java:1977)\n\tat org.apache.hadoop.mapreduce.lib.output.FileOutputCommitter.cleanupJob(FileOutputCommitter.java:561)\n\tat org.apache.hadoop.mapreduce.lib.output.FileOutputCommitter.commitJobInternal(FileOutputCommitter.java:444)\n\tat org.apache.hadoop.mapreduce.lib.output.FileOutputCommitter.commitJob(FileOutputCommitter.java:405)\n\tat org.apache.spark.internal.io.HadoopMapReduceCommitProtocol.commitJob(HadoopMapReduceCommitProtocol.scala:233)\n\tat org.apache.spark.sql.execution.datasources.FileFormatWriter$.$anonfun$writeAndCommit$3(FileFormatWriter.scala:313)\n\tat scala.runtime.java8.JFunction0$mcV$sp.apply(JFunction0$mcV$sp.java:23)\n\tat org.apache.spark.util.Utils$.timeTakenMs(Utils.scala:640)\n\tat org.apache.spark.sql.execution.datasources.FileFormatWriter$.writeAndCommit(FileFormatWriter.scala:313)\n\tat org.apache.spark.sql.execution.datasources.FileFormatWriter$.executeWrite(FileFormatWriter.scala:351)\n\tat org.apache.spark.sql.execution.datasources.FileFormatWriter$.write(FileFormatWriter.scala:217)\n\tat org.apache.spark.sql.execution.datasources.InsertIntoHadoopFsRelationCommand.run(InsertIntoHadoopFsRelationCommand.scala:191)\n\tat org.apache.spark.sql.execution.command.DataWritingCommandExec.sideEffectResult$lzycompute(commands.scala:113)\n\tat org.apache.spark.sql.execution.command.DataWritingCommandExec.sideEffectResult(commands.scala:111)\n\tat org.apache.spark.sql.execution.command.DataWritingCommandExec.executeCollect(commands.scala:125)\n\tat org.apache.spark.sql.execution.adaptive.AdaptiveSparkPlanExec.$anonfun$executeCollect$1(AdaptiveSparkPlanExec.scala:369)\n\tat org.apache.spark.sql.execution.adaptive.AdaptiveSparkPlanExec.withFinalPlanUpdate(AdaptiveSparkPlanExec.scala:397)\n\tat org.apache.spark.sql.execution.adaptive.AdaptiveSparkPlanExec.executeCollect(AdaptiveSparkPlanExec.scala:369)\n\tat org.apache.spark.sql.execution.QueryExecution$$anonfun$eagerlyExecuteCommands$1.$anonfun$applyOrElse$1(QueryExecution.scala:152)\n\tat org.apache.spark.sql.execution.SQLExecution$.$anonfun$withNewExecutionId$5(SQLExecution.scala:125)\n\tat org.apache.spark.sql.execution.SQLExecution$.withSQLConfPropagated(SQLExecution.scala:214)\n\tat org.apache.spark.sql.execution.SQLExecution$.$anonfun$withNewExecutionId$1(SQLExecution.scala:100)\n\tat org.apache.spark.sql.SparkSession.withActive(SparkSession.scala:827)\n\tat org.apache.spark.sql.execution.SQLExecution$.withNewExecutionId(SQLExecution.scala:67)\n\tat org.apache.spark.sql.execution.QueryExecution$$anonfun$eagerlyExecuteCommands$1.applyOrElse(QueryExecution.scala:152)\n\tat org.apache.spark.sql.execution.QueryExecution$$anonfun$eagerlyExecuteCommands$1.applyOrElse(QueryExecution.scala:145)\n\tat org.apache.spark.sql.catalyst.trees.TreeNode.$anonfun$transformDownWithPruning$1(TreeNode.scala:512)\n\tat org.apache.spark.sql.catalyst.trees.CurrentOrigin$.withOrigin(TreeNode.scala:104)\n\tat org.apache.spark.sql.catalyst.trees.TreeNode.transformDownWithPruning(TreeNode.scala:512)\n\tat org.apache.spark.sql.catalyst.plans.logical.LogicalPlan.org$apache$spark$sql$catalyst$plans$logical$AnalysisHelper$$super$transformDownWithPruning(LogicalPlan.scala:32)\n\tat org.apache.spark.sql.catalyst.plans.logical.AnalysisHelper.transformDownWithPruning(AnalysisHelper.scala:267)\n\tat org.apache.spark.sql.catalyst.plans.logical.AnalysisHelper.transformDownWithPruning$(AnalysisHelper.scala:263)\n\tat org.apache.spark.sql.catalyst.plans.logical.LogicalPlan.transformDownWithPruning(LogicalPlan.scala:32)\n\tat org.apache.spark.sql.catalyst.plans.logical.LogicalPlan.transformDownWithPruning(LogicalPlan.scala:32)\n\tat org.apache.spark.sql.catalyst.trees.TreeNode.transformDown(TreeNode.scala:488)\n\tat org.apache.spark.sql.execution.QueryExecution.eagerlyExecuteCommands(QueryExecution.scala:145)\n\tat org.apache.spark.sql.execution.QueryExecution.commandExecuted$lzycompute(QueryExecution.scala:129)\n\tat org.apache.spark.sql.execution.QueryExecution.commandExecuted(QueryExecution.scala:123)\n\tat org.apache.spark.sql.execution.QueryExecution.assertCommandExecuted(QueryExecution.scala:200)\n\tat org.apache.spark.sql.DataFrameWriter.runCommand(DataFrameWriter.scala:897)\n\tat org.apache.spark.sql.DataFrameWriter.saveToV1Source(DataFrameWriter.scala:412)\n\tat org.apache.spark.sql.DataFrameWriter.saveInternal(DataFrameWriter.scala:379)\n\tat org.apache.spark.sql.DataFrameWriter.save(DataFrameWriter.scala:241)\n\tat java.base/jdk.internal.reflect.NativeMethodAccessorImpl.invoke0(Native Method)\n\tat java.base/jdk.internal.reflect.NativeMethodAccessorImpl.invoke(NativeMethodAccessorImpl.java:62)\n\tat java.base/jdk.internal.reflect.DelegatingMethodAccessorImpl.invoke(DelegatingMethodAccessorImpl.java:43)\n\tat java.base/java.lang.reflect.Method.invoke(Method.java:566)\n\tat py4j.reflection.MethodInvoker.invoke(MethodInvoker.java:244)\n\tat py4j.reflection.ReflectionEngine.invoke(ReflectionEngine.java:374)\n\tat py4j.Gateway.invoke(Gateway.java:282)\n\tat py4j.commands.AbstractCommand.invokeMethod(AbstractCommand.java:132)\n\tat py4j.commands.CallCommand.execute(CallCommand.java:79)\n\tat py4j.GatewayConnection.run(GatewayConnection.java:238)\n\tat java.base/java.lang.Thread.run(Thread.java:829)\nCaused by: com.microsoft.azure.storage.StorageException: This operation is not permitted on a non-empty directory.\n\tat com.microsoft.azure.storage.StorageException.translateException(StorageException.java:87)\n\tat com.microsoft.azure.storage.core.StorageRequest.materializeException(StorageRequest.java:315)\n\tat com.microsoft.azure.storage.core.ExecutionEngine.executeWithRetry(ExecutionEngine.java:185)\n\tat com.microsoft.azure.storage.blob.CloudBlob.delete(CloudBlob.java:981)\n\tat org.apache.hadoop.fs.azure.StorageInterfaceImpl$CloudBlobWrapperImpl.delete(StorageInterfaceImpl.java:314)\n\tat org.apache.hadoop.fs.azure.AzureNativeFileSystemStore.safeDelete(AzureNativeFileSystemStore.java:2672)\n\tat org.apache.hadoop.fs.azure.AzureNativeFileSystemStore.delete(AzureNativeFileSystemStore.java:2711)\n\t... 60 more\n\nError saving top_feature_importance: An error occurred while calling o42262.save.\n: org.apache.hadoop.fs.azure.AzureException: com.microsoft.azure.storage.StorageException: This operation is not permitted on a non-empty directory.\n\tat org.apache.hadoop.fs.azure.AzureNativeFileSystemStore.delete(AzureNativeFileSystemStore.java:2720)\n\tat org.apache.hadoop.fs.azure.AzureNativeFileSystemStore.delete(AzureNativeFileSystemStore.java:2730)\n\tat org.apache.hadoop.fs.azure.NativeAzureFileSystem.deleteFile(NativeAzureFileSystem.java:2670)\n\tat org.apache.hadoop.fs.azure.NativeAzureFileSystem$2.execute(NativeAzureFileSystem.java:2421)\n\tat org.apache.hadoop.fs.azure.AzureFileSystemThreadPoolExecutor.executeParallel(AzureFileSystemThreadPoolExecutor.java:223)\n\tat org.apache.hadoop.fs.azure.NativeAzureFileSystem.deleteWithoutAuth(NativeAzureFileSystem.java:2433)\n\tat org.apache.hadoop.fs.azure.NativeAzureFileSystem.delete(NativeAzureFileSystem.java:2483)\n\tat org.apache.hadoop.fs.azure.NativeAzureFileSystem.delete(NativeAzureFileSystem.java:1977)\n\tat org.apache.hadoop.mapreduce.lib.output.FileOutputCommitter.cleanupJob(FileOutputCommitter.java:561)\n\tat org.apache.hadoop.mapreduce.lib.output.FileOutputCommitter.commitJobInternal(FileOutputCommitter.java:444)\n\tat org.apache.hadoop.mapreduce.lib.output.FileOutputCommitter.commitJob(FileOutputCommitter.java:405)\n\tat org.apache.spark.internal.io.HadoopMapReduceCommitProtocol.commitJob(HadoopMapReduceCommitProtocol.scala:233)\n\tat org.apache.spark.sql.execution.datasources.FileFormatWriter$.$anonfun$writeAndCommit$3(FileFormatWriter.scala:313)\n\tat scala.runtime.java8.JFunction0$mcV$sp.apply(JFunction0$mcV$sp.java:23)\n\tat org.apache.spark.util.Utils$.timeTakenMs(Utils.scala:640)\n\tat org.apache.spark.sql.execution.datasources.FileFormatWriter$.writeAndCommit(FileFormatWriter.scala:313)\n\tat org.apache.spark.sql.execution.datasources.FileFormatWriter$.executeWrite(FileFormatWriter.scala:351)\n\tat org.apache.spark.sql.execution.datasources.FileFormatWriter$.write(FileFormatWriter.scala:217)\n\tat org.apache.spark.sql.execution.datasources.InsertIntoHadoopFsRelationCommand.run(InsertIntoHadoopFsRelationCommand.scala:191)\n\tat org.apache.spark.sql.execution.command.DataWritingCommandExec.sideEffectResult$lzycompute(commands.scala:113)\n\tat org.apache.spark.sql.execution.command.DataWritingCommandExec.sideEffectResult(commands.scala:111)\n\tat org.apache.spark.sql.execution.command.DataWritingCommandExec.executeCollect(commands.scala:125)\n\tat org.apache.spark.sql.execution.QueryExecution$$anonfun$eagerlyExecuteCommands$1.$anonfun$applyOrElse$1(QueryExecution.scala:152)\n\tat org.apache.spark.sql.execution.SQLExecution$.$anonfun$withNewExecutionId$5(SQLExecution.scala:125)\n\tat org.apache.spark.sql.execution.SQLExecution$.withSQLConfPropagated(SQLExecution.scala:214)\n\tat org.apache.spark.sql.execution.SQLExecution$.$anonfun$withNewExecutionId$1(SQLExecution.scala:100)\n\tat org.apache.spark.sql.SparkSession.withActive(SparkSession.scala:827)\n\tat org.apache.spark.sql.execution.SQLExecution$.withNewExecutionId(SQLExecution.scala:67)\n\tat org.apache.spark.sql.execution.QueryExecution$$anonfun$eagerlyExecuteCommands$1.applyOrElse(QueryExecution.scala:152)\n\tat org.apache.spark.sql.execution.QueryExecution$$anonfun$eagerlyExecuteCommands$1.applyOrElse(QueryExecution.scala:145)\n\tat org.apache.spark.sql.catalyst.trees.TreeNode.$anonfun$transformDownWithPruning$1(TreeNode.scala:512)\n\tat org.apache.spark.sql.catalyst.trees.CurrentOrigin$.withOrigin(TreeNode.scala:104)\n\tat org.apache.spark.sql.catalyst.trees.TreeNode.transformDownWithPruning(TreeNode.scala:512)\n\tat org.apache.spark.sql.catalyst.plans.logical.LogicalPlan.org$apache$spark$sql$catalyst$plans$logical$AnalysisHelper$$super$transformDownWithPruning(LogicalPlan.scala:32)\n\tat org.apache.spark.sql.catalyst.plans.logical.AnalysisHelper.transformDownWithPruning(AnalysisHelper.scala:267)\n\tat org.apache.spark.sql.catalyst.plans.logical.AnalysisHelper.transformDownWithPruning$(AnalysisHelper.scala:263)\n\tat org.apache.spark.sql.catalyst.plans.logical.LogicalPlan.transformDownWithPruning(LogicalPlan.scala:32)\n\tat org.apache.spark.sql.catalyst.plans.logical.LogicalPlan.transformDownWithPruning(LogicalPlan.scala:32)\n\tat org.apache.spark.sql.catalyst.trees.TreeNode.transformDown(TreeNode.scala:488)\n\tat org.apache.spark.sql.execution.QueryExecution.eagerlyExecuteCommands(QueryExecution.scala:145)\n\tat org.apache.spark.sql.execution.QueryExecution.commandExecuted$lzycompute(QueryExecution.scala:129)\n\tat org.apache.spark.sql.execution.QueryExecution.commandExecuted(QueryExecution.scala:123)\n\tat org.apache.spark.sql.execution.QueryExecution.assertCommandExecuted(QueryExecution.scala:200)\n\tat org.apache.spark.sql.DataFrameWriter.runCommand(DataFrameWriter.scala:897)\n\tat org.apache.spark.sql.DataFrameWriter.saveToV1Source(DataFrameWriter.scala:412)\n\tat org.apache.spark.sql.DataFrameWriter.saveInternal(DataFrameWriter.scala:379)\n\tat org.apache.spark.sql.DataFrameWriter.save(DataFrameWriter.scala:241)\n\tat java.base/jdk.internal.reflect.NativeMethodAccessorImpl.invoke0(Native Method)\n\tat java.base/jdk.internal.reflect.NativeMethodAccessorImpl.invoke(NativeMethodAccessorImpl.java:62)\n\tat java.base/jdk.internal.reflect.DelegatingMethodAccessorImpl.invoke(DelegatingMethodAccessorImpl.java:43)\n\tat java.base/java.lang.reflect.Method.invoke(Method.java:566)\n\tat py4j.reflection.MethodInvoker.invoke(MethodInvoker.java:244)\n\tat py4j.reflection.ReflectionEngine.invoke(ReflectionEngine.java:374)\n\tat py4j.Gateway.invoke(Gateway.java:282)\n\tat py4j.commands.AbstractCommand.invokeMethod(AbstractCommand.java:132)\n\tat py4j.commands.CallCommand.execute(CallCommand.java:79)\n\tat py4j.GatewayConnection.run(GatewayConnection.java:238)\n\tat java.base/java.lang.Thread.run(Thread.java:829)\nCaused by: com.microsoft.azure.storage.StorageException: This operation is not permitted on a non-empty directory.\n\tat com.microsoft.azure.storage.StorageException.translateException(StorageException.java:87)\n\tat com.microsoft.azure.storage.core.StorageRequest.materializeException(StorageRequest.java:315)\n\tat com.microsoft.azure.storage.core.ExecutionEngine.executeWithRetry(ExecutionEngine.java:185)\n\tat com.microsoft.azure.storage.blob.CloudBlob.delete(CloudBlob.java:981)\n\tat org.apache.hadoop.fs.azure.StorageInterfaceImpl$CloudBlobWrapperImpl.delete(StorageInterfaceImpl.java:314)\n\tat org.apache.hadoop.fs.azure.AzureNativeFileSystemStore.safeDelete(AzureNativeFileSystemStore.java:2672)\n\tat org.apache.hadoop.fs.azure.AzureNativeFileSystemStore.delete(AzureNativeFileSystemStore.java:2711)\n\t... 57 more\n\nError saving model_metrics: An error occurred while calling o42282.save.\n: org.apache.hadoop.fs.azure.AzureException: com.microsoft.azure.storage.StorageException: This operation is not permitted on a non-empty directory.\n\tat org.apache.hadoop.fs.azure.AzureNativeFileSystemStore.delete(AzureNativeFileSystemStore.java:2720)\n\tat org.apache.hadoop.fs.azure.AzureNativeFileSystemStore.delete(AzureNativeFileSystemStore.java:2730)\n\tat org.apache.hadoop.fs.azure.NativeAzureFileSystem.deleteFile(NativeAzureFileSystem.java:2670)\n\tat org.apache.hadoop.fs.azure.NativeAzureFileSystem$2.execute(NativeAzureFileSystem.java:2421)\n\tat org.apache.hadoop.fs.azure.AzureFileSystemThreadPoolExecutor.executeParallel(AzureFileSystemThreadPoolExecutor.java:223)\n\tat org.apache.hadoop.fs.azure.NativeAzureFileSystem.deleteWithoutAuth(NativeAzureFileSystem.java:2433)\n\tat org.apache.hadoop.fs.azure.NativeAzureFileSystem.delete(NativeAzureFileSystem.java:2483)\n\tat org.apache.hadoop.fs.azure.NativeAzureFileSystem.delete(NativeAzureFileSystem.java:1977)\n\tat org.apache.hadoop.mapreduce.lib.output.FileOutputCommitter.cleanupJob(FileOutputCommitter.java:561)\n\tat org.apache.hadoop.mapreduce.lib.output.FileOutputCommitter.commitJobInternal(FileOutputCommitter.java:444)\n\tat org.apache.hadoop.mapreduce.lib.output.FileOutputCommitter.commitJob(FileOutputCommitter.java:405)\n\tat org.apache.spark.internal.io.HadoopMapReduceCommitProtocol.commitJob(HadoopMapReduceCommitProtocol.scala:233)\n\tat org.apache.spark.sql.execution.datasources.FileFormatWriter$.$anonfun$writeAndCommit$3(FileFormatWriter.scala:313)\n\tat scala.runtime.java8.JFunction0$mcV$sp.apply(JFunction0$mcV$sp.java:23)\n\tat org.apache.spark.util.Utils$.timeTakenMs(Utils.scala:640)\n\tat org.apache.spark.sql.execution.datasources.FileFormatWriter$.writeAndCommit(FileFormatWriter.scala:313)\n\tat org.apache.spark.sql.execution.datasources.FileFormatWriter$.executeWrite(FileFormatWriter.scala:351)\n\tat org.apache.spark.sql.execution.datasources.FileFormatWriter$.write(FileFormatWriter.scala:217)\n\tat org.apache.spark.sql.execution.datasources.InsertIntoHadoopFsRelationCommand.run(InsertIntoHadoopFsRelationCommand.scala:191)\n\tat org.apache.spark.sql.execution.command.DataWritingCommandExec.sideEffectResult$lzycompute(commands.scala:113)\n\tat org.apache.spark.sql.execution.command.DataWritingCommandExec.sideEffectResult(commands.scala:111)\n\tat org.apache.spark.sql.execution.command.DataWritingCommandExec.executeCollect(commands.scala:125)\n\tat org.apache.spark.sql.execution.QueryExecution$$anonfun$eagerlyExecuteCommands$1.$anonfun$applyOrElse$1(QueryExecution.scala:152)\n\tat org.apache.spark.sql.execution.SQLExecution$.$anonfun$withNewExecutionId$5(SQLExecution.scala:125)\n\tat org.apache.spark.sql.execution.SQLExecution$.withSQLConfPropagated(SQLExecution.scala:214)\n\tat org.apache.spark.sql.execution.SQLExecution$.$anonfun$withNewExecutionId$1(SQLExecution.scala:100)\n\tat org.apache.spark.sql.SparkSession.withActive(SparkSession.scala:827)\n\tat org.apache.spark.sql.execution.SQLExecution$.withNewExecutionId(SQLExecution.scala:67)\n\tat org.apache.spark.sql.execution.QueryExecution$$anonfun$eagerlyExecuteCommands$1.applyOrElse(QueryExecution.scala:152)\n\tat org.apache.spark.sql.execution.QueryExecution$$anonfun$eagerlyExecuteCommands$1.applyOrElse(QueryExecution.scala:145)\n\tat org.apache.spark.sql.catalyst.trees.TreeNode.$anonfun$transformDownWithPruning$1(TreeNode.scala:512)\n\tat org.apache.spark.sql.catalyst.trees.CurrentOrigin$.withOrigin(TreeNode.scala:104)\n\tat org.apache.spark.sql.catalyst.trees.TreeNode.transformDownWithPruning(TreeNode.scala:512)\n\tat org.apache.spark.sql.catalyst.plans.logical.LogicalPlan.org$apache$spark$sql$catalyst$plans$logical$AnalysisHelper$$super$transformDownWithPruning(LogicalPlan.scala:32)\n\tat org.apache.spark.sql.catalyst.plans.logical.AnalysisHelper.transformDownWithPruning(AnalysisHelper.scala:267)\n\tat org.apache.spark.sql.catalyst.plans.logical.AnalysisHelper.transformDownWithPruning$(AnalysisHelper.scala:263)\n\tat org.apache.spark.sql.catalyst.plans.logical.LogicalPlan.transformDownWithPruning(LogicalPlan.scala:32)\n\tat org.apache.spark.sql.catalyst.plans.logical.LogicalPlan.transformDownWithPruning(LogicalPlan.scala:32)\n\tat org.apache.spark.sql.catalyst.trees.TreeNode.transformDown(TreeNode.scala:488)\n\tat org.apache.spark.sql.execution.QueryExecution.eagerlyExecuteCommands(QueryExecution.scala:145)\n\tat org.apache.spark.sql.execution.QueryExecution.commandExecuted$lzycompute(QueryExecution.scala:129)\n\tat org.apache.spark.sql.execution.QueryExecution.commandExecuted(QueryExecution.scala:123)\n\tat org.apache.spark.sql.execution.QueryExecution.assertCommandExecuted(QueryExecution.scala:200)\n\tat org.apache.spark.sql.DataFrameWriter.runCommand(DataFrameWriter.scala:897)\n\tat org.apache.spark.sql.DataFrameWriter.saveToV1Source(DataFrameWriter.scala:412)\n\tat org.apache.spark.sql.DataFrameWriter.saveInternal(DataFrameWriter.scala:379)\n\tat org.apache.spark.sql.DataFrameWriter.save(DataFrameWriter.scala:241)\n\tat java.base/jdk.internal.reflect.NativeMethodAccessorImpl.invoke0(Native Method)\n\tat java.base/jdk.internal.reflect.NativeMethodAccessorImpl.invoke(NativeMethodAccessorImpl.java:62)\n\tat java.base/jdk.internal.reflect.DelegatingMethodAccessorImpl.invoke(DelegatingMethodAccessorImpl.java:43)\n\tat java.base/java.lang.reflect.Method.invoke(Method.java:566)\n\tat py4j.reflection.MethodInvoker.invoke(MethodInvoker.java:244)\n\tat py4j.reflection.ReflectionEngine.invoke(ReflectionEngine.java:374)\n\tat py4j.Gateway.invoke(Gateway.java:282)\n\tat py4j.commands.AbstractCommand.invokeMethod(AbstractCommand.java:132)\n\tat py4j.commands.CallCommand.execute(CallCommand.java:79)\n\tat py4j.GatewayConnection.run(GatewayConnection.java:238)\n\tat java.base/java.lang.Thread.run(Thread.java:829)\nCaused by: com.microsoft.azure.storage.StorageException: This operation is not permitted on a non-empty directory.\n\tat com.microsoft.azure.storage.StorageException.translateException(StorageException.java:87)\n\tat com.microsoft.azure.storage.core.StorageRequest.materializeException(StorageRequest.java:315)\n\tat com.microsoft.azure.storage.core.ExecutionEngine.executeWithRetry(ExecutionEngine.java:185)\n\tat com.microsoft.azure.storage.blob.CloudBlob.delete(CloudBlob.java:981)\n\tat org.apache.hadoop.fs.azure.StorageInterfaceImpl$CloudBlobWrapperImpl.delete(StorageInterfaceImpl.java:314)\n\tat org.apache.hadoop.fs.azure.AzureNativeFileSystemStore.safeDelete(AzureNativeFileSystemStore.java:2672)\n\tat org.apache.hadoop.fs.azure.AzureNativeFileSystemStore.delete(AzureNativeFileSystemStore.java:2711)\n\t... 57 more\n\n\n================================================================================\nINSTRUCTIONS FOR POWER BI INTEGRATION\n================================================================================\n1. Connect Power BI to Azure Blob Storage:\n   - Use the 'Get Data' option in Power BI\n   - Select 'Azure' -> 'Azure Blob Storage'\n   - Enter your account information: team14storage\n   - Navigate to team14-blobcontainer/Gold directory\n2. Import the following CSV files (use latest timestamp):\n3. Recommended visualizations:\n   - Class distribution: Pie chart showing licit vs illicit transactions\n   - Feature importance: Bar chart showing top predictive features\n   - Model performance: Comparison chart of evaluation metrics\n   - Transaction anomalies: Scatter plot of transactions by anomaly score\n================================================================================\n"
          ]
        }
      ],
      "execution_count": 59,
      "metadata": {}
    }
  ],
  "metadata": {
    "language_info": {
      "name": "python"
    },
    "kernelspec": {
      "name": "synapse_pyspark",
      "language": "Python",
      "display_name": "Synapse PySpark"
    },
    "kernel_info": {
      "name": "synapse_pyspark"
    },
    "description": null,
    "save_output": true,
    "synapse_widget": {
      "version": "0.1",
      "state": {
        "f3564696-3c67-43ba-879a-7423960b1898": {
          "type": "Synapse.DataFrame",
          "sync_state": {
            "table": {
              "rows": [
                {
                  "0": "230425980",
                  "1": "unknown"
                },
                {
                  "0": "5530458",
                  "1": "unknown"
                },
                {
                  "0": "232022460",
                  "1": "unknown"
                },
                {
                  "0": "232438397",
                  "1": "2"
                },
                {
                  "0": "230460314",
                  "1": "unknown"
                }
              ],
              "schema": [
                {
                  "key": "0",
                  "name": "txId",
                  "type": "int"
                },
                {
                  "key": "1",
                  "name": "class",
                  "type": "string"
                }
              ],
              "truncated": false
            },
            "isSummary": false,
            "language": "scala",
            "wranglerEntryContext": {
              "dataframeType": "pyspark"
            }
          },
          "persist_state": {
            "view": {
              "type": "details",
              "tableOptions": {},
              "chartOptions": {
                "chartType": "bar",
                "aggregationType": "sum",
                "categoryFieldKeys": [
                  "1"
                ],
                "seriesFieldKeys": [
                  "0"
                ],
                "isStacked": false
              }
            }
          }
        },
        "bcd10e7c-c117-4bbb-9118-06b6436bc0be": {
          "type": "Synapse.DataFrame",
          "sync_state": {
            "table": {
              "rows": [
                {
                  "0": "230425980",
                  "1": "5530458"
                },
                {
                  "0": "232022460",
                  "1": "232438397"
                },
                {
                  "0": "230460314",
                  "1": "230459870"
                },
                {
                  "0": "230333930",
                  "1": "230595899"
                },
                {
                  "0": "232013274",
                  "1": "232029206"
                }
              ],
              "schema": [
                {
                  "key": "0",
                  "name": "txId1",
                  "type": "int"
                },
                {
                  "key": "1",
                  "name": "txId2",
                  "type": "int"
                }
              ],
              "truncated": false
            },
            "isSummary": false,
            "language": "scala",
            "wranglerEntryContext": {
              "dataframeType": "pyspark"
            }
          },
          "persist_state": {
            "view": {
              "type": "details",
              "tableOptions": {},
              "chartOptions": {
                "chartType": "bar",
                "aggregationType": "sum",
                "categoryFieldKeys": [
                  "1"
                ],
                "seriesFieldKeys": [
                  "0"
                ],
                "isStacked": false
              }
            }
          }
        },
        "c4a3f3fa-869f-4792-8834-04ebfcf58d94": {
          "type": "Synapse.DataFrame",
          "sync_state": {
            "table": {
              "rows": [
                {
                  "0": "5530458",
                  "1": "1",
                  "2": "-0.17148421069432254",
                  "3": "-0.18466755143291433",
                  "4": "-1.2013688016765636",
                  "5": "-0.12196959975910057",
                  "6": "-0.04387454791734898",
                  "7": "-0.11300200928476244",
                  "8": "-0.06158379407303222",
                  "9": "-0.16211206626677477",
                  "10": "-0.1679480789436863",
                  "11": "-0.04970696439403985",
                  "12": "-0.16441742271274076",
                  "13": "-0.028741285856664783",
                  "14": "-0.035390552600813516",
                  "15": "-0.042955299258028254",
                  "16": "-0.013281614870058885",
                  "17": "-0.055326962087410225",
                  "18": "-0.16975732083008205",
                  "19": "-0.17147666184384036",
                  "20": "-0.17449021239392154",
                  "21": "0.8870578724766534",
                  "22": "0.8845565252702963",
                  "23": "-0.13973120840105796",
                  "24": "-0.14891189118002898",
                  "25": "-0.08014726965335221",
                  "26": "-0.1556614298173464",
                  "27": "-0.010763009512837094",
                  "28": "-0.012107451777478418",
                  "29": "-0.139733008128884",
                  "30": "-0.14890719023103707",
                  "31": "-0.08014673584659182",
                  "32": "-0.15566139979522017",
                  "33": "-0.0106685610738475",
                  "34": "-0.012005182118417812",
                  "35": "-0.02466883065625352",
                  "36": "-0.031272390486630317",
                  "37": "-0.0230451563960962",
                  "38": "-0.026214655177430907",
                  "39": "0.001427813709709475",
                  "40": "0.0014826437872997916",
                  "41": "-0.22721544644782224",
                  "42": "-0.23936836871437037",
                  "43": "-0.07525553154622772",
                  "44": "-0.23495151756654098",
                  "45": "0.0374680287743863",
                  "46": "0.043444221333941775",
                  "47": "-0.22720332382768585",
                  "48": "-0.24323609254239772",
                  "49": "-0.0978946778840727",
                  "50": "-0.2358964234692872",
                  "51": "0.0365766503766988",
                  "52": "0.04234513480691014",
                  "53": "-0.41396513105388405",
                  "54": "-0.48830687601391315",
                  "55": "-0.23255262057859216",
                  "56": "-0.4675157016017846",
                  "57": "0.048766817854885264",
                  "58": "0.05295606452358398",
                  "59": "-0.039150890275723924",
                  "60": "-0.17289514714852436",
                  "61": "-0.16312566098154038",
                  "62": "-0.16093257604150066",
                  "63": "0.9234729775583688",
                  "64": "0.9230107104495158",
                  "65": "-0.03914617477291923",
                  "66": "-0.1728841066916964",
                  "67": "-0.16311432375687993",
                  "68": "-0.16092569018826533",
                  "69": "0.9235162990740675",
                  "70": "0.9231101257685775",
                  "71": "-0.017031675880349647",
                  "72": "-0.030026235277791913",
                  "73": "-0.01764011962990492",
                  "74": "-0.015070900001830685",
                  "75": "-0.14076322246003314",
                  "76": "-0.14033462388732307",
                  "77": "-0.09540268927284089",
                  "78": "-0.2644245982707773",
                  "79": "-0.25057351731181604",
                  "80": "-0.26375259742809054",
                  "81": "-0.1691189058033812",
                  "82": "-0.16716538150264335",
                  "83": "-0.05901305478547111",
                  "84": "-0.26242388753553797",
                  "85": "-0.2551681497514608",
                  "86": "-0.25925104603653304",
                  "87": "-0.18719096452790498",
                  "88": "-0.18527362579169893",
                  "89": "-0.2936922296799922",
                  "90": "-0.7606997978663795",
                  "91": "-0.6927768599024823",
                  "92": "-0.7197891565142742",
                  "93": "-1.0849067857111534",
                  "94": "-1.0848448955263614",
                  "95": "-0.17011278066229815",
                  "96": "-0.20233205942689592",
                  "97": "-0.1168167152870516",
                  "98": "-0.19240475183323666",
                  "99": "-0.014658775691506424",
                  "100": "-0.018848712954381765",
                  "101": "-1.4579211729426413",
                  "102": "-1.494024263129434",
                  "103": "-0.08345878401951694",
                  "104": "-1.4859394970873494",
                  "105": "-0.08879772536984745",
                  "106": "-0.0904370818830761",
                  "107": "-0.16654994856468994",
                  "108": "-0.21653637857822206",
                  "109": "-0.13454647495572797",
                  "110": "-0.19481661068542533",
                  "111": "-0.0031749902209437055",
                  "112": "-0.004094090363360379",
                  "113": "-1.0963356939258175",
                  "114": "-1.2673399140326196",
                  "115": "-0.3499327749819623",
                  "116": "-1.230440801051298",
                  "117": "-0.004357614038573012",
                  "118": "-0.004194370240563965",
                  "119": "-0.11642460389073964",
                  "120": "-0.1766172824237854",
                  "121": "-0.13732327709079195",
                  "122": "-0.15246437130048263",
                  "123": "-0.02605968882058813",
                  "124": "-0.027659714028485525",
                  "125": "-0.09314472701426248",
                  "126": "-0.14370672448675942",
                  "127": "-0.09771859912616487",
                  "128": "-0.12746225048300552",
                  "129": "0.0031432964315106413",
                  "130": "0.0024263098865888125",
                  "131": "-0.12132982954666281",
                  "132": "-0.1109327872232307",
                  "133": "-0.07590935781589098",
                  "134": "-0.11164122503846352",
                  "135": "-1.159648797029665",
                  "136": "-1.1601288555070002",
                  "137": "-1.3737225777247042",
                  "138": "-1.3539182358417168",
                  "139": "-0.29598231757040905",
                  "140": "-1.4032145912639946",
                  "141": "-0.9757375123778044",
                  "142": "-0.9752365572215277",
                  "143": "-0.1687415525999319",
                  "144": "-0.2632899793457287",
                  "145": "-0.186388802919495",
                  "146": "-0.2508745590125382",
                  "147": "-1.0159633735173061",
                  "148": "-1.0162304272806977",
                  "149": "-0.968902874660573",
                  "150": "0.14699720416530723",
                  "151": "1.3662870660774065",
                  "152": "-0.4647732217260898",
                  "153": "-1.1169181674273414",
                  "154": "-1.116948469117354",
                  "155": "-0.21681436061843226",
                  "156": "0.6342720081328951",
                  "157": "0.9473820151871388",
                  "158": "0.6731033464047642",
                  "159": "-0.979073766855825",
                  "160": "-0.9785560465643004",
                  "161": "0.01827940003744589",
                  "162": "-0.0874901561101501",
                  "163": "-0.13115530389558736",
                  "164": "-0.09752359377152515",
                  "165": "-0.12061340670311574",
                  "166": "-0.11979245961251665"
                },
                {
                  "0": "232022460",
                  "1": "1",
                  "2": "-0.17210694047251704",
                  "3": "-0.18466755143291433",
                  "4": "-1.2013688016765636",
                  "5": "-0.12196959975910057",
                  "6": "-0.04387454791734898",
                  "7": "-0.11300200928476244",
                  "8": "-0.06158379407303222",
                  "9": "-0.16274921065307707",
                  "10": "-0.1685762937743978",
                  "11": "-0.04970696439403985",
                  "12": "-0.16505385606305262",
                  "13": "-0.028741285856664783",
                  "14": "-0.035390552600813516",
                  "15": "-0.042955299258028254",
                  "16": "-0.013281614870058885",
                  "17": "-0.055298247601998494",
                  "18": "-0.17039959147478634",
                  "19": "-0.1722171712893571",
                  "20": "-0.1752274581348176",
                  "21": "0.8870578724766534",
                  "22": "0.8845565252702963",
                  "23": "-0.13972935962809574",
                  "24": "-0.14891071149442775",
                  "25": "-0.08014726965335221",
                  "26": "-0.15565986327248124",
                  "27": "-0.010763009512837094",
                  "28": "-0.012107451777478418",
                  "29": "-0.13973115907531855",
                  "30": "-0.14890601046686328",
                  "31": "-0.08014673584659182",
                  "32": "-0.1556598330828762",
                  "33": "-0.0106685610738475",
                  "34": "-0.012005182118417812",
                  "35": "-0.02466883065625352",
                  "36": "-0.031272390486630317",
                  "37": "-0.0230451563960962",
                  "38": "-0.026214655177430907",
                  "39": "0.001427813709709475",
                  "40": "0.0014826437872997916",
                  "41": "-0.22717760210010984",
                  "42": "-0.23933273596227653",
                  "43": "-0.07525553154622772",
                  "44": "-0.23491447546792882",
                  "45": "0.0374680287743863",
                  "46": "0.043444221333941775",
                  "47": "-0.22716393562296464",
                  "48": "-0.24319756681972446",
                  "49": "-0.0978946778840727",
                  "50": "-0.23585727121325867",
                  "51": "0.0365766503766988",
                  "52": "0.04234513480691014",
                  "53": "-0.26873654366394206",
                  "54": "-0.36752081543383347",
                  "55": "-0.23255262057859216",
                  "56": "-0.3281628931792348",
                  "57": "0.048766817854885264",
                  "58": "0.05295606452358398",
                  "59": "-0.03914115467609643",
                  "60": "-0.17287053786380535",
                  "61": "-0.16310098152590424",
                  "62": "-0.16090661505843476",
                  "63": "-1.316342283664295",
                  "64": "-1.3153883882753692",
                  "65": "-0.039136437166759463",
                  "66": "-0.17285949627746336",
                  "67": "-0.16308964491228392",
                  "68": "-0.16089972903429814",
                  "69": "-1.3163333780274464",
                  "70": "-1.315375381290753",
                  "71": "-0.017031675880349647",
                  "72": "-0.0300253386933143",
                  "73": "-0.017639167067003525",
                  "74": "-0.01506996414506404",
                  "75": "-2.4284255232812764",
                  "76": "-2.429065026252751",
                  "77": "-0.0951039362673167",
                  "78": "-0.2636746475236168",
                  "79": "-0.2498356408565478",
                  "80": "-0.26296308445942856",
                  "81": "-1.4717644946197315",
                  "82": "-1.470277463738429",
                  "83": "-0.05852429114148316",
                  "84": "-0.26161229338963043",
                  "85": "-0.2543726818019155",
                  "86": "-0.25838654089981916",
                  "87": "-1.4999715377938674",
                  "88": "-1.498585280585486",
                  "89": "-0.021809414711665323",
                  "90": "1.936814150855087",
                  "91": "2.4487848645651886",
                  "92": "1.7751079093672535",
                  "93": "-1.0849067857111534",
                  "94": "-1.0848448955263614",
                  "95": "-0.17052781770192518",
                  "96": "-0.20265788978089322",
                  "97": "-0.1168167152870516",
                  "98": "-0.1928108756545022",
                  "99": "-0.014658775691506424",
                  "100": "-0.018848712954381765",
                  "101": "-1.4579532008792007",
                  "102": "-1.494056831372085",
                  "103": "-0.08345878401951694",
                  "104": "-1.4859719767717499",
                  "105": "-0.08879772536984745",
                  "106": "-0.0904370818830761",
                  "107": "-0.16654994856468994",
                  "108": "-0.21653637857822206",
                  "109": "-0.13454647495572797",
                  "110": "-0.19481661068542533",
                  "111": "-0.0031749902209437055",
                  "112": "-0.004094090363360379",
                  "113": "-1.0963356939258175",
                  "114": "-1.2673399140326196",
                  "115": "-0.3499327749819623",
                  "116": "-1.230440801051298",
                  "117": "-0.004357614038573012",
                  "118": "-0.004194370240563965",
                  "119": "-0.11642460389073964",
                  "120": "-0.1766172824237854",
                  "121": "-0.13732327709079195",
                  "122": "-0.15246437130048263",
                  "123": "-0.02605968882058813",
                  "124": "-0.027659714028485525",
                  "125": "-0.09555926971481787",
                  "126": "-0.14512594341804702",
                  "127": "-0.09771859912616487",
                  "128": "-0.1294956950866637",
                  "129": "0.0031432964315106413",
                  "130": "0.0024263098865888125",
                  "131": "-0.12297446336502392",
                  "132": "-0.04155591623042134",
                  "133": "0.012548628693558375",
                  "134": "-0.03224393832476838",
                  "135": "-1.159648797029665",
                  "136": "-1.1601288555070002",
                  "137": "-1.3739023216861717",
                  "138": "-1.35620980438391",
                  "139": "-0.30154812530835085",
                  "140": "-1.4045772210587457",
                  "141": "-0.9757375123778044",
                  "142": "-0.9752365572215277",
                  "143": "-0.1687415525999319",
                  "144": "-0.19246822574665903",
                  "145": "-0.09979025242782867",
                  "146": "-0.18213304490240145",
                  "147": "-1.0159633735173061",
                  "148": "-1.0162304272806977",
                  "149": "-0.968902874660573",
                  "150": "-1.4211380025686302",
                  "151": "-0.4533295316850304",
                  "152": "-1.3754413186377648",
                  "153": "-1.1169181674273414",
                  "154": "-1.116948469117354",
                  "155": "-0.21681436061843226",
                  "156": "0.40716105050193463",
                  "157": "0.6708829392831981",
                  "158": "0.4397281841959045",
                  "159": "-0.979073766855825",
                  "160": "-0.9785560465643004",
                  "161": "-0.098888736679456",
                  "162": "-0.10671461380666906",
                  "163": "-0.13115530389558736",
                  "164": "-0.18367056324178724",
                  "165": "-0.12061340670311574",
                  "166": "-0.11979245961251665"
                },
                {
                  "0": "232438397",
                  "1": "1",
                  "2": "0.1630541194596208",
                  "3": "1.9637897565339713",
                  "4": "-0.6463761259214303",
                  "5": "12.40929429855237",
                  "6": "-0.06372457323883694",
                  "7": "9.782742141573907",
                  "8": "12.414557565154297",
                  "9": "-0.1636452106809395",
                  "10": "-0.11583146100367737",
                  "11": "0.043598310647744803",
                  "12": "-0.16390494340091055",
                  "13": "1.059993281891899",
                  "14": "2.3974572678727233",
                  "15": "-0.06319995329439423",
                  "16": "-0.013281614870058885",
                  "17": "4.800239880852332",
                  "18": "0.17432903822550858",
                  "19": "-0.1729081406182527",
                  "20": "0.6193993170674021",
                  "21": "-0.24329965245862148",
                  "22": "-0.24345165116622178",
                  "23": "-0.13973183050570184",
                  "24": "-0.14689535936129625",
                  "25": "-0.07966741189249549",
                  "26": "-0.15555351260935377",
                  "27": "0.773846809331059",
                  "28": "0.3785156574088869",
                  "29": "-0.13973363032794975",
                  "30": "-0.14689052411735182",
                  "31": "-0.07966687845623453",
                  "32": "-0.15555347106574582",
                  "33": "0.7739316501061592",
                  "34": "0.378592875963857",
                  "35": "-0.02466883065625352",
                  "36": "-0.03127063653665789",
                  "37": "-0.023043917470047064",
                  "38": "-0.026214630158265105",
                  "39": "0.10100803261233597",
                  "40": "0.026315321410687126",
                  "41": "-0.22721544644782224",
                  "42": "-0.15677164936087457",
                  "43": "0.08930672028917983",
                  "44": "-0.21219499091944907",
                  "45": "-2.7720147679929728",
                  "46": "-2.371968590497654",
                  "47": "-0.22720332382768585",
                  "48": "-0.22115122201993903",
                  "49": "-0.06685777177573918",
                  "50": "-0.23201067858302685",
                  "51": "-2.1655335705958403",
                  "52": "-2.1758550171367785",
                  "53": "-0.4140081318412528",
                  "54": "4.181192387187964",
                  "55": "4.346639728389318",
                  "56": "1.7779630714269525",
                  "57": "-1.4515445798708968",
                  "58": "-1.5302502064241157",
                  "59": "4.628683400036031",
                  "60": "0.5138044598260122",
                  "61": "-0.16312599009939752",
                  "62": "1.2082195396132684",
                  "63": "-0.19643465305296312",
                  "64": "-0.1961888389129267",
                  "65": "4.629650168262074",
                  "66": "0.5138694722722894",
                  "67": "-0.16311465287801424",
                  "68": "1.2082777436441632",
                  "69": "-0.19640853947668943",
                  "70": "-0.19613262776108772",
                  "71": "-0.017031675880349647",
                  "72": "-0.030026235277791913",
                  "73": "-0.01764011962990492",
                  "74": "-0.015070900001830685",
                  "75": "-0.14076322246003314",
                  "76": "-0.14033462388732307",
                  "77": "4.313295413247757",
                  "78": "0.21675032241822503",
                  "79": "-0.25057351731181604",
                  "80": "0.7071509757839788",
                  "81": "-0.1691189058033812",
                  "82": "-0.16716538150264335",
                  "83": "6.220011288616725",
                  "84": "0.21694839264551205",
                  "85": "-0.2551681497514608",
                  "86": "0.7171077552891034",
                  "87": "-0.18719096452790498",
                  "88": "-0.18527362579169893",
                  "89": "3.9915873440063407",
                  "90": "0.8108785465092069",
                  "91": "-0.6942351992761703",
                  "92": "2.0846507447685347",
                  "93": "0.02530798288975985",
                  "94": "0.02521690346605265",
                  "95": "-0.17109796873713376",
                  "96": "0.266450069451744",
                  "97": "0.15943173201871505",
                  "98": "-0.15994556208342817",
                  "99": "0.9704651746436289",
                  "100": "1.9283824131788028",
                  "101": "-1.4579532008792007",
                  "102": "-1.4939916948867829",
                  "103": "-0.083124061373484",
                  "104": "-1.4859568969182846",
                  "105": "-0.23417111125635615",
                  "106": "-0.20551267339971976",
                  "107": "-0.17621935145577072",
                  "108": "-0.05601061766549818",
                  "109": "-0.08282155195637242",
                  "110": "-0.19169648128544414",
                  "111": "0.3237734462495814",
                  "112": "0.6686214846866907",
                  "113": "-1.0963356939258175",
                  "114": "0.7874346980684294",
                  "115": "0.8561625052061652",
                  "116": "-1.1045296072012591",
                  "117": "0.7151147052066719",
                  "118": "0.958373486053451",
                  "119": "-0.11642460389073964",
                  "120": "0.31204672776267356",
                  "121": "0.06462321346460068",
                  "122": "-0.10175483530563172",
                  "123": "-0.24767556804258073",
                  "124": "-1.2019927803360144",
                  "125": "-0.09555926971481787",
                  "126": "0.5233261732184042",
                  "127": "0.019770659026476324",
                  "128": "-0.11919532986218091",
                  "129": "0.1478805724557926",
                  "130": "0.9561703764452162",
                  "131": "0.7597559462836802",
                  "132": "-0.04155636353180128",
                  "133": "-0.18871580892327997",
                  "134": "0.14994873376884874",
                  "135": "-0.04772212534083709",
                  "136": "-0.048170683930153474",
                  "137": "-1.3737225777247042",
                  "138": "-1.3561307847790067",
                  "139": "-0.30175426633568203",
                  "140": "-1.4044453536592538",
                  "141": "0.18313274490455683",
                  "142": "0.18274808525809128",
                  "143": "-0.1635773401749778",
                  "144": "-0.4565612772709425",
                  "145": "-0.4246718150208637",
                  "146": "-0.43691536984505247",
                  "147": "0.14300140508806736",
                  "148": "0.14252521079133695",
                  "149": "-0.42589611743415573",
                  "150": "-1.4211380025686302",
                  "151": "-1.0598683976058427",
                  "152": "-1.071885286333873",
                  "153": "0.18559736690054543",
                  "154": "0.18549200384553188",
                  "155": "-0.21681436061843226",
                  "156": "-0.6179073258324005",
                  "157": "-0.5770993762832375",
                  "158": "-0.6136137641521922",
                  "159": "0.24112827704983203",
                  "160": "0.24140644581794593",
                  "161": "1.0727926304895627",
                  "162": "0.08552996315852067",
                  "163": "-0.13115530389558736",
                  "164": "0.6777991314608336",
                  "165": "-0.12061340670311574",
                  "166": "-0.11979245961251665"
                },
                {
                  "0": "230460314",
                  "1": "1",
                  "2": "1.0115232289275187",
                  "3": "-0.08112744020559452",
                  "4": "-1.2013688016765636",
                  "5": "1.1536680425839834",
                  "6": "0.3332759331909223",
                  "7": "1.3126560463474188",
                  "8": "-0.06158379407303222",
                  "9": "-0.1635232380956241",
                  "10": "0.041399097381600636",
                  "11": "0.9358863815730533",
                  "12": "-0.0986953374147462",
                  "13": "1.2030380749185423",
                  "14": "0.9889022917429948",
                  "15": "0.34169312743292546",
                  "16": "-0.013281614870058885",
                  "17": "-0.057392091794025185",
                  "18": "0.05832871793785306",
                  "19": "-0.03293006997850107",
                  "20": "-0.04270910035165402",
                  "21": "0.06545483648179744",
                  "22": "0.3249472741030888",
                  "23": "-0.13973180722667305",
                  "24": "-0.14885440016817775",
                  "25": "-0.08010477138380956",
                  "26": "-0.15563767533697326",
                  "27": "1.313051444789839",
                  "28": "1.1069649974915918",
                  "29": "-0.13973360704538773",
                  "30": "-0.14884969539001597",
                  "31": "-0.08010423761033475",
                  "32": "-0.15563764277526337",
                  "33": "1.3131297191885363",
                  "34": "1.1069954997622102",
                  "35": "-0.02466883065625352",
                  "36": "-0.031272390486630317",
                  "37": "-0.0230451563960962",
                  "38": "-0.026214655177430907",
                  "39": "0.001427813709709475",
                  "40": "0.0014826437872997916",
                  "41": "-0.22721544644782224",
                  "42": "-0.2393594605263469",
                  "43": "-0.0752419102090522",
                  "44": "-0.2349504886193573",
                  "45": "-0.866062416997784",
                  "46": "-0.856033520014764",
                  "47": "-0.22720332382768585",
                  "48": "-0.2432264611117294",
                  "49": "-0.09787224012670151",
                  "50": "-0.23589533590661974",
                  "51": "-0.8710277203019383",
                  "52": "-0.861079023801688",
                  "53": "-0.41403146826217113",
                  "54": "-0.48728448829904597",
                  "55": "-0.2312243345255989",
                  "56": "-0.4672735725213412",
                  "57": "0.5570304187318178",
                  "58": "0.7459759155966266",
                  "59": "-0.03915113802673277",
                  "60": "-0.17283854647116656",
                  "61": "-0.1630941062418089",
                  "62": "-0.16090365562876707",
                  "63": "0.09403876704402929",
                  "64": "0.22242086266679198",
                  "65": "-0.03914642366909366",
                  "66": "-0.17282750156573964",
                  "67": "-0.16308276709836494",
                  "68": "-0.16089677160988305",
                  "69": "0.09408092691742467",
                  "70": "0.20214336505336478",
                  "71": "-0.017031675880349647",
                  "72": "-0.02999198575074722",
                  "73": "-0.01762889007929442",
                  "74": "-0.015067495265784422",
                  "75": "-0.30971828053921224",
                  "76": "-0.3093685664934549",
                  "77": "-0.09540268927284089",
                  "78": "-0.2644164466322212",
                  "79": "-0.25056926536118673",
                  "80": "-0.2637502476871124",
                  "81": "-0.8424389046974361",
                  "82": "-0.8407265045761028",
                  "83": "-0.059135245696468094",
                  "84": "-0.2624145588671942",
                  "85": "-0.25516223440835706",
                  "86": "-0.2592492365019716",
                  "87": "-0.6962061365177382",
                  "88": "-0.7140926206135277",
                  "89": "-0.29389678930630325",
                  "90": "-0.76139920049465",
                  "91": "-0.6939222540365456",
                  "92": "-0.7207898984810976",
                  "93": "-0.48731509040115",
                  "94": "-0.5630886997026655",
                  "95": "-0.16297402524165944",
                  "96": "0.8449319001918734",
                  "97": "1.723413594737948",
                  "98": "0.4402980292639065",
                  "99": "1.2144404378705445",
                  "100": "1.0496493019281077",
                  "101": "-1.4600350167555578",
                  "102": "-1.4941219678573872",
                  "103": "-0.07038936061800023",
                  "104": "-1.4864699985992225",
                  "105": "-0.8613245350814462",
                  "106": "-1.0915591323648275",
                  "107": "-0.16654994856468994",
                  "108": "-0.17429275728539997",
                  "109": "-0.09125826129476869",
                  "110": "-0.15470743539827056",
                  "111": "1.6648427601189297",
                  "112": "1.6646213221435622",
                  "113": "-1.0963356939258175",
                  "114": "-1.2673399140326196",
                  "115": "-0.3499327749819623",
                  "116": "-1.230440801051298",
                  "117": "-0.004357614038573012",
                  "118": "-0.004194370240563965",
                  "119": "-0.011925389669219669",
                  "120": "1.228291746862284",
                  "121": "1.1934969804569946",
                  "122": "1.4717774331406495",
                  "123": "1.7963743420030336",
                  "124": "1.817236513778945",
                  "125": "-0.09314472701426248",
                  "126": "-0.11674156479229536",
                  "127": "-0.07790869409016592",
                  "128": "-0.0931196305101119",
                  "129": "1.5876902428332762",
                  "130": "1.58653924435534",
                  "131": "-0.10182032300364637",
                  "132": "0.7045579972457777",
                  "133": "0.4488982019179086",
                  "134": "0.6596618396674664",
                  "135": "0.3110913062452852",
                  "136": "0.30219827695855156",
                  "137": "-1.3739622363399944",
                  "138": "-1.3553932684665766",
                  "139": "-0.300941174031643",
                  "140": "-1.4045830818320568",
                  "141": "0.06484581626136972",
                  "142": "-0.035231687423483385",
                  "143": "-0.1687415525999319",
                  "144": "-0.44215620173325426",
                  "145": "-0.41654019458443187",
                  "146": "-0.41827276070290725",
                  "147": "0.3676053940698535",
                  "148": "0.3920351694291467",
                  "149": "-0.968902874660573",
                  "150": "-1.9438497381466093",
                  "151": "-1.0598683976058427",
                  "152": "-1.6789973509416563",
                  "153": "0.18559736690054543",
                  "154": "0.18549200384553188",
                  "155": "-0.16947185978516296",
                  "156": "-0.4705921100717775",
                  "157": "-0.511870567590902",
                  "158": "-0.4004223997559905",
                  "159": "0.5172568118837553",
                  "160": "0.579381538237923",
                  "161": "0.01827940003744589",
                  "162": "0.2777745401237104",
                  "163": "0.32639412083754343",
                  "164": "1.2937499631732075",
                  "165": "0.1781360219171739",
                  "166": "0.17911704630690475"
                },
                {
                  "0": "230459870",
                  "1": "1",
                  "2": "0.961040314282148",
                  "3": "-0.08112744020559452",
                  "4": "-1.2013688016765636",
                  "5": "1.3037430593302284",
                  "6": "0.3332759331909223",
                  "7": "1.4803805234806167",
                  "8": "-0.06158379407303222",
                  "9": "-0.16357725504254986",
                  "10": "0.038305305732996266",
                  "11": "0.8163770946037726",
                  "12": "-0.10800044494893145",
                  "13": "0.9075772418152211",
                  "14": "0.5174024110133048",
                  "15": "0.34169312743292546",
                  "16": "-0.013281614870058885",
                  "17": "-0.057392091794025185",
                  "18": "0.06003325871821347",
                  "19": "-0.010828994910273339",
                  "20": "-0.04840113795670586",
                  "21": "-0.24363891158336293",
                  "22": "-0.5349758422192962",
                  "23": "-0.13973183014856735",
                  "24": "-0.1488552497865746",
                  "25": "-0.08011000016843094",
                  "26": "-0.1556411214749687",
                  "27": "1.0016460199717747",
                  "28": "0.5918364097328129",
                  "29": "-0.13973362997076105",
                  "30": "-0.1488505450650014",
                  "31": "-0.08010946639086083",
                  "32": "-0.15564108928168427",
                  "33": "1.0017280990455697",
                  "34": "0.5918999477854127",
                  "35": "-0.02466883065625352",
                  "36": "-0.031272390486630317",
                  "37": "-0.0230451563960962",
                  "38": "-0.026214655177430907",
                  "39": "0.001427813709709475",
                  "40": "0.0014826437872997916",
                  "41": "-0.22721544644782224",
                  "42": "-0.23936836871437037",
                  "43": "-0.07525553154622772",
                  "44": "-0.23495151756654098",
                  "45": "0.0374680287743863",
                  "46": "0.043444221333941775",
                  "47": "-0.22720332382768585",
                  "48": "-0.24323609254239772",
                  "49": "-0.0978946778840727",
                  "50": "-0.2358964234692872",
                  "51": "0.0365766503766988",
                  "52": "0.04234513480691014",
                  "53": "-0.41403146826217113",
                  "54": "-0.4882370613754273",
                  "55": "-0.23243803287184828",
                  "56": "-0.467563385582902",
                  "57": "-0.34780774126836095",
                  "58": "-0.33814329113548924",
                  "59": "-0.03915113802673277",
                  "60": "-0.1726635210865653",
                  "61": "-0.16304599795053307",
                  "62": "-0.16088759405673952",
                  "63": "-0.2161084246287262",
                  "64": "-0.3197368411152747",
                  "65": "-0.0391464225749902",
                  "66": "-0.17265246242480575",
                  "67": "-0.16303465993262833",
                  "68": "-0.160880706517502",
                  "69": "-0.2160826133497673",
                  "70": "-0.3196853992546226",
                  "71": "-0.017031675880349647",
                  "72": "-0.030026235277791913",
                  "73": "-0.01764011962990492",
                  "74": "-0.015070900001830685",
                  "75": "-0.14076322246003314",
                  "76": "-0.14033462388732307",
                  "77": "-0.09540268927284089",
                  "78": "-0.26440014335510903",
                  "79": "-0.2505650134105574",
                  "80": "-0.26374789794613424",
                  "81": "-0.11056934068216029",
                  "82": "-0.02361209088897132",
                  "83": "-0.05901305478547111",
                  "84": "-0.2624052301988505",
                  "85": "-0.2551608448415946",
                  "86": "-0.2592465222001295",
                  "87": "-0.0890508602471162",
                  "88": "-0.04059673098195356",
                  "89": "-0.29389678930630325",
                  "90": "-0.7603983556166393",
                  "91": "-0.69350907398521",
                  "92": "-0.7205023187139363",
                  "93": "-0.20575541953853915",
                  "94": "-0.3882442714288613",
                  "95": "-0.16297402524165944",
                  "96": "0.5307939448501756",
                  "97": "1.169423689378955",
                  "98": "0.3650162970997145",
                  "99": "0.7226151021476083",
                  "100": "0.8296246049724562",
                  "101": "-1.4582094243716752",
                  "102": "-1.4941219678573872",
                  "103": "-0.08234189035179174",
                  "104": "-1.486062919888071",
                  "105": "0.3015038290514504",
                  "106": "0.29732476214229336",
                  "107": "-0.13320717997475626",
                  "108": "-0.17429275728539997",
                  "109": "-0.1129691627257225",
                  "110": "-0.14969378848737622",
                  "111": "0.878669651787854",
                  "112": "0.9671271225381696",
                  "113": "-1.0963356939258175",
                  "114": "-1.2673399140326196",
                  "115": "-0.3499327749819623",
                  "116": "-1.230440801051298",
                  "117": "-0.004357614038573012",
                  "118": "-0.004194370240563965",
                  "119": "1.03306675254598",
                  "120": "1.2893747481355913",
                  "121": "0.7741686485949967",
                  "122": "1.6772278865500905",
                  "123": "1.0642367485911655",
                  "124": "0.8636554505968632",
                  "125": "-0.04726841570371008",
                  "126": "-0.11674156479229536",
                  "127": "-0.09771859912616487",
                  "128": "-0.0888268030135002",
                  "129": "0.0031432964315106413",
                  "130": "0.0024263098865888125",
                  "131": "-0.10104571815095523",
                  "132": "0.7045579972457777",
                  "133": "0.382060439768322",
                  "134": "0.2725027954967985",
                  "135": "-0.43300476400912774",
                  "136": "-0.4923874926069707",
                  "137": "-1.3739622363399944",
                  "138": "-1.3544450332077382",
                  "139": "-0.30006182026439776",
                  "140": "-1.404411863526048",
                  "141": "-0.10801781258374418",
                  "142": "-0.35736235722737564",
                  "143": "-0.1687415525999319",
                  "144": "-0.44146475810744523",
                  "145": "-0.41569334830614146",
                  "146": "-0.4198363725554008",
                  "147": "-0.33039615443834264",
                  "148": "-0.23619910216311657",
                  "149": "-0.968902874660573",
                  "150": "-0.37571453141267186",
                  "151": "-0.49832252424310597",
                  "152": "-1.592267055997687",
                  "153": "0.13749879315729632",
                  "154": "0.13739620192688362",
                  "155": "-0.16947185978516296",
                  "156": "-0.44603957411167366",
                  "157": "-0.504701533661336",
                  "158": "-0.4225885348538205",
                  "159": "-0.2267903357428618",
                  "160": "-0.11762933738347829",
                  "161": "0.01827940003744589",
                  "162": "0.2777745401237104",
                  "163": "0.4139307519216626",
                  "164": "1.1495563452265547",
                  "165": "-0.6960528472346671",
                  "166": "-0.6955402347637503"
                }
              ],
              "schema": [
                {
                  "key": "0",
                  "name": "txId",
                  "type": "int"
                },
                {
                  "key": "1",
                  "name": "time_step",
                  "type": "int"
                },
                {
                  "key": "2",
                  "name": "feature_1",
                  "type": "double"
                },
                {
                  "key": "3",
                  "name": "feature_2",
                  "type": "double"
                },
                {
                  "key": "4",
                  "name": "feature_3",
                  "type": "double"
                },
                {
                  "key": "5",
                  "name": "feature_4",
                  "type": "double"
                },
                {
                  "key": "6",
                  "name": "feature_5",
                  "type": "double"
                },
                {
                  "key": "7",
                  "name": "feature_6",
                  "type": "double"
                },
                {
                  "key": "8",
                  "name": "feature_7",
                  "type": "double"
                },
                {
                  "key": "9",
                  "name": "feature_8",
                  "type": "double"
                },
                {
                  "key": "10",
                  "name": "feature_9",
                  "type": "double"
                },
                {
                  "key": "11",
                  "name": "feature_10",
                  "type": "double"
                },
                {
                  "key": "12",
                  "name": "feature_11",
                  "type": "double"
                },
                {
                  "key": "13",
                  "name": "feature_12",
                  "type": "double"
                },
                {
                  "key": "14",
                  "name": "feature_13",
                  "type": "double"
                },
                {
                  "key": "15",
                  "name": "feature_14",
                  "type": "double"
                },
                {
                  "key": "16",
                  "name": "feature_15",
                  "type": "double"
                },
                {
                  "key": "17",
                  "name": "feature_16",
                  "type": "double"
                },
                {
                  "key": "18",
                  "name": "feature_17",
                  "type": "double"
                },
                {
                  "key": "19",
                  "name": "feature_18",
                  "type": "double"
                },
                {
                  "key": "20",
                  "name": "feature_19",
                  "type": "double"
                },
                {
                  "key": "21",
                  "name": "feature_20",
                  "type": "double"
                },
                {
                  "key": "22",
                  "name": "feature_21",
                  "type": "double"
                },
                {
                  "key": "23",
                  "name": "feature_22",
                  "type": "double"
                },
                {
                  "key": "24",
                  "name": "feature_23",
                  "type": "double"
                },
                {
                  "key": "25",
                  "name": "feature_24",
                  "type": "double"
                },
                {
                  "key": "26",
                  "name": "feature_25",
                  "type": "double"
                },
                {
                  "key": "27",
                  "name": "feature_26",
                  "type": "double"
                },
                {
                  "key": "28",
                  "name": "feature_27",
                  "type": "double"
                },
                {
                  "key": "29",
                  "name": "feature_28",
                  "type": "double"
                },
                {
                  "key": "30",
                  "name": "feature_29",
                  "type": "double"
                },
                {
                  "key": "31",
                  "name": "feature_30",
                  "type": "double"
                },
                {
                  "key": "32",
                  "name": "feature_31",
                  "type": "double"
                },
                {
                  "key": "33",
                  "name": "feature_32",
                  "type": "double"
                },
                {
                  "key": "34",
                  "name": "feature_33",
                  "type": "double"
                },
                {
                  "key": "35",
                  "name": "feature_34",
                  "type": "double"
                },
                {
                  "key": "36",
                  "name": "feature_35",
                  "type": "double"
                },
                {
                  "key": "37",
                  "name": "feature_36",
                  "type": "double"
                },
                {
                  "key": "38",
                  "name": "feature_37",
                  "type": "double"
                },
                {
                  "key": "39",
                  "name": "feature_38",
                  "type": "double"
                },
                {
                  "key": "40",
                  "name": "feature_39",
                  "type": "double"
                },
                {
                  "key": "41",
                  "name": "feature_40",
                  "type": "double"
                },
                {
                  "key": "42",
                  "name": "feature_41",
                  "type": "double"
                },
                {
                  "key": "43",
                  "name": "feature_42",
                  "type": "double"
                },
                {
                  "key": "44",
                  "name": "feature_43",
                  "type": "double"
                },
                {
                  "key": "45",
                  "name": "feature_44",
                  "type": "double"
                },
                {
                  "key": "46",
                  "name": "feature_45",
                  "type": "double"
                },
                {
                  "key": "47",
                  "name": "feature_46",
                  "type": "double"
                },
                {
                  "key": "48",
                  "name": "feature_47",
                  "type": "double"
                },
                {
                  "key": "49",
                  "name": "feature_48",
                  "type": "double"
                },
                {
                  "key": "50",
                  "name": "feature_49",
                  "type": "double"
                },
                {
                  "key": "51",
                  "name": "feature_50",
                  "type": "double"
                },
                {
                  "key": "52",
                  "name": "feature_51",
                  "type": "double"
                },
                {
                  "key": "53",
                  "name": "feature_52",
                  "type": "double"
                },
                {
                  "key": "54",
                  "name": "feature_53",
                  "type": "double"
                },
                {
                  "key": "55",
                  "name": "feature_54",
                  "type": "double"
                },
                {
                  "key": "56",
                  "name": "feature_55",
                  "type": "double"
                },
                {
                  "key": "57",
                  "name": "feature_56",
                  "type": "double"
                },
                {
                  "key": "58",
                  "name": "feature_57",
                  "type": "double"
                },
                {
                  "key": "59",
                  "name": "feature_58",
                  "type": "double"
                },
                {
                  "key": "60",
                  "name": "feature_59",
                  "type": "double"
                },
                {
                  "key": "61",
                  "name": "feature_60",
                  "type": "double"
                },
                {
                  "key": "62",
                  "name": "feature_61",
                  "type": "double"
                },
                {
                  "key": "63",
                  "name": "feature_62",
                  "type": "double"
                },
                {
                  "key": "64",
                  "name": "feature_63",
                  "type": "double"
                },
                {
                  "key": "65",
                  "name": "feature_64",
                  "type": "double"
                },
                {
                  "key": "66",
                  "name": "feature_65",
                  "type": "double"
                },
                {
                  "key": "67",
                  "name": "feature_66",
                  "type": "double"
                },
                {
                  "key": "68",
                  "name": "feature_67",
                  "type": "double"
                },
                {
                  "key": "69",
                  "name": "feature_68",
                  "type": "double"
                },
                {
                  "key": "70",
                  "name": "feature_69",
                  "type": "double"
                },
                {
                  "key": "71",
                  "name": "feature_70",
                  "type": "double"
                },
                {
                  "key": "72",
                  "name": "feature_71",
                  "type": "double"
                },
                {
                  "key": "73",
                  "name": "feature_72",
                  "type": "double"
                },
                {
                  "key": "74",
                  "name": "feature_73",
                  "type": "double"
                },
                {
                  "key": "75",
                  "name": "feature_74",
                  "type": "double"
                },
                {
                  "key": "76",
                  "name": "feature_75",
                  "type": "double"
                },
                {
                  "key": "77",
                  "name": "feature_76",
                  "type": "double"
                },
                {
                  "key": "78",
                  "name": "feature_77",
                  "type": "double"
                },
                {
                  "key": "79",
                  "name": "feature_78",
                  "type": "double"
                },
                {
                  "key": "80",
                  "name": "feature_79",
                  "type": "double"
                },
                {
                  "key": "81",
                  "name": "feature_80",
                  "type": "double"
                },
                {
                  "key": "82",
                  "name": "feature_81",
                  "type": "double"
                },
                {
                  "key": "83",
                  "name": "feature_82",
                  "type": "double"
                },
                {
                  "key": "84",
                  "name": "feature_83",
                  "type": "double"
                },
                {
                  "key": "85",
                  "name": "feature_84",
                  "type": "double"
                },
                {
                  "key": "86",
                  "name": "feature_85",
                  "type": "double"
                },
                {
                  "key": "87",
                  "name": "feature_86",
                  "type": "double"
                },
                {
                  "key": "88",
                  "name": "feature_87",
                  "type": "double"
                },
                {
                  "key": "89",
                  "name": "feature_88",
                  "type": "double"
                },
                {
                  "key": "90",
                  "name": "feature_89",
                  "type": "double"
                },
                {
                  "key": "91",
                  "name": "feature_90",
                  "type": "double"
                },
                {
                  "key": "92",
                  "name": "feature_91",
                  "type": "double"
                },
                {
                  "key": "93",
                  "name": "feature_92",
                  "type": "double"
                },
                {
                  "key": "94",
                  "name": "feature_93",
                  "type": "double"
                },
                {
                  "key": "95",
                  "name": "feature_94",
                  "type": "double"
                },
                {
                  "key": "96",
                  "name": "feature_95",
                  "type": "double"
                },
                {
                  "key": "97",
                  "name": "feature_96",
                  "type": "double"
                },
                {
                  "key": "98",
                  "name": "feature_97",
                  "type": "double"
                },
                {
                  "key": "99",
                  "name": "feature_98",
                  "type": "double"
                },
                {
                  "key": "100",
                  "name": "feature_99",
                  "type": "double"
                },
                {
                  "key": "101",
                  "name": "feature_100",
                  "type": "double"
                },
                {
                  "key": "102",
                  "name": "feature_101",
                  "type": "double"
                },
                {
                  "key": "103",
                  "name": "feature_102",
                  "type": "double"
                },
                {
                  "key": "104",
                  "name": "feature_103",
                  "type": "double"
                },
                {
                  "key": "105",
                  "name": "feature_104",
                  "type": "double"
                },
                {
                  "key": "106",
                  "name": "feature_105",
                  "type": "double"
                },
                {
                  "key": "107",
                  "name": "feature_106",
                  "type": "double"
                },
                {
                  "key": "108",
                  "name": "feature_107",
                  "type": "double"
                },
                {
                  "key": "109",
                  "name": "feature_108",
                  "type": "double"
                },
                {
                  "key": "110",
                  "name": "feature_109",
                  "type": "double"
                },
                {
                  "key": "111",
                  "name": "feature_110",
                  "type": "double"
                },
                {
                  "key": "112",
                  "name": "feature_111",
                  "type": "double"
                },
                {
                  "key": "113",
                  "name": "feature_112",
                  "type": "double"
                },
                {
                  "key": "114",
                  "name": "feature_113",
                  "type": "double"
                },
                {
                  "key": "115",
                  "name": "feature_114",
                  "type": "double"
                },
                {
                  "key": "116",
                  "name": "feature_115",
                  "type": "double"
                },
                {
                  "key": "117",
                  "name": "feature_116",
                  "type": "double"
                },
                {
                  "key": "118",
                  "name": "feature_117",
                  "type": "double"
                },
                {
                  "key": "119",
                  "name": "feature_118",
                  "type": "double"
                },
                {
                  "key": "120",
                  "name": "feature_119",
                  "type": "double"
                },
                {
                  "key": "121",
                  "name": "feature_120",
                  "type": "double"
                },
                {
                  "key": "122",
                  "name": "feature_121",
                  "type": "double"
                },
                {
                  "key": "123",
                  "name": "feature_122",
                  "type": "double"
                },
                {
                  "key": "124",
                  "name": "feature_123",
                  "type": "double"
                },
                {
                  "key": "125",
                  "name": "feature_124",
                  "type": "double"
                },
                {
                  "key": "126",
                  "name": "feature_125",
                  "type": "double"
                },
                {
                  "key": "127",
                  "name": "feature_126",
                  "type": "double"
                },
                {
                  "key": "128",
                  "name": "feature_127",
                  "type": "double"
                },
                {
                  "key": "129",
                  "name": "feature_128",
                  "type": "double"
                },
                {
                  "key": "130",
                  "name": "feature_129",
                  "type": "double"
                },
                {
                  "key": "131",
                  "name": "feature_130",
                  "type": "double"
                },
                {
                  "key": "132",
                  "name": "feature_131",
                  "type": "double"
                },
                {
                  "key": "133",
                  "name": "feature_132",
                  "type": "double"
                },
                {
                  "key": "134",
                  "name": "feature_133",
                  "type": "double"
                },
                {
                  "key": "135",
                  "name": "feature_134",
                  "type": "double"
                },
                {
                  "key": "136",
                  "name": "feature_135",
                  "type": "double"
                },
                {
                  "key": "137",
                  "name": "feature_136",
                  "type": "double"
                },
                {
                  "key": "138",
                  "name": "feature_137",
                  "type": "double"
                },
                {
                  "key": "139",
                  "name": "feature_138",
                  "type": "double"
                },
                {
                  "key": "140",
                  "name": "feature_139",
                  "type": "double"
                },
                {
                  "key": "141",
                  "name": "feature_140",
                  "type": "double"
                },
                {
                  "key": "142",
                  "name": "feature_141",
                  "type": "double"
                },
                {
                  "key": "143",
                  "name": "feature_142",
                  "type": "double"
                },
                {
                  "key": "144",
                  "name": "feature_143",
                  "type": "double"
                },
                {
                  "key": "145",
                  "name": "feature_144",
                  "type": "double"
                },
                {
                  "key": "146",
                  "name": "feature_145",
                  "type": "double"
                },
                {
                  "key": "147",
                  "name": "feature_146",
                  "type": "double"
                },
                {
                  "key": "148",
                  "name": "feature_147",
                  "type": "double"
                },
                {
                  "key": "149",
                  "name": "feature_148",
                  "type": "double"
                },
                {
                  "key": "150",
                  "name": "feature_149",
                  "type": "double"
                },
                {
                  "key": "151",
                  "name": "feature_150",
                  "type": "double"
                },
                {
                  "key": "152",
                  "name": "feature_151",
                  "type": "double"
                },
                {
                  "key": "153",
                  "name": "feature_152",
                  "type": "double"
                },
                {
                  "key": "154",
                  "name": "feature_153",
                  "type": "double"
                },
                {
                  "key": "155",
                  "name": "feature_154",
                  "type": "double"
                },
                {
                  "key": "156",
                  "name": "feature_155",
                  "type": "double"
                },
                {
                  "key": "157",
                  "name": "feature_156",
                  "type": "double"
                },
                {
                  "key": "158",
                  "name": "feature_157",
                  "type": "double"
                },
                {
                  "key": "159",
                  "name": "feature_158",
                  "type": "double"
                },
                {
                  "key": "160",
                  "name": "feature_159",
                  "type": "double"
                },
                {
                  "key": "161",
                  "name": "feature_160",
                  "type": "double"
                },
                {
                  "key": "162",
                  "name": "feature_161",
                  "type": "double"
                },
                {
                  "key": "163",
                  "name": "feature_162",
                  "type": "double"
                },
                {
                  "key": "164",
                  "name": "feature_163",
                  "type": "double"
                },
                {
                  "key": "165",
                  "name": "feature_164",
                  "type": "double"
                },
                {
                  "key": "166",
                  "name": "feature_165",
                  "type": "double"
                }
              ],
              "truncated": false
            },
            "isSummary": false,
            "language": "scala",
            "wranglerEntryContext": {
              "dataframeType": "pyspark"
            }
          },
          "persist_state": {
            "view": {
              "type": "details",
              "tableOptions": {},
              "chartOptions": {
                "chartType": "bar",
                "aggregationType": "sum",
                "categoryFieldKeys": [
                  "1"
                ],
                "seriesFieldKeys": [
                  "0"
                ],
                "isStacked": false
              }
            }
          }
        },
        "aa7dd57d-0825-4b85-a4a6-22c566117f86": {
          "type": "Synapse.DataFrame",
          "sync_state": {
            "table": {
              "rows": [
                {
                  "0": "5530458",
                  "1": "1",
                  "2": "-0.17148421069432254",
                  "3": "-0.18466755143291433",
                  "4": "-1.2013688016765636",
                  "5": "-0.12196959975910057",
                  "6": "-0.04387454791734898",
                  "7": "-0.11300200928476244",
                  "8": "-0.06158379407303222",
                  "9": "-0.16211206626677477",
                  "10": "-0.1679480789436863",
                  "11": "-0.04970696439403985",
                  "12": "-0.16441742271274076",
                  "13": "-0.028741285856664783",
                  "14": "-0.035390552600813516",
                  "15": "-0.042955299258028254",
                  "16": "-0.013281614870058885",
                  "17": "-0.055326962087410225",
                  "18": "-0.16975732083008205",
                  "19": "-0.17147666184384036",
                  "20": "-0.17449021239392154",
                  "21": "0.8870578724766534",
                  "22": "0.8845565252702963",
                  "23": "-0.13973120840105796",
                  "24": "-0.14891189118002898",
                  "25": "-0.08014726965335221",
                  "26": "-0.1556614298173464",
                  "27": "-0.010763009512837094",
                  "28": "-0.012107451777478418",
                  "29": "-0.139733008128884",
                  "30": "-0.14890719023103707",
                  "31": "-0.08014673584659182",
                  "32": "-0.15566139979522017",
                  "33": "-0.0106685610738475",
                  "34": "-0.012005182118417812",
                  "35": "-0.02466883065625352",
                  "36": "-0.031272390486630317",
                  "37": "-0.0230451563960962",
                  "38": "-0.026214655177430907",
                  "39": "0.001427813709709475",
                  "40": "0.0014826437872997916",
                  "41": "-0.22721544644782224",
                  "42": "-0.23936836871437037",
                  "43": "-0.07525553154622772",
                  "44": "-0.23495151756654098",
                  "45": "0.0374680287743863",
                  "46": "0.043444221333941775",
                  "47": "-0.22720332382768585",
                  "48": "-0.24323609254239772",
                  "49": "-0.0978946778840727",
                  "50": "-0.2358964234692872",
                  "51": "0.0365766503766988",
                  "52": "0.04234513480691014",
                  "53": "-0.41396513105388405",
                  "54": "-0.48830687601391315",
                  "55": "-0.23255262057859216",
                  "56": "-0.4675157016017846",
                  "57": "0.048766817854885264",
                  "58": "0.05295606452358398",
                  "59": "-0.039150890275723924",
                  "60": "-0.17289514714852436",
                  "61": "-0.16312566098154038",
                  "62": "-0.16093257604150066",
                  "63": "0.9234729775583688",
                  "64": "0.9230107104495158",
                  "65": "-0.03914617477291923",
                  "66": "-0.1728841066916964",
                  "67": "-0.16311432375687993",
                  "68": "-0.16092569018826533",
                  "69": "0.9235162990740675",
                  "70": "0.9231101257685775",
                  "71": "-0.017031675880349647",
                  "72": "-0.030026235277791913",
                  "73": "-0.01764011962990492",
                  "74": "-0.015070900001830685",
                  "75": "-0.14076322246003314",
                  "76": "-0.14033462388732307",
                  "77": "-0.09540268927284089",
                  "78": "-0.2644245982707773",
                  "79": "-0.25057351731181604",
                  "80": "-0.26375259742809054",
                  "81": "-0.1691189058033812",
                  "82": "-0.16716538150264335",
                  "83": "-0.05901305478547111",
                  "84": "-0.26242388753553797",
                  "85": "-0.2551681497514608",
                  "86": "-0.25925104603653304",
                  "87": "-0.18719096452790498",
                  "88": "-0.18527362579169893",
                  "89": "-0.2936922296799922",
                  "90": "-0.7606997978663795",
                  "91": "-0.6927768599024823",
                  "92": "-0.7197891565142742",
                  "93": "-1.0849067857111534",
                  "94": "-1.0848448955263614",
                  "95": "-0.17011278066229815",
                  "96": "-0.20233205942689592",
                  "97": "-0.1168167152870516",
                  "98": "-0.19240475183323666",
                  "99": "-0.014658775691506424",
                  "100": "-0.018848712954381765",
                  "101": "-1.4579211729426413",
                  "102": "-1.494024263129434",
                  "103": "-0.08345878401951694",
                  "104": "-1.4859394970873494",
                  "105": "-0.08879772536984745",
                  "106": "-0.0904370818830761",
                  "107": "-0.16654994856468994",
                  "108": "-0.21653637857822206",
                  "109": "-0.13454647495572797",
                  "110": "-0.19481661068542533",
                  "111": "-0.0031749902209437055",
                  "112": "-0.004094090363360379",
                  "113": "-1.0963356939258175",
                  "114": "-1.2673399140326196",
                  "115": "-0.3499327749819623",
                  "116": "-1.230440801051298",
                  "117": "-0.004357614038573012",
                  "118": "-0.004194370240563965",
                  "119": "-0.11642460389073964",
                  "120": "-0.1766172824237854",
                  "121": "-0.13732327709079195",
                  "122": "-0.15246437130048263",
                  "123": "-0.02605968882058813",
                  "124": "-0.027659714028485525",
                  "125": "-0.09314472701426248",
                  "126": "-0.14370672448675942",
                  "127": "-0.09771859912616487",
                  "128": "-0.12746225048300552",
                  "129": "0.0031432964315106413",
                  "130": "0.0024263098865888125",
                  "131": "-0.12132982954666281",
                  "132": "-0.1109327872232307",
                  "133": "-0.07590935781589098",
                  "134": "-0.11164122503846352",
                  "135": "-1.159648797029665",
                  "136": "-1.1601288555070002",
                  "137": "-1.3737225777247042",
                  "138": "-1.3539182358417168",
                  "139": "-0.29598231757040905",
                  "140": "-1.4032145912639946",
                  "141": "-0.9757375123778044",
                  "142": "-0.9752365572215277",
                  "143": "-0.1687415525999319",
                  "144": "-0.2632899793457287",
                  "145": "-0.186388802919495",
                  "146": "-0.2508745590125382",
                  "147": "-1.0159633735173061",
                  "148": "-1.0162304272806977",
                  "149": "-0.968902874660573",
                  "150": "0.14699720416530723",
                  "151": "1.3662870660774065",
                  "152": "-0.4647732217260898",
                  "153": "-1.1169181674273414",
                  "154": "-1.116948469117354",
                  "155": "-0.21681436061843226",
                  "156": "0.6342720081328951",
                  "157": "0.9473820151871388",
                  "158": "0.6731033464047642",
                  "159": "-0.979073766855825",
                  "160": "-0.9785560465643004",
                  "161": "0.01827940003744589",
                  "162": "-0.0874901561101501",
                  "163": "-0.13115530389558736",
                  "164": "-0.09752359377152515",
                  "165": "-0.12061340670311574",
                  "166": "-0.11979245961251665",
                  "167": "1",
                  "168": "1",
                  "169": "2"
                },
                {
                  "0": "232022460",
                  "1": "1",
                  "2": "-0.17210694047251704",
                  "3": "-0.18466755143291433",
                  "4": "-1.2013688016765636",
                  "5": "-0.12196959975910057",
                  "6": "-0.04387454791734898",
                  "7": "-0.11300200928476244",
                  "8": "-0.06158379407303222",
                  "9": "-0.16274921065307707",
                  "10": "-0.1685762937743978",
                  "11": "-0.04970696439403985",
                  "12": "-0.16505385606305262",
                  "13": "-0.028741285856664783",
                  "14": "-0.035390552600813516",
                  "15": "-0.042955299258028254",
                  "16": "-0.013281614870058885",
                  "17": "-0.055298247601998494",
                  "18": "-0.17039959147478634",
                  "19": "-0.1722171712893571",
                  "20": "-0.1752274581348176",
                  "21": "0.8870578724766534",
                  "22": "0.8845565252702963",
                  "23": "-0.13972935962809574",
                  "24": "-0.14891071149442775",
                  "25": "-0.08014726965335221",
                  "26": "-0.15565986327248124",
                  "27": "-0.010763009512837094",
                  "28": "-0.012107451777478418",
                  "29": "-0.13973115907531855",
                  "30": "-0.14890601046686328",
                  "31": "-0.08014673584659182",
                  "32": "-0.1556598330828762",
                  "33": "-0.0106685610738475",
                  "34": "-0.012005182118417812",
                  "35": "-0.02466883065625352",
                  "36": "-0.031272390486630317",
                  "37": "-0.0230451563960962",
                  "38": "-0.026214655177430907",
                  "39": "0.001427813709709475",
                  "40": "0.0014826437872997916",
                  "41": "-0.22717760210010984",
                  "42": "-0.23933273596227653",
                  "43": "-0.07525553154622772",
                  "44": "-0.23491447546792882",
                  "45": "0.0374680287743863",
                  "46": "0.043444221333941775",
                  "47": "-0.22716393562296464",
                  "48": "-0.24319756681972446",
                  "49": "-0.0978946778840727",
                  "50": "-0.23585727121325867",
                  "51": "0.0365766503766988",
                  "52": "0.04234513480691014",
                  "53": "-0.26873654366394206",
                  "54": "-0.36752081543383347",
                  "55": "-0.23255262057859216",
                  "56": "-0.3281628931792348",
                  "57": "0.048766817854885264",
                  "58": "0.05295606452358398",
                  "59": "-0.03914115467609643",
                  "60": "-0.17287053786380535",
                  "61": "-0.16310098152590424",
                  "62": "-0.16090661505843476",
                  "63": "-1.316342283664295",
                  "64": "-1.3153883882753692",
                  "65": "-0.039136437166759463",
                  "66": "-0.17285949627746336",
                  "67": "-0.16308964491228392",
                  "68": "-0.16089972903429814",
                  "69": "-1.3163333780274464",
                  "70": "-1.315375381290753",
                  "71": "-0.017031675880349647",
                  "72": "-0.0300253386933143",
                  "73": "-0.017639167067003525",
                  "74": "-0.01506996414506404",
                  "75": "-2.4284255232812764",
                  "76": "-2.429065026252751",
                  "77": "-0.0951039362673167",
                  "78": "-0.2636746475236168",
                  "79": "-0.2498356408565478",
                  "80": "-0.26296308445942856",
                  "81": "-1.4717644946197315",
                  "82": "-1.470277463738429",
                  "83": "-0.05852429114148316",
                  "84": "-0.26161229338963043",
                  "85": "-0.2543726818019155",
                  "86": "-0.25838654089981916",
                  "87": "-1.4999715377938674",
                  "88": "-1.498585280585486",
                  "89": "-0.021809414711665323",
                  "90": "1.936814150855087",
                  "91": "2.4487848645651886",
                  "92": "1.7751079093672535",
                  "93": "-1.0849067857111534",
                  "94": "-1.0848448955263614",
                  "95": "-0.17052781770192518",
                  "96": "-0.20265788978089322",
                  "97": "-0.1168167152870516",
                  "98": "-0.1928108756545022",
                  "99": "-0.014658775691506424",
                  "100": "-0.018848712954381765",
                  "101": "-1.4579532008792007",
                  "102": "-1.494056831372085",
                  "103": "-0.08345878401951694",
                  "104": "-1.4859719767717499",
                  "105": "-0.08879772536984745",
                  "106": "-0.0904370818830761",
                  "107": "-0.16654994856468994",
                  "108": "-0.21653637857822206",
                  "109": "-0.13454647495572797",
                  "110": "-0.19481661068542533",
                  "111": "-0.0031749902209437055",
                  "112": "-0.004094090363360379",
                  "113": "-1.0963356939258175",
                  "114": "-1.2673399140326196",
                  "115": "-0.3499327749819623",
                  "116": "-1.230440801051298",
                  "117": "-0.004357614038573012",
                  "118": "-0.004194370240563965",
                  "119": "-0.11642460389073964",
                  "120": "-0.1766172824237854",
                  "121": "-0.13732327709079195",
                  "122": "-0.15246437130048263",
                  "123": "-0.02605968882058813",
                  "124": "-0.027659714028485525",
                  "125": "-0.09555926971481787",
                  "126": "-0.14512594341804702",
                  "127": "-0.09771859912616487",
                  "128": "-0.1294956950866637",
                  "129": "0.0031432964315106413",
                  "130": "0.0024263098865888125",
                  "131": "-0.12297446336502392",
                  "132": "-0.04155591623042134",
                  "133": "0.012548628693558375",
                  "134": "-0.03224393832476838",
                  "135": "-1.159648797029665",
                  "136": "-1.1601288555070002",
                  "137": "-1.3739023216861717",
                  "138": "-1.35620980438391",
                  "139": "-0.30154812530835085",
                  "140": "-1.4045772210587457",
                  "141": "-0.9757375123778044",
                  "142": "-0.9752365572215277",
                  "143": "-0.1687415525999319",
                  "144": "-0.19246822574665903",
                  "145": "-0.09979025242782867",
                  "146": "-0.18213304490240145",
                  "147": "-1.0159633735173061",
                  "148": "-1.0162304272806977",
                  "149": "-0.968902874660573",
                  "150": "-1.4211380025686302",
                  "151": "-0.4533295316850304",
                  "152": "-1.3754413186377648",
                  "153": "-1.1169181674273414",
                  "154": "-1.116948469117354",
                  "155": "-0.21681436061843226",
                  "156": "0.40716105050193463",
                  "157": "0.6708829392831981",
                  "158": "0.4397281841959045",
                  "159": "-0.979073766855825",
                  "160": "-0.9785560465643004",
                  "161": "-0.098888736679456",
                  "162": "-0.10671461380666906",
                  "163": "-0.13115530389558736",
                  "164": "-0.18367056324178724",
                  "165": "-0.12061340670311574",
                  "166": "-0.11979245961251665",
                  "167": "1",
                  "168": "2",
                  "169": "3"
                },
                {
                  "0": "232438397",
                  "1": "1",
                  "2": "0.1630541194596208",
                  "3": "1.9637897565339713",
                  "4": "-0.6463761259214303",
                  "5": "12.40929429855237",
                  "6": "-0.06372457323883694",
                  "7": "9.782742141573907",
                  "8": "12.414557565154297",
                  "9": "-0.1636452106809395",
                  "10": "-0.11583146100367737",
                  "11": "0.043598310647744803",
                  "12": "-0.16390494340091055",
                  "13": "1.059993281891899",
                  "14": "2.3974572678727233",
                  "15": "-0.06319995329439423",
                  "16": "-0.013281614870058885",
                  "17": "4.800239880852332",
                  "18": "0.17432903822550858",
                  "19": "-0.1729081406182527",
                  "20": "0.6193993170674021",
                  "21": "-0.24329965245862148",
                  "22": "-0.24345165116622178",
                  "23": "-0.13973183050570184",
                  "24": "-0.14689535936129625",
                  "25": "-0.07966741189249549",
                  "26": "-0.15555351260935377",
                  "27": "0.773846809331059",
                  "28": "0.3785156574088869",
                  "29": "-0.13973363032794975",
                  "30": "-0.14689052411735182",
                  "31": "-0.07966687845623453",
                  "32": "-0.15555347106574582",
                  "33": "0.7739316501061592",
                  "34": "0.378592875963857",
                  "35": "-0.02466883065625352",
                  "36": "-0.03127063653665789",
                  "37": "-0.023043917470047064",
                  "38": "-0.026214630158265105",
                  "39": "0.10100803261233597",
                  "40": "0.026315321410687126",
                  "41": "-0.22721544644782224",
                  "42": "-0.15677164936087457",
                  "43": "0.08930672028917983",
                  "44": "-0.21219499091944907",
                  "45": "-2.7720147679929728",
                  "46": "-2.371968590497654",
                  "47": "-0.22720332382768585",
                  "48": "-0.22115122201993903",
                  "49": "-0.06685777177573918",
                  "50": "-0.23201067858302685",
                  "51": "-2.1655335705958403",
                  "52": "-2.1758550171367785",
                  "53": "-0.4140081318412528",
                  "54": "4.181192387187964",
                  "55": "4.346639728389318",
                  "56": "1.7779630714269525",
                  "57": "-1.4515445798708968",
                  "58": "-1.5302502064241157",
                  "59": "4.628683400036031",
                  "60": "0.5138044598260122",
                  "61": "-0.16312599009939752",
                  "62": "1.2082195396132684",
                  "63": "-0.19643465305296312",
                  "64": "-0.1961888389129267",
                  "65": "4.629650168262074",
                  "66": "0.5138694722722894",
                  "67": "-0.16311465287801424",
                  "68": "1.2082777436441632",
                  "69": "-0.19640853947668943",
                  "70": "-0.19613262776108772",
                  "71": "-0.017031675880349647",
                  "72": "-0.030026235277791913",
                  "73": "-0.01764011962990492",
                  "74": "-0.015070900001830685",
                  "75": "-0.14076322246003314",
                  "76": "-0.14033462388732307",
                  "77": "4.313295413247757",
                  "78": "0.21675032241822503",
                  "79": "-0.25057351731181604",
                  "80": "0.7071509757839788",
                  "81": "-0.1691189058033812",
                  "82": "-0.16716538150264335",
                  "83": "6.220011288616725",
                  "84": "0.21694839264551205",
                  "85": "-0.2551681497514608",
                  "86": "0.7171077552891034",
                  "87": "-0.18719096452790498",
                  "88": "-0.18527362579169893",
                  "89": "3.9915873440063407",
                  "90": "0.8108785465092069",
                  "91": "-0.6942351992761703",
                  "92": "2.0846507447685347",
                  "93": "0.02530798288975985",
                  "94": "0.02521690346605265",
                  "95": "-0.17109796873713376",
                  "96": "0.266450069451744",
                  "97": "0.15943173201871505",
                  "98": "-0.15994556208342817",
                  "99": "0.9704651746436289",
                  "100": "1.9283824131788028",
                  "101": "-1.4579532008792007",
                  "102": "-1.4939916948867829",
                  "103": "-0.083124061373484",
                  "104": "-1.4859568969182846",
                  "105": "-0.23417111125635615",
                  "106": "-0.20551267339971976",
                  "107": "-0.17621935145577072",
                  "108": "-0.05601061766549818",
                  "109": "-0.08282155195637242",
                  "110": "-0.19169648128544414",
                  "111": "0.3237734462495814",
                  "112": "0.6686214846866907",
                  "113": "-1.0963356939258175",
                  "114": "0.7874346980684294",
                  "115": "0.8561625052061652",
                  "116": "-1.1045296072012591",
                  "117": "0.7151147052066719",
                  "118": "0.958373486053451",
                  "119": "-0.11642460389073964",
                  "120": "0.31204672776267356",
                  "121": "0.06462321346460068",
                  "122": "-0.10175483530563172",
                  "123": "-0.24767556804258073",
                  "124": "-1.2019927803360144",
                  "125": "-0.09555926971481787",
                  "126": "0.5233261732184042",
                  "127": "0.019770659026476324",
                  "128": "-0.11919532986218091",
                  "129": "0.1478805724557926",
                  "130": "0.9561703764452162",
                  "131": "0.7597559462836802",
                  "132": "-0.04155636353180128",
                  "133": "-0.18871580892327997",
                  "134": "0.14994873376884874",
                  "135": "-0.04772212534083709",
                  "136": "-0.048170683930153474",
                  "137": "-1.3737225777247042",
                  "138": "-1.3561307847790067",
                  "139": "-0.30175426633568203",
                  "140": "-1.4044453536592538",
                  "141": "0.18313274490455683",
                  "142": "0.18274808525809128",
                  "143": "-0.1635773401749778",
                  "144": "-0.4565612772709425",
                  "145": "-0.4246718150208637",
                  "146": "-0.43691536984505247",
                  "147": "0.14300140508806736",
                  "148": "0.14252521079133695",
                  "149": "-0.42589611743415573",
                  "150": "-1.4211380025686302",
                  "151": "-1.0598683976058427",
                  "152": "-1.071885286333873",
                  "153": "0.18559736690054543",
                  "154": "0.18549200384553188",
                  "155": "-0.21681436061843226",
                  "156": "-0.6179073258324005",
                  "157": "-0.5770993762832375",
                  "158": "-0.6136137641521922",
                  "159": "0.24112827704983203",
                  "160": "0.24140644581794593",
                  "161": "1.0727926304895627",
                  "162": "0.08552996315852067",
                  "163": "-0.13115530389558736",
                  "164": "0.6777991314608336",
                  "165": "-0.12061340670311574",
                  "166": "-0.11979245961251665",
                  "167": "160",
                  "168": "1",
                  "169": "161"
                },
                {
                  "0": "230460314",
                  "1": "1",
                  "2": "1.0115232289275187",
                  "3": "-0.08112744020559452",
                  "4": "-1.2013688016765636",
                  "5": "1.1536680425839834",
                  "6": "0.3332759331909223",
                  "7": "1.3126560463474188",
                  "8": "-0.06158379407303222",
                  "9": "-0.1635232380956241",
                  "10": "0.041399097381600636",
                  "11": "0.9358863815730533",
                  "12": "-0.0986953374147462",
                  "13": "1.2030380749185423",
                  "14": "0.9889022917429948",
                  "15": "0.34169312743292546",
                  "16": "-0.013281614870058885",
                  "17": "-0.057392091794025185",
                  "18": "0.05832871793785306",
                  "19": "-0.03293006997850107",
                  "20": "-0.04270910035165402",
                  "21": "0.06545483648179744",
                  "22": "0.3249472741030888",
                  "23": "-0.13973180722667305",
                  "24": "-0.14885440016817775",
                  "25": "-0.08010477138380956",
                  "26": "-0.15563767533697326",
                  "27": "1.313051444789839",
                  "28": "1.1069649974915918",
                  "29": "-0.13973360704538773",
                  "30": "-0.14884969539001597",
                  "31": "-0.08010423761033475",
                  "32": "-0.15563764277526337",
                  "33": "1.3131297191885363",
                  "34": "1.1069954997622102",
                  "35": "-0.02466883065625352",
                  "36": "-0.031272390486630317",
                  "37": "-0.0230451563960962",
                  "38": "-0.026214655177430907",
                  "39": "0.001427813709709475",
                  "40": "0.0014826437872997916",
                  "41": "-0.22721544644782224",
                  "42": "-0.2393594605263469",
                  "43": "-0.0752419102090522",
                  "44": "-0.2349504886193573",
                  "45": "-0.866062416997784",
                  "46": "-0.856033520014764",
                  "47": "-0.22720332382768585",
                  "48": "-0.2432264611117294",
                  "49": "-0.09787224012670151",
                  "50": "-0.23589533590661974",
                  "51": "-0.8710277203019383",
                  "52": "-0.861079023801688",
                  "53": "-0.41403146826217113",
                  "54": "-0.48728448829904597",
                  "55": "-0.2312243345255989",
                  "56": "-0.4672735725213412",
                  "57": "0.5570304187318178",
                  "58": "0.7459759155966266",
                  "59": "-0.03915113802673277",
                  "60": "-0.17283854647116656",
                  "61": "-0.1630941062418089",
                  "62": "-0.16090365562876707",
                  "63": "0.09403876704402929",
                  "64": "0.22242086266679198",
                  "65": "-0.03914642366909366",
                  "66": "-0.17282750156573964",
                  "67": "-0.16308276709836494",
                  "68": "-0.16089677160988305",
                  "69": "0.09408092691742467",
                  "70": "0.20214336505336478",
                  "71": "-0.017031675880349647",
                  "72": "-0.02999198575074722",
                  "73": "-0.01762889007929442",
                  "74": "-0.015067495265784422",
                  "75": "-0.30971828053921224",
                  "76": "-0.3093685664934549",
                  "77": "-0.09540268927284089",
                  "78": "-0.2644164466322212",
                  "79": "-0.25056926536118673",
                  "80": "-0.2637502476871124",
                  "81": "-0.8424389046974361",
                  "82": "-0.8407265045761028",
                  "83": "-0.059135245696468094",
                  "84": "-0.2624145588671942",
                  "85": "-0.25516223440835706",
                  "86": "-0.2592492365019716",
                  "87": "-0.6962061365177382",
                  "88": "-0.7140926206135277",
                  "89": "-0.29389678930630325",
                  "90": "-0.76139920049465",
                  "91": "-0.6939222540365456",
                  "92": "-0.7207898984810976",
                  "93": "-0.48731509040115",
                  "94": "-0.5630886997026655",
                  "95": "-0.16297402524165944",
                  "96": "0.8449319001918734",
                  "97": "1.723413594737948",
                  "98": "0.4402980292639065",
                  "99": "1.2144404378705445",
                  "100": "1.0496493019281077",
                  "101": "-1.4600350167555578",
                  "102": "-1.4941219678573872",
                  "103": "-0.07038936061800023",
                  "104": "-1.4864699985992225",
                  "105": "-0.8613245350814462",
                  "106": "-1.0915591323648275",
                  "107": "-0.16654994856468994",
                  "108": "-0.17429275728539997",
                  "109": "-0.09125826129476869",
                  "110": "-0.15470743539827056",
                  "111": "1.6648427601189297",
                  "112": "1.6646213221435622",
                  "113": "-1.0963356939258175",
                  "114": "-1.2673399140326196",
                  "115": "-0.3499327749819623",
                  "116": "-1.230440801051298",
                  "117": "-0.004357614038573012",
                  "118": "-0.004194370240563965",
                  "119": "-0.011925389669219669",
                  "120": "1.228291746862284",
                  "121": "1.1934969804569946",
                  "122": "1.4717774331406495",
                  "123": "1.7963743420030336",
                  "124": "1.817236513778945",
                  "125": "-0.09314472701426248",
                  "126": "-0.11674156479229536",
                  "127": "-0.07790869409016592",
                  "128": "-0.0931196305101119",
                  "129": "1.5876902428332762",
                  "130": "1.58653924435534",
                  "131": "-0.10182032300364637",
                  "132": "0.7045579972457777",
                  "133": "0.4488982019179086",
                  "134": "0.6596618396674664",
                  "135": "0.3110913062452852",
                  "136": "0.30219827695855156",
                  "137": "-1.3739622363399944",
                  "138": "-1.3553932684665766",
                  "139": "-0.300941174031643",
                  "140": "-1.4045830818320568",
                  "141": "0.06484581626136972",
                  "142": "-0.035231687423483385",
                  "143": "-0.1687415525999319",
                  "144": "-0.44215620173325426",
                  "145": "-0.41654019458443187",
                  "146": "-0.41827276070290725",
                  "147": "0.3676053940698535",
                  "148": "0.3920351694291467",
                  "149": "-0.968902874660573",
                  "150": "-1.9438497381466093",
                  "151": "-1.0598683976058427",
                  "152": "-1.6789973509416563",
                  "153": "0.18559736690054543",
                  "154": "0.18549200384553188",
                  "155": "-0.16947185978516296",
                  "156": "-0.4705921100717775",
                  "157": "-0.511870567590902",
                  "158": "-0.4004223997559905",
                  "159": "0.5172568118837553",
                  "160": "0.579381538237923",
                  "161": "0.01827940003744589",
                  "162": "0.2777745401237104",
                  "163": "0.32639412083754343",
                  "164": "1.2937499631732075",
                  "165": "0.1781360219171739",
                  "166": "0.17911704630690475",
                  "167": "2",
                  "168": "8",
                  "169": "10"
                },
                {
                  "0": "230459870",
                  "1": "1",
                  "2": "0.961040314282148",
                  "3": "-0.08112744020559452",
                  "4": "-1.2013688016765636",
                  "5": "1.3037430593302284",
                  "6": "0.3332759331909223",
                  "7": "1.4803805234806167",
                  "8": "-0.06158379407303222",
                  "9": "-0.16357725504254986",
                  "10": "0.038305305732996266",
                  "11": "0.8163770946037726",
                  "12": "-0.10800044494893145",
                  "13": "0.9075772418152211",
                  "14": "0.5174024110133048",
                  "15": "0.34169312743292546",
                  "16": "-0.013281614870058885",
                  "17": "-0.057392091794025185",
                  "18": "0.06003325871821347",
                  "19": "-0.010828994910273339",
                  "20": "-0.04840113795670586",
                  "21": "-0.24363891158336293",
                  "22": "-0.5349758422192962",
                  "23": "-0.13973183014856735",
                  "24": "-0.1488552497865746",
                  "25": "-0.08011000016843094",
                  "26": "-0.1556411214749687",
                  "27": "1.0016460199717747",
                  "28": "0.5918364097328129",
                  "29": "-0.13973362997076105",
                  "30": "-0.1488505450650014",
                  "31": "-0.08010946639086083",
                  "32": "-0.15564108928168427",
                  "33": "1.0017280990455697",
                  "34": "0.5918999477854127",
                  "35": "-0.02466883065625352",
                  "36": "-0.031272390486630317",
                  "37": "-0.0230451563960962",
                  "38": "-0.026214655177430907",
                  "39": "0.001427813709709475",
                  "40": "0.0014826437872997916",
                  "41": "-0.22721544644782224",
                  "42": "-0.23936836871437037",
                  "43": "-0.07525553154622772",
                  "44": "-0.23495151756654098",
                  "45": "0.0374680287743863",
                  "46": "0.043444221333941775",
                  "47": "-0.22720332382768585",
                  "48": "-0.24323609254239772",
                  "49": "-0.0978946778840727",
                  "50": "-0.2358964234692872",
                  "51": "0.0365766503766988",
                  "52": "0.04234513480691014",
                  "53": "-0.41403146826217113",
                  "54": "-0.4882370613754273",
                  "55": "-0.23243803287184828",
                  "56": "-0.467563385582902",
                  "57": "-0.34780774126836095",
                  "58": "-0.33814329113548924",
                  "59": "-0.03915113802673277",
                  "60": "-0.1726635210865653",
                  "61": "-0.16304599795053307",
                  "62": "-0.16088759405673952",
                  "63": "-0.2161084246287262",
                  "64": "-0.3197368411152747",
                  "65": "-0.0391464225749902",
                  "66": "-0.17265246242480575",
                  "67": "-0.16303465993262833",
                  "68": "-0.160880706517502",
                  "69": "-0.2160826133497673",
                  "70": "-0.3196853992546226",
                  "71": "-0.017031675880349647",
                  "72": "-0.030026235277791913",
                  "73": "-0.01764011962990492",
                  "74": "-0.015070900001830685",
                  "75": "-0.14076322246003314",
                  "76": "-0.14033462388732307",
                  "77": "-0.09540268927284089",
                  "78": "-0.26440014335510903",
                  "79": "-0.2505650134105574",
                  "80": "-0.26374789794613424",
                  "81": "-0.11056934068216029",
                  "82": "-0.02361209088897132",
                  "83": "-0.05901305478547111",
                  "84": "-0.2624052301988505",
                  "85": "-0.2551608448415946",
                  "86": "-0.2592465222001295",
                  "87": "-0.0890508602471162",
                  "88": "-0.04059673098195356",
                  "89": "-0.29389678930630325",
                  "90": "-0.7603983556166393",
                  "91": "-0.69350907398521",
                  "92": "-0.7205023187139363",
                  "93": "-0.20575541953853915",
                  "94": "-0.3882442714288613",
                  "95": "-0.16297402524165944",
                  "96": "0.5307939448501756",
                  "97": "1.169423689378955",
                  "98": "0.3650162970997145",
                  "99": "0.7226151021476083",
                  "100": "0.8296246049724562",
                  "101": "-1.4582094243716752",
                  "102": "-1.4941219678573872",
                  "103": "-0.08234189035179174",
                  "104": "-1.486062919888071",
                  "105": "0.3015038290514504",
                  "106": "0.29732476214229336",
                  "107": "-0.13320717997475626",
                  "108": "-0.17429275728539997",
                  "109": "-0.1129691627257225",
                  "110": "-0.14969378848737622",
                  "111": "0.878669651787854",
                  "112": "0.9671271225381696",
                  "113": "-1.0963356939258175",
                  "114": "-1.2673399140326196",
                  "115": "-0.3499327749819623",
                  "116": "-1.230440801051298",
                  "117": "-0.004357614038573012",
                  "118": "-0.004194370240563965",
                  "119": "1.03306675254598",
                  "120": "1.2893747481355913",
                  "121": "0.7741686485949967",
                  "122": "1.6772278865500905",
                  "123": "1.0642367485911655",
                  "124": "0.8636554505968632",
                  "125": "-0.04726841570371008",
                  "126": "-0.11674156479229536",
                  "127": "-0.09771859912616487",
                  "128": "-0.0888268030135002",
                  "129": "0.0031432964315106413",
                  "130": "0.0024263098865888125",
                  "131": "-0.10104571815095523",
                  "132": "0.7045579972457777",
                  "133": "0.382060439768322",
                  "134": "0.2725027954967985",
                  "135": "-0.43300476400912774",
                  "136": "-0.4923874926069707",
                  "137": "-1.3739622363399944",
                  "138": "-1.3544450332077382",
                  "139": "-0.30006182026439776",
                  "140": "-1.404411863526048",
                  "141": "-0.10801781258374418",
                  "142": "-0.35736235722737564",
                  "143": "-0.1687415525999319",
                  "144": "-0.44146475810744523",
                  "145": "-0.41569334830614146",
                  "146": "-0.4198363725554008",
                  "147": "-0.33039615443834264",
                  "148": "-0.23619910216311657",
                  "149": "-0.968902874660573",
                  "150": "-0.37571453141267186",
                  "151": "-0.49832252424310597",
                  "152": "-1.592267055997687",
                  "153": "0.13749879315729632",
                  "154": "0.13739620192688362",
                  "155": "-0.16947185978516296",
                  "156": "-0.44603957411167366",
                  "157": "-0.504701533661336",
                  "158": "-0.4225885348538205",
                  "159": "-0.2267903357428618",
                  "160": "-0.11762933738347829",
                  "161": "0.01827940003744589",
                  "162": "0.2777745401237104",
                  "163": "0.4139307519216626",
                  "164": "1.1495563452265547",
                  "165": "-0.6960528472346671",
                  "166": "-0.6955402347637503",
                  "167": "4",
                  "168": "6",
                  "169": "10"
                }
              ],
              "schema": [
                {
                  "key": "0",
                  "name": "txId",
                  "type": "int"
                },
                {
                  "key": "1",
                  "name": "time_step",
                  "type": "int"
                },
                {
                  "key": "2",
                  "name": "feature_1",
                  "type": "double"
                },
                {
                  "key": "3",
                  "name": "feature_2",
                  "type": "double"
                },
                {
                  "key": "4",
                  "name": "feature_3",
                  "type": "double"
                },
                {
                  "key": "5",
                  "name": "feature_4",
                  "type": "double"
                },
                {
                  "key": "6",
                  "name": "feature_5",
                  "type": "double"
                },
                {
                  "key": "7",
                  "name": "feature_6",
                  "type": "double"
                },
                {
                  "key": "8",
                  "name": "feature_7",
                  "type": "double"
                },
                {
                  "key": "9",
                  "name": "feature_8",
                  "type": "double"
                },
                {
                  "key": "10",
                  "name": "feature_9",
                  "type": "double"
                },
                {
                  "key": "11",
                  "name": "feature_10",
                  "type": "double"
                },
                {
                  "key": "12",
                  "name": "feature_11",
                  "type": "double"
                },
                {
                  "key": "13",
                  "name": "feature_12",
                  "type": "double"
                },
                {
                  "key": "14",
                  "name": "feature_13",
                  "type": "double"
                },
                {
                  "key": "15",
                  "name": "feature_14",
                  "type": "double"
                },
                {
                  "key": "16",
                  "name": "feature_15",
                  "type": "double"
                },
                {
                  "key": "17",
                  "name": "feature_16",
                  "type": "double"
                },
                {
                  "key": "18",
                  "name": "feature_17",
                  "type": "double"
                },
                {
                  "key": "19",
                  "name": "feature_18",
                  "type": "double"
                },
                {
                  "key": "20",
                  "name": "feature_19",
                  "type": "double"
                },
                {
                  "key": "21",
                  "name": "feature_20",
                  "type": "double"
                },
                {
                  "key": "22",
                  "name": "feature_21",
                  "type": "double"
                },
                {
                  "key": "23",
                  "name": "feature_22",
                  "type": "double"
                },
                {
                  "key": "24",
                  "name": "feature_23",
                  "type": "double"
                },
                {
                  "key": "25",
                  "name": "feature_24",
                  "type": "double"
                },
                {
                  "key": "26",
                  "name": "feature_25",
                  "type": "double"
                },
                {
                  "key": "27",
                  "name": "feature_26",
                  "type": "double"
                },
                {
                  "key": "28",
                  "name": "feature_27",
                  "type": "double"
                },
                {
                  "key": "29",
                  "name": "feature_28",
                  "type": "double"
                },
                {
                  "key": "30",
                  "name": "feature_29",
                  "type": "double"
                },
                {
                  "key": "31",
                  "name": "feature_30",
                  "type": "double"
                },
                {
                  "key": "32",
                  "name": "feature_31",
                  "type": "double"
                },
                {
                  "key": "33",
                  "name": "feature_32",
                  "type": "double"
                },
                {
                  "key": "34",
                  "name": "feature_33",
                  "type": "double"
                },
                {
                  "key": "35",
                  "name": "feature_34",
                  "type": "double"
                },
                {
                  "key": "36",
                  "name": "feature_35",
                  "type": "double"
                },
                {
                  "key": "37",
                  "name": "feature_36",
                  "type": "double"
                },
                {
                  "key": "38",
                  "name": "feature_37",
                  "type": "double"
                },
                {
                  "key": "39",
                  "name": "feature_38",
                  "type": "double"
                },
                {
                  "key": "40",
                  "name": "feature_39",
                  "type": "double"
                },
                {
                  "key": "41",
                  "name": "feature_40",
                  "type": "double"
                },
                {
                  "key": "42",
                  "name": "feature_41",
                  "type": "double"
                },
                {
                  "key": "43",
                  "name": "feature_42",
                  "type": "double"
                },
                {
                  "key": "44",
                  "name": "feature_43",
                  "type": "double"
                },
                {
                  "key": "45",
                  "name": "feature_44",
                  "type": "double"
                },
                {
                  "key": "46",
                  "name": "feature_45",
                  "type": "double"
                },
                {
                  "key": "47",
                  "name": "feature_46",
                  "type": "double"
                },
                {
                  "key": "48",
                  "name": "feature_47",
                  "type": "double"
                },
                {
                  "key": "49",
                  "name": "feature_48",
                  "type": "double"
                },
                {
                  "key": "50",
                  "name": "feature_49",
                  "type": "double"
                },
                {
                  "key": "51",
                  "name": "feature_50",
                  "type": "double"
                },
                {
                  "key": "52",
                  "name": "feature_51",
                  "type": "double"
                },
                {
                  "key": "53",
                  "name": "feature_52",
                  "type": "double"
                },
                {
                  "key": "54",
                  "name": "feature_53",
                  "type": "double"
                },
                {
                  "key": "55",
                  "name": "feature_54",
                  "type": "double"
                },
                {
                  "key": "56",
                  "name": "feature_55",
                  "type": "double"
                },
                {
                  "key": "57",
                  "name": "feature_56",
                  "type": "double"
                },
                {
                  "key": "58",
                  "name": "feature_57",
                  "type": "double"
                },
                {
                  "key": "59",
                  "name": "feature_58",
                  "type": "double"
                },
                {
                  "key": "60",
                  "name": "feature_59",
                  "type": "double"
                },
                {
                  "key": "61",
                  "name": "feature_60",
                  "type": "double"
                },
                {
                  "key": "62",
                  "name": "feature_61",
                  "type": "double"
                },
                {
                  "key": "63",
                  "name": "feature_62",
                  "type": "double"
                },
                {
                  "key": "64",
                  "name": "feature_63",
                  "type": "double"
                },
                {
                  "key": "65",
                  "name": "feature_64",
                  "type": "double"
                },
                {
                  "key": "66",
                  "name": "feature_65",
                  "type": "double"
                },
                {
                  "key": "67",
                  "name": "feature_66",
                  "type": "double"
                },
                {
                  "key": "68",
                  "name": "feature_67",
                  "type": "double"
                },
                {
                  "key": "69",
                  "name": "feature_68",
                  "type": "double"
                },
                {
                  "key": "70",
                  "name": "feature_69",
                  "type": "double"
                },
                {
                  "key": "71",
                  "name": "feature_70",
                  "type": "double"
                },
                {
                  "key": "72",
                  "name": "feature_71",
                  "type": "double"
                },
                {
                  "key": "73",
                  "name": "feature_72",
                  "type": "double"
                },
                {
                  "key": "74",
                  "name": "feature_73",
                  "type": "double"
                },
                {
                  "key": "75",
                  "name": "feature_74",
                  "type": "double"
                },
                {
                  "key": "76",
                  "name": "feature_75",
                  "type": "double"
                },
                {
                  "key": "77",
                  "name": "feature_76",
                  "type": "double"
                },
                {
                  "key": "78",
                  "name": "feature_77",
                  "type": "double"
                },
                {
                  "key": "79",
                  "name": "feature_78",
                  "type": "double"
                },
                {
                  "key": "80",
                  "name": "feature_79",
                  "type": "double"
                },
                {
                  "key": "81",
                  "name": "feature_80",
                  "type": "double"
                },
                {
                  "key": "82",
                  "name": "feature_81",
                  "type": "double"
                },
                {
                  "key": "83",
                  "name": "feature_82",
                  "type": "double"
                },
                {
                  "key": "84",
                  "name": "feature_83",
                  "type": "double"
                },
                {
                  "key": "85",
                  "name": "feature_84",
                  "type": "double"
                },
                {
                  "key": "86",
                  "name": "feature_85",
                  "type": "double"
                },
                {
                  "key": "87",
                  "name": "feature_86",
                  "type": "double"
                },
                {
                  "key": "88",
                  "name": "feature_87",
                  "type": "double"
                },
                {
                  "key": "89",
                  "name": "feature_88",
                  "type": "double"
                },
                {
                  "key": "90",
                  "name": "feature_89",
                  "type": "double"
                },
                {
                  "key": "91",
                  "name": "feature_90",
                  "type": "double"
                },
                {
                  "key": "92",
                  "name": "feature_91",
                  "type": "double"
                },
                {
                  "key": "93",
                  "name": "feature_92",
                  "type": "double"
                },
                {
                  "key": "94",
                  "name": "feature_93",
                  "type": "double"
                },
                {
                  "key": "95",
                  "name": "feature_94",
                  "type": "double"
                },
                {
                  "key": "96",
                  "name": "feature_95",
                  "type": "double"
                },
                {
                  "key": "97",
                  "name": "feature_96",
                  "type": "double"
                },
                {
                  "key": "98",
                  "name": "feature_97",
                  "type": "double"
                },
                {
                  "key": "99",
                  "name": "feature_98",
                  "type": "double"
                },
                {
                  "key": "100",
                  "name": "feature_99",
                  "type": "double"
                },
                {
                  "key": "101",
                  "name": "feature_100",
                  "type": "double"
                },
                {
                  "key": "102",
                  "name": "feature_101",
                  "type": "double"
                },
                {
                  "key": "103",
                  "name": "feature_102",
                  "type": "double"
                },
                {
                  "key": "104",
                  "name": "feature_103",
                  "type": "double"
                },
                {
                  "key": "105",
                  "name": "feature_104",
                  "type": "double"
                },
                {
                  "key": "106",
                  "name": "feature_105",
                  "type": "double"
                },
                {
                  "key": "107",
                  "name": "feature_106",
                  "type": "double"
                },
                {
                  "key": "108",
                  "name": "feature_107",
                  "type": "double"
                },
                {
                  "key": "109",
                  "name": "feature_108",
                  "type": "double"
                },
                {
                  "key": "110",
                  "name": "feature_109",
                  "type": "double"
                },
                {
                  "key": "111",
                  "name": "feature_110",
                  "type": "double"
                },
                {
                  "key": "112",
                  "name": "feature_111",
                  "type": "double"
                },
                {
                  "key": "113",
                  "name": "feature_112",
                  "type": "double"
                },
                {
                  "key": "114",
                  "name": "feature_113",
                  "type": "double"
                },
                {
                  "key": "115",
                  "name": "feature_114",
                  "type": "double"
                },
                {
                  "key": "116",
                  "name": "feature_115",
                  "type": "double"
                },
                {
                  "key": "117",
                  "name": "feature_116",
                  "type": "double"
                },
                {
                  "key": "118",
                  "name": "feature_117",
                  "type": "double"
                },
                {
                  "key": "119",
                  "name": "feature_118",
                  "type": "double"
                },
                {
                  "key": "120",
                  "name": "feature_119",
                  "type": "double"
                },
                {
                  "key": "121",
                  "name": "feature_120",
                  "type": "double"
                },
                {
                  "key": "122",
                  "name": "feature_121",
                  "type": "double"
                },
                {
                  "key": "123",
                  "name": "feature_122",
                  "type": "double"
                },
                {
                  "key": "124",
                  "name": "feature_123",
                  "type": "double"
                },
                {
                  "key": "125",
                  "name": "feature_124",
                  "type": "double"
                },
                {
                  "key": "126",
                  "name": "feature_125",
                  "type": "double"
                },
                {
                  "key": "127",
                  "name": "feature_126",
                  "type": "double"
                },
                {
                  "key": "128",
                  "name": "feature_127",
                  "type": "double"
                },
                {
                  "key": "129",
                  "name": "feature_128",
                  "type": "double"
                },
                {
                  "key": "130",
                  "name": "feature_129",
                  "type": "double"
                },
                {
                  "key": "131",
                  "name": "feature_130",
                  "type": "double"
                },
                {
                  "key": "132",
                  "name": "feature_131",
                  "type": "double"
                },
                {
                  "key": "133",
                  "name": "feature_132",
                  "type": "double"
                },
                {
                  "key": "134",
                  "name": "feature_133",
                  "type": "double"
                },
                {
                  "key": "135",
                  "name": "feature_134",
                  "type": "double"
                },
                {
                  "key": "136",
                  "name": "feature_135",
                  "type": "double"
                },
                {
                  "key": "137",
                  "name": "feature_136",
                  "type": "double"
                },
                {
                  "key": "138",
                  "name": "feature_137",
                  "type": "double"
                },
                {
                  "key": "139",
                  "name": "feature_138",
                  "type": "double"
                },
                {
                  "key": "140",
                  "name": "feature_139",
                  "type": "double"
                },
                {
                  "key": "141",
                  "name": "feature_140",
                  "type": "double"
                },
                {
                  "key": "142",
                  "name": "feature_141",
                  "type": "double"
                },
                {
                  "key": "143",
                  "name": "feature_142",
                  "type": "double"
                },
                {
                  "key": "144",
                  "name": "feature_143",
                  "type": "double"
                },
                {
                  "key": "145",
                  "name": "feature_144",
                  "type": "double"
                },
                {
                  "key": "146",
                  "name": "feature_145",
                  "type": "double"
                },
                {
                  "key": "147",
                  "name": "feature_146",
                  "type": "double"
                },
                {
                  "key": "148",
                  "name": "feature_147",
                  "type": "double"
                },
                {
                  "key": "149",
                  "name": "feature_148",
                  "type": "double"
                },
                {
                  "key": "150",
                  "name": "feature_149",
                  "type": "double"
                },
                {
                  "key": "151",
                  "name": "feature_150",
                  "type": "double"
                },
                {
                  "key": "152",
                  "name": "feature_151",
                  "type": "double"
                },
                {
                  "key": "153",
                  "name": "feature_152",
                  "type": "double"
                },
                {
                  "key": "154",
                  "name": "feature_153",
                  "type": "double"
                },
                {
                  "key": "155",
                  "name": "feature_154",
                  "type": "double"
                },
                {
                  "key": "156",
                  "name": "feature_155",
                  "type": "double"
                },
                {
                  "key": "157",
                  "name": "feature_156",
                  "type": "double"
                },
                {
                  "key": "158",
                  "name": "feature_157",
                  "type": "double"
                },
                {
                  "key": "159",
                  "name": "feature_158",
                  "type": "double"
                },
                {
                  "key": "160",
                  "name": "feature_159",
                  "type": "double"
                },
                {
                  "key": "161",
                  "name": "feature_160",
                  "type": "double"
                },
                {
                  "key": "162",
                  "name": "feature_161",
                  "type": "double"
                },
                {
                  "key": "163",
                  "name": "feature_162",
                  "type": "double"
                },
                {
                  "key": "164",
                  "name": "feature_163",
                  "type": "double"
                },
                {
                  "key": "165",
                  "name": "feature_164",
                  "type": "double"
                },
                {
                  "key": "166",
                  "name": "feature_165",
                  "type": "double"
                },
                {
                  "key": "167",
                  "name": "in_degree",
                  "type": "bigint"
                },
                {
                  "key": "168",
                  "name": "out_degree",
                  "type": "bigint"
                },
                {
                  "key": "169",
                  "name": "total_degree",
                  "type": "bigint"
                }
              ],
              "truncated": false
            },
            "isSummary": false,
            "language": "scala",
            "wranglerEntryContext": {
              "dataframeType": "pyspark"
            }
          },
          "persist_state": {
            "view": {
              "type": "details",
              "tableOptions": {},
              "chartOptions": {
                "chartType": "bar",
                "aggregationType": "sum",
                "categoryFieldKeys": [
                  "1"
                ],
                "seriesFieldKeys": [
                  "0"
                ],
                "isStacked": false
              }
            }
          }
        },
        "eaa56dbe-32c9-4479-aa2a-1e4af5701dac": {
          "type": "Synapse.DataFrame",
          "sync_state": {
            "table": {
              "rows": [
                {
                  "0": "3321",
                  "1": "0"
                },
                {
                  "0": "11108",
                  "1": "1"
                },
                {
                  "0": "51816",
                  "1": "2"
                },
                {
                  "0": "68869",
                  "1": "3"
                },
                {
                  "0": "89273",
                  "1": "4"
                }
              ],
              "schema": [
                {
                  "key": "0",
                  "name": "txId",
                  "type": "int"
                },
                {
                  "key": "1",
                  "name": "node_id",
                  "type": "int"
                }
              ],
              "truncated": false
            },
            "isSummary": false,
            "language": "scala",
            "wranglerEntryContext": {
              "dataframeType": "pyspark"
            }
          },
          "persist_state": {
            "view": {
              "type": "details",
              "tableOptions": {},
              "chartOptions": {
                "chartType": "bar",
                "aggregationType": "sum",
                "categoryFieldKeys": [
                  "1"
                ],
                "seriesFieldKeys": [
                  "0"
                ],
                "isStacked": false
              }
            }
          }
        },
        "5e833e13-6e58-415b-81d4-c2f2e386f7ec": {
          "type": "Synapse.DataFrame",
          "sync_state": {
            "table": {
              "rows": [
                {
                  "0": "12532",
                  "1": "13401"
                },
                {
                  "0": "10487",
                  "1": "10478"
                },
                {
                  "0": "9422",
                  "1": "11542"
                },
                {
                  "0": "12475",
                  "1": "12575"
                },
                {
                  "0": "12875",
                  "1": "2754"
                }
              ],
              "schema": [
                {
                  "key": "0",
                  "name": "source_id",
                  "type": "int"
                },
                {
                  "key": "1",
                  "name": "target_id",
                  "type": "int"
                }
              ],
              "truncated": false
            },
            "isSummary": false,
            "language": "scala",
            "wranglerEntryContext": {
              "dataframeType": "pyspark"
            }
          },
          "persist_state": {
            "view": {
              "type": "details",
              "tableOptions": {},
              "chartOptions": {
                "chartType": "bar",
                "aggregationType": "sum",
                "categoryFieldKeys": [
                  "1"
                ],
                "seriesFieldKeys": [
                  "0"
                ],
                "isStacked": false
              }
            }
          }
        },
        "9e67139b-e325-4d11-b5fd-4e40b4774220": {
          "type": "Synapse.DataFrame",
          "sync_state": {
            "table": {
              "rows": [
                {
                  "0": "5530458",
                  "1": "1",
                  "2": "-0.17148421069432254",
                  "3": "-0.18466755143291433",
                  "4": "-1.2013688016765636",
                  "5": "-0.12196959975910057",
                  "6": "-0.04387454791734898",
                  "7": "-0.11300200928476244",
                  "8": "-0.06158379407303222",
                  "9": "-0.16211206626677477",
                  "10": "-0.1679480789436863",
                  "11": "-0.04970696439403985",
                  "12": "-0.16441742271274076",
                  "13": "-0.028741285856664783",
                  "14": "-0.035390552600813516",
                  "15": "-0.042955299258028254",
                  "16": "-0.013281614870058885",
                  "17": "-0.055326962087410225",
                  "18": "-0.16975732083008205",
                  "19": "-0.17147666184384036",
                  "20": "-0.17449021239392154",
                  "21": "0.8870578724766534",
                  "22": "0.8845565252702963",
                  "23": "-0.13973120840105796",
                  "24": "-0.14891189118002898",
                  "25": "-0.08014726965335221",
                  "26": "-0.1556614298173464",
                  "27": "-0.010763009512837094",
                  "28": "-0.012107451777478418",
                  "29": "-0.139733008128884",
                  "30": "-0.14890719023103707",
                  "31": "-0.08014673584659182",
                  "32": "-0.15566139979522017",
                  "33": "-0.0106685610738475",
                  "34": "-0.012005182118417812",
                  "35": "-0.02466883065625352",
                  "36": "-0.031272390486630317",
                  "37": "-0.0230451563960962",
                  "38": "-0.026214655177430907",
                  "39": "0.001427813709709475",
                  "40": "0.0014826437872997916",
                  "41": "-0.22721544644782224",
                  "42": "-0.23936836871437037",
                  "43": "-0.07525553154622772",
                  "44": "-0.23495151756654098",
                  "45": "0.0374680287743863",
                  "46": "0.043444221333941775",
                  "47": "-0.22720332382768585",
                  "48": "-0.24323609254239772",
                  "49": "-0.0978946778840727",
                  "50": "-0.2358964234692872",
                  "51": "0.0365766503766988",
                  "52": "0.04234513480691014",
                  "53": "-0.41396513105388405",
                  "54": "-0.48830687601391315",
                  "55": "-0.23255262057859216",
                  "56": "-0.4675157016017846",
                  "57": "0.048766817854885264",
                  "58": "0.05295606452358398",
                  "59": "-0.039150890275723924",
                  "60": "-0.17289514714852436",
                  "61": "-0.16312566098154038",
                  "62": "-0.16093257604150066",
                  "63": "0.9234729775583688",
                  "64": "0.9230107104495158",
                  "65": "-0.03914617477291923",
                  "66": "-0.1728841066916964",
                  "67": "-0.16311432375687993",
                  "68": "-0.16092569018826533",
                  "69": "0.9235162990740675",
                  "70": "0.9231101257685775",
                  "71": "-0.017031675880349647",
                  "72": "-0.030026235277791913",
                  "73": "-0.01764011962990492",
                  "74": "-0.015070900001830685",
                  "75": "-0.14076322246003314",
                  "76": "-0.14033462388732307",
                  "77": "-0.09540268927284089",
                  "78": "-0.2644245982707773",
                  "79": "-0.25057351731181604",
                  "80": "-0.26375259742809054",
                  "81": "-0.1691189058033812",
                  "82": "-0.16716538150264335",
                  "83": "-0.05901305478547111",
                  "84": "-0.26242388753553797",
                  "85": "-0.2551681497514608",
                  "86": "-0.25925104603653304",
                  "87": "-0.18719096452790498",
                  "88": "-0.18527362579169893",
                  "89": "-0.2936922296799922",
                  "90": "-0.7606997978663795",
                  "91": "-0.6927768599024823",
                  "92": "-0.7197891565142742",
                  "93": "-1.0849067857111534",
                  "94": "-1.0848448955263614",
                  "95": "-0.17011278066229815",
                  "96": "-0.20233205942689592",
                  "97": "-0.1168167152870516",
                  "98": "-0.19240475183323666",
                  "99": "-0.014658775691506424",
                  "100": "-0.018848712954381765",
                  "101": "-1.4579211729426413",
                  "102": "-1.494024263129434",
                  "103": "-0.08345878401951694",
                  "104": "-1.4859394970873494",
                  "105": "-0.08879772536984745",
                  "106": "-0.0904370818830761",
                  "107": "-0.16654994856468994",
                  "108": "-0.21653637857822206",
                  "109": "-0.13454647495572797",
                  "110": "-0.19481661068542533",
                  "111": "-0.0031749902209437055",
                  "112": "-0.004094090363360379",
                  "113": "-1.0963356939258175",
                  "114": "-1.2673399140326196",
                  "115": "-0.3499327749819623",
                  "116": "-1.230440801051298",
                  "117": "-0.004357614038573012",
                  "118": "-0.004194370240563965",
                  "119": "-0.11642460389073964",
                  "120": "-0.1766172824237854",
                  "121": "-0.13732327709079195",
                  "122": "-0.15246437130048263",
                  "123": "-0.02605968882058813",
                  "124": "-0.027659714028485525",
                  "125": "-0.09314472701426248",
                  "126": "-0.14370672448675942",
                  "127": "-0.09771859912616487",
                  "128": "-0.12746225048300552",
                  "129": "0.0031432964315106413",
                  "130": "0.0024263098865888125",
                  "131": "-0.12132982954666281",
                  "132": "-0.1109327872232307",
                  "133": "-0.07590935781589098",
                  "134": "-0.11164122503846352",
                  "135": "-1.159648797029665",
                  "136": "-1.1601288555070002",
                  "137": "-1.3737225777247042",
                  "138": "-1.3539182358417168",
                  "139": "-0.29598231757040905",
                  "140": "-1.4032145912639946",
                  "141": "-0.9757375123778044",
                  "142": "-0.9752365572215277",
                  "143": "-0.1687415525999319",
                  "144": "-0.2632899793457287",
                  "145": "-0.186388802919495",
                  "146": "-0.2508745590125382",
                  "147": "-1.0159633735173061",
                  "148": "-1.0162304272806977",
                  "149": "-0.968902874660573",
                  "150": "0.14699720416530723",
                  "151": "1.3662870660774065",
                  "152": "-0.4647732217260898",
                  "153": "-1.1169181674273414",
                  "154": "-1.116948469117354",
                  "155": "-0.21681436061843226",
                  "156": "0.6342720081328951",
                  "157": "0.9473820151871388",
                  "158": "0.6731033464047642",
                  "159": "-0.979073766855825",
                  "160": "-0.9785560465643004",
                  "161": "0.01827940003744589",
                  "162": "-0.0874901561101501",
                  "163": "-0.13115530389558736",
                  "164": "-0.09752359377152515",
                  "165": "-0.12061340670311574",
                  "166": "-0.11979245961251665",
                  "167": "unknown",
                  "168": "unknown"
                },
                {
                  "0": "232022460",
                  "1": "1",
                  "2": "-0.17210694047251704",
                  "3": "-0.18466755143291433",
                  "4": "-1.2013688016765636",
                  "5": "-0.12196959975910057",
                  "6": "-0.04387454791734898",
                  "7": "-0.11300200928476244",
                  "8": "-0.06158379407303222",
                  "9": "-0.16274921065307707",
                  "10": "-0.1685762937743978",
                  "11": "-0.04970696439403985",
                  "12": "-0.16505385606305262",
                  "13": "-0.028741285856664783",
                  "14": "-0.035390552600813516",
                  "15": "-0.042955299258028254",
                  "16": "-0.013281614870058885",
                  "17": "-0.055298247601998494",
                  "18": "-0.17039959147478634",
                  "19": "-0.1722171712893571",
                  "20": "-0.1752274581348176",
                  "21": "0.8870578724766534",
                  "22": "0.8845565252702963",
                  "23": "-0.13972935962809574",
                  "24": "-0.14891071149442775",
                  "25": "-0.08014726965335221",
                  "26": "-0.15565986327248124",
                  "27": "-0.010763009512837094",
                  "28": "-0.012107451777478418",
                  "29": "-0.13973115907531855",
                  "30": "-0.14890601046686328",
                  "31": "-0.08014673584659182",
                  "32": "-0.1556598330828762",
                  "33": "-0.0106685610738475",
                  "34": "-0.012005182118417812",
                  "35": "-0.02466883065625352",
                  "36": "-0.031272390486630317",
                  "37": "-0.0230451563960962",
                  "38": "-0.026214655177430907",
                  "39": "0.001427813709709475",
                  "40": "0.0014826437872997916",
                  "41": "-0.22717760210010984",
                  "42": "-0.23933273596227653",
                  "43": "-0.07525553154622772",
                  "44": "-0.23491447546792882",
                  "45": "0.0374680287743863",
                  "46": "0.043444221333941775",
                  "47": "-0.22716393562296464",
                  "48": "-0.24319756681972446",
                  "49": "-0.0978946778840727",
                  "50": "-0.23585727121325867",
                  "51": "0.0365766503766988",
                  "52": "0.04234513480691014",
                  "53": "-0.26873654366394206",
                  "54": "-0.36752081543383347",
                  "55": "-0.23255262057859216",
                  "56": "-0.3281628931792348",
                  "57": "0.048766817854885264",
                  "58": "0.05295606452358398",
                  "59": "-0.03914115467609643",
                  "60": "-0.17287053786380535",
                  "61": "-0.16310098152590424",
                  "62": "-0.16090661505843476",
                  "63": "-1.316342283664295",
                  "64": "-1.3153883882753692",
                  "65": "-0.039136437166759463",
                  "66": "-0.17285949627746336",
                  "67": "-0.16308964491228392",
                  "68": "-0.16089972903429814",
                  "69": "-1.3163333780274464",
                  "70": "-1.315375381290753",
                  "71": "-0.017031675880349647",
                  "72": "-0.0300253386933143",
                  "73": "-0.017639167067003525",
                  "74": "-0.01506996414506404",
                  "75": "-2.4284255232812764",
                  "76": "-2.429065026252751",
                  "77": "-0.0951039362673167",
                  "78": "-0.2636746475236168",
                  "79": "-0.2498356408565478",
                  "80": "-0.26296308445942856",
                  "81": "-1.4717644946197315",
                  "82": "-1.470277463738429",
                  "83": "-0.05852429114148316",
                  "84": "-0.26161229338963043",
                  "85": "-0.2543726818019155",
                  "86": "-0.25838654089981916",
                  "87": "-1.4999715377938674",
                  "88": "-1.498585280585486",
                  "89": "-0.021809414711665323",
                  "90": "1.936814150855087",
                  "91": "2.4487848645651886",
                  "92": "1.7751079093672535",
                  "93": "-1.0849067857111534",
                  "94": "-1.0848448955263614",
                  "95": "-0.17052781770192518",
                  "96": "-0.20265788978089322",
                  "97": "-0.1168167152870516",
                  "98": "-0.1928108756545022",
                  "99": "-0.014658775691506424",
                  "100": "-0.018848712954381765",
                  "101": "-1.4579532008792007",
                  "102": "-1.494056831372085",
                  "103": "-0.08345878401951694",
                  "104": "-1.4859719767717499",
                  "105": "-0.08879772536984745",
                  "106": "-0.0904370818830761",
                  "107": "-0.16654994856468994",
                  "108": "-0.21653637857822206",
                  "109": "-0.13454647495572797",
                  "110": "-0.19481661068542533",
                  "111": "-0.0031749902209437055",
                  "112": "-0.004094090363360379",
                  "113": "-1.0963356939258175",
                  "114": "-1.2673399140326196",
                  "115": "-0.3499327749819623",
                  "116": "-1.230440801051298",
                  "117": "-0.004357614038573012",
                  "118": "-0.004194370240563965",
                  "119": "-0.11642460389073964",
                  "120": "-0.1766172824237854",
                  "121": "-0.13732327709079195",
                  "122": "-0.15246437130048263",
                  "123": "-0.02605968882058813",
                  "124": "-0.027659714028485525",
                  "125": "-0.09555926971481787",
                  "126": "-0.14512594341804702",
                  "127": "-0.09771859912616487",
                  "128": "-0.1294956950866637",
                  "129": "0.0031432964315106413",
                  "130": "0.0024263098865888125",
                  "131": "-0.12297446336502392",
                  "132": "-0.04155591623042134",
                  "133": "0.012548628693558375",
                  "134": "-0.03224393832476838",
                  "135": "-1.159648797029665",
                  "136": "-1.1601288555070002",
                  "137": "-1.3739023216861717",
                  "138": "-1.35620980438391",
                  "139": "-0.30154812530835085",
                  "140": "-1.4045772210587457",
                  "141": "-0.9757375123778044",
                  "142": "-0.9752365572215277",
                  "143": "-0.1687415525999319",
                  "144": "-0.19246822574665903",
                  "145": "-0.09979025242782867",
                  "146": "-0.18213304490240145",
                  "147": "-1.0159633735173061",
                  "148": "-1.0162304272806977",
                  "149": "-0.968902874660573",
                  "150": "-1.4211380025686302",
                  "151": "-0.4533295316850304",
                  "152": "-1.3754413186377648",
                  "153": "-1.1169181674273414",
                  "154": "-1.116948469117354",
                  "155": "-0.21681436061843226",
                  "156": "0.40716105050193463",
                  "157": "0.6708829392831981",
                  "158": "0.4397281841959045",
                  "159": "-0.979073766855825",
                  "160": "-0.9785560465643004",
                  "161": "-0.098888736679456",
                  "162": "-0.10671461380666906",
                  "163": "-0.13115530389558736",
                  "164": "-0.18367056324178724",
                  "165": "-0.12061340670311574",
                  "166": "-0.11979245961251665",
                  "167": "unknown",
                  "168": "unknown"
                },
                {
                  "0": "232438397",
                  "1": "1",
                  "2": "0.1630541194596208",
                  "3": "1.9637897565339713",
                  "4": "-0.6463761259214303",
                  "5": "12.40929429855237",
                  "6": "-0.06372457323883694",
                  "7": "9.782742141573907",
                  "8": "12.414557565154297",
                  "9": "-0.1636452106809395",
                  "10": "-0.11583146100367737",
                  "11": "0.043598310647744803",
                  "12": "-0.16390494340091055",
                  "13": "1.059993281891899",
                  "14": "2.3974572678727233",
                  "15": "-0.06319995329439423",
                  "16": "-0.013281614870058885",
                  "17": "4.800239880852332",
                  "18": "0.17432903822550858",
                  "19": "-0.1729081406182527",
                  "20": "0.6193993170674021",
                  "21": "-0.24329965245862148",
                  "22": "-0.24345165116622178",
                  "23": "-0.13973183050570184",
                  "24": "-0.14689535936129625",
                  "25": "-0.07966741189249549",
                  "26": "-0.15555351260935377",
                  "27": "0.773846809331059",
                  "28": "0.3785156574088869",
                  "29": "-0.13973363032794975",
                  "30": "-0.14689052411735182",
                  "31": "-0.07966687845623453",
                  "32": "-0.15555347106574582",
                  "33": "0.7739316501061592",
                  "34": "0.378592875963857",
                  "35": "-0.02466883065625352",
                  "36": "-0.03127063653665789",
                  "37": "-0.023043917470047064",
                  "38": "-0.026214630158265105",
                  "39": "0.10100803261233597",
                  "40": "0.026315321410687126",
                  "41": "-0.22721544644782224",
                  "42": "-0.15677164936087457",
                  "43": "0.08930672028917983",
                  "44": "-0.21219499091944907",
                  "45": "-2.7720147679929728",
                  "46": "-2.371968590497654",
                  "47": "-0.22720332382768585",
                  "48": "-0.22115122201993903",
                  "49": "-0.06685777177573918",
                  "50": "-0.23201067858302685",
                  "51": "-2.1655335705958403",
                  "52": "-2.1758550171367785",
                  "53": "-0.4140081318412528",
                  "54": "4.181192387187964",
                  "55": "4.346639728389318",
                  "56": "1.7779630714269525",
                  "57": "-1.4515445798708968",
                  "58": "-1.5302502064241157",
                  "59": "4.628683400036031",
                  "60": "0.5138044598260122",
                  "61": "-0.16312599009939752",
                  "62": "1.2082195396132684",
                  "63": "-0.19643465305296312",
                  "64": "-0.1961888389129267",
                  "65": "4.629650168262074",
                  "66": "0.5138694722722894",
                  "67": "-0.16311465287801424",
                  "68": "1.2082777436441632",
                  "69": "-0.19640853947668943",
                  "70": "-0.19613262776108772",
                  "71": "-0.017031675880349647",
                  "72": "-0.030026235277791913",
                  "73": "-0.01764011962990492",
                  "74": "-0.015070900001830685",
                  "75": "-0.14076322246003314",
                  "76": "-0.14033462388732307",
                  "77": "4.313295413247757",
                  "78": "0.21675032241822503",
                  "79": "-0.25057351731181604",
                  "80": "0.7071509757839788",
                  "81": "-0.1691189058033812",
                  "82": "-0.16716538150264335",
                  "83": "6.220011288616725",
                  "84": "0.21694839264551205",
                  "85": "-0.2551681497514608",
                  "86": "0.7171077552891034",
                  "87": "-0.18719096452790498",
                  "88": "-0.18527362579169893",
                  "89": "3.9915873440063407",
                  "90": "0.8108785465092069",
                  "91": "-0.6942351992761703",
                  "92": "2.0846507447685347",
                  "93": "0.02530798288975985",
                  "94": "0.02521690346605265",
                  "95": "-0.17109796873713376",
                  "96": "0.266450069451744",
                  "97": "0.15943173201871505",
                  "98": "-0.15994556208342817",
                  "99": "0.9704651746436289",
                  "100": "1.9283824131788028",
                  "101": "-1.4579532008792007",
                  "102": "-1.4939916948867829",
                  "103": "-0.083124061373484",
                  "104": "-1.4859568969182846",
                  "105": "-0.23417111125635615",
                  "106": "-0.20551267339971976",
                  "107": "-0.17621935145577072",
                  "108": "-0.05601061766549818",
                  "109": "-0.08282155195637242",
                  "110": "-0.19169648128544414",
                  "111": "0.3237734462495814",
                  "112": "0.6686214846866907",
                  "113": "-1.0963356939258175",
                  "114": "0.7874346980684294",
                  "115": "0.8561625052061652",
                  "116": "-1.1045296072012591",
                  "117": "0.7151147052066719",
                  "118": "0.958373486053451",
                  "119": "-0.11642460389073964",
                  "120": "0.31204672776267356",
                  "121": "0.06462321346460068",
                  "122": "-0.10175483530563172",
                  "123": "-0.24767556804258073",
                  "124": "-1.2019927803360144",
                  "125": "-0.09555926971481787",
                  "126": "0.5233261732184042",
                  "127": "0.019770659026476324",
                  "128": "-0.11919532986218091",
                  "129": "0.1478805724557926",
                  "130": "0.9561703764452162",
                  "131": "0.7597559462836802",
                  "132": "-0.04155636353180128",
                  "133": "-0.18871580892327997",
                  "134": "0.14994873376884874",
                  "135": "-0.04772212534083709",
                  "136": "-0.048170683930153474",
                  "137": "-1.3737225777247042",
                  "138": "-1.3561307847790067",
                  "139": "-0.30175426633568203",
                  "140": "-1.4044453536592538",
                  "141": "0.18313274490455683",
                  "142": "0.18274808525809128",
                  "143": "-0.1635773401749778",
                  "144": "-0.4565612772709425",
                  "145": "-0.4246718150208637",
                  "146": "-0.43691536984505247",
                  "147": "0.14300140508806736",
                  "148": "0.14252521079133695",
                  "149": "-0.42589611743415573",
                  "150": "-1.4211380025686302",
                  "151": "-1.0598683976058427",
                  "152": "-1.071885286333873",
                  "153": "0.18559736690054543",
                  "154": "0.18549200384553188",
                  "155": "-0.21681436061843226",
                  "156": "-0.6179073258324005",
                  "157": "-0.5770993762832375",
                  "158": "-0.6136137641521922",
                  "159": "0.24112827704983203",
                  "160": "0.24140644581794593",
                  "161": "1.0727926304895627",
                  "162": "0.08552996315852067",
                  "163": "-0.13115530389558736",
                  "164": "0.6777991314608336",
                  "165": "-0.12061340670311574",
                  "166": "-0.11979245961251665",
                  "167": "2",
                  "168": "licit"
                },
                {
                  "0": "230460314",
                  "1": "1",
                  "2": "1.0115232289275187",
                  "3": "-0.08112744020559452",
                  "4": "-1.2013688016765636",
                  "5": "1.1536680425839834",
                  "6": "0.3332759331909223",
                  "7": "1.3126560463474188",
                  "8": "-0.06158379407303222",
                  "9": "-0.1635232380956241",
                  "10": "0.041399097381600636",
                  "11": "0.9358863815730533",
                  "12": "-0.0986953374147462",
                  "13": "1.2030380749185423",
                  "14": "0.9889022917429948",
                  "15": "0.34169312743292546",
                  "16": "-0.013281614870058885",
                  "17": "-0.057392091794025185",
                  "18": "0.05832871793785306",
                  "19": "-0.03293006997850107",
                  "20": "-0.04270910035165402",
                  "21": "0.06545483648179744",
                  "22": "0.3249472741030888",
                  "23": "-0.13973180722667305",
                  "24": "-0.14885440016817775",
                  "25": "-0.08010477138380956",
                  "26": "-0.15563767533697326",
                  "27": "1.313051444789839",
                  "28": "1.1069649974915918",
                  "29": "-0.13973360704538773",
                  "30": "-0.14884969539001597",
                  "31": "-0.08010423761033475",
                  "32": "-0.15563764277526337",
                  "33": "1.3131297191885363",
                  "34": "1.1069954997622102",
                  "35": "-0.02466883065625352",
                  "36": "-0.031272390486630317",
                  "37": "-0.0230451563960962",
                  "38": "-0.026214655177430907",
                  "39": "0.001427813709709475",
                  "40": "0.0014826437872997916",
                  "41": "-0.22721544644782224",
                  "42": "-0.2393594605263469",
                  "43": "-0.0752419102090522",
                  "44": "-0.2349504886193573",
                  "45": "-0.866062416997784",
                  "46": "-0.856033520014764",
                  "47": "-0.22720332382768585",
                  "48": "-0.2432264611117294",
                  "49": "-0.09787224012670151",
                  "50": "-0.23589533590661974",
                  "51": "-0.8710277203019383",
                  "52": "-0.861079023801688",
                  "53": "-0.41403146826217113",
                  "54": "-0.48728448829904597",
                  "55": "-0.2312243345255989",
                  "56": "-0.4672735725213412",
                  "57": "0.5570304187318178",
                  "58": "0.7459759155966266",
                  "59": "-0.03915113802673277",
                  "60": "-0.17283854647116656",
                  "61": "-0.1630941062418089",
                  "62": "-0.16090365562876707",
                  "63": "0.09403876704402929",
                  "64": "0.22242086266679198",
                  "65": "-0.03914642366909366",
                  "66": "-0.17282750156573964",
                  "67": "-0.16308276709836494",
                  "68": "-0.16089677160988305",
                  "69": "0.09408092691742467",
                  "70": "0.20214336505336478",
                  "71": "-0.017031675880349647",
                  "72": "-0.02999198575074722",
                  "73": "-0.01762889007929442",
                  "74": "-0.015067495265784422",
                  "75": "-0.30971828053921224",
                  "76": "-0.3093685664934549",
                  "77": "-0.09540268927284089",
                  "78": "-0.2644164466322212",
                  "79": "-0.25056926536118673",
                  "80": "-0.2637502476871124",
                  "81": "-0.8424389046974361",
                  "82": "-0.8407265045761028",
                  "83": "-0.059135245696468094",
                  "84": "-0.2624145588671942",
                  "85": "-0.25516223440835706",
                  "86": "-0.2592492365019716",
                  "87": "-0.6962061365177382",
                  "88": "-0.7140926206135277",
                  "89": "-0.29389678930630325",
                  "90": "-0.76139920049465",
                  "91": "-0.6939222540365456",
                  "92": "-0.7207898984810976",
                  "93": "-0.48731509040115",
                  "94": "-0.5630886997026655",
                  "95": "-0.16297402524165944",
                  "96": "0.8449319001918734",
                  "97": "1.723413594737948",
                  "98": "0.4402980292639065",
                  "99": "1.2144404378705445",
                  "100": "1.0496493019281077",
                  "101": "-1.4600350167555578",
                  "102": "-1.4941219678573872",
                  "103": "-0.07038936061800023",
                  "104": "-1.4864699985992225",
                  "105": "-0.8613245350814462",
                  "106": "-1.0915591323648275",
                  "107": "-0.16654994856468994",
                  "108": "-0.17429275728539997",
                  "109": "-0.09125826129476869",
                  "110": "-0.15470743539827056",
                  "111": "1.6648427601189297",
                  "112": "1.6646213221435622",
                  "113": "-1.0963356939258175",
                  "114": "-1.2673399140326196",
                  "115": "-0.3499327749819623",
                  "116": "-1.230440801051298",
                  "117": "-0.004357614038573012",
                  "118": "-0.004194370240563965",
                  "119": "-0.011925389669219669",
                  "120": "1.228291746862284",
                  "121": "1.1934969804569946",
                  "122": "1.4717774331406495",
                  "123": "1.7963743420030336",
                  "124": "1.817236513778945",
                  "125": "-0.09314472701426248",
                  "126": "-0.11674156479229536",
                  "127": "-0.07790869409016592",
                  "128": "-0.0931196305101119",
                  "129": "1.5876902428332762",
                  "130": "1.58653924435534",
                  "131": "-0.10182032300364637",
                  "132": "0.7045579972457777",
                  "133": "0.4488982019179086",
                  "134": "0.6596618396674664",
                  "135": "0.3110913062452852",
                  "136": "0.30219827695855156",
                  "137": "-1.3739622363399944",
                  "138": "-1.3553932684665766",
                  "139": "-0.300941174031643",
                  "140": "-1.4045830818320568",
                  "141": "0.06484581626136972",
                  "142": "-0.035231687423483385",
                  "143": "-0.1687415525999319",
                  "144": "-0.44215620173325426",
                  "145": "-0.41654019458443187",
                  "146": "-0.41827276070290725",
                  "147": "0.3676053940698535",
                  "148": "0.3920351694291467",
                  "149": "-0.968902874660573",
                  "150": "-1.9438497381466093",
                  "151": "-1.0598683976058427",
                  "152": "-1.6789973509416563",
                  "153": "0.18559736690054543",
                  "154": "0.18549200384553188",
                  "155": "-0.16947185978516296",
                  "156": "-0.4705921100717775",
                  "157": "-0.511870567590902",
                  "158": "-0.4004223997559905",
                  "159": "0.5172568118837553",
                  "160": "0.579381538237923",
                  "161": "0.01827940003744589",
                  "162": "0.2777745401237104",
                  "163": "0.32639412083754343",
                  "164": "1.2937499631732075",
                  "165": "0.1781360219171739",
                  "166": "0.17911704630690475",
                  "167": "unknown",
                  "168": "unknown"
                },
                {
                  "0": "230459870",
                  "1": "1",
                  "2": "0.961040314282148",
                  "3": "-0.08112744020559452",
                  "4": "-1.2013688016765636",
                  "5": "1.3037430593302284",
                  "6": "0.3332759331909223",
                  "7": "1.4803805234806167",
                  "8": "-0.06158379407303222",
                  "9": "-0.16357725504254986",
                  "10": "0.038305305732996266",
                  "11": "0.8163770946037726",
                  "12": "-0.10800044494893145",
                  "13": "0.9075772418152211",
                  "14": "0.5174024110133048",
                  "15": "0.34169312743292546",
                  "16": "-0.013281614870058885",
                  "17": "-0.057392091794025185",
                  "18": "0.06003325871821347",
                  "19": "-0.010828994910273339",
                  "20": "-0.04840113795670586",
                  "21": "-0.24363891158336293",
                  "22": "-0.5349758422192962",
                  "23": "-0.13973183014856735",
                  "24": "-0.1488552497865746",
                  "25": "-0.08011000016843094",
                  "26": "-0.1556411214749687",
                  "27": "1.0016460199717747",
                  "28": "0.5918364097328129",
                  "29": "-0.13973362997076105",
                  "30": "-0.1488505450650014",
                  "31": "-0.08010946639086083",
                  "32": "-0.15564108928168427",
                  "33": "1.0017280990455697",
                  "34": "0.5918999477854127",
                  "35": "-0.02466883065625352",
                  "36": "-0.031272390486630317",
                  "37": "-0.0230451563960962",
                  "38": "-0.026214655177430907",
                  "39": "0.001427813709709475",
                  "40": "0.0014826437872997916",
                  "41": "-0.22721544644782224",
                  "42": "-0.23936836871437037",
                  "43": "-0.07525553154622772",
                  "44": "-0.23495151756654098",
                  "45": "0.0374680287743863",
                  "46": "0.043444221333941775",
                  "47": "-0.22720332382768585",
                  "48": "-0.24323609254239772",
                  "49": "-0.0978946778840727",
                  "50": "-0.2358964234692872",
                  "51": "0.0365766503766988",
                  "52": "0.04234513480691014",
                  "53": "-0.41403146826217113",
                  "54": "-0.4882370613754273",
                  "55": "-0.23243803287184828",
                  "56": "-0.467563385582902",
                  "57": "-0.34780774126836095",
                  "58": "-0.33814329113548924",
                  "59": "-0.03915113802673277",
                  "60": "-0.1726635210865653",
                  "61": "-0.16304599795053307",
                  "62": "-0.16088759405673952",
                  "63": "-0.2161084246287262",
                  "64": "-0.3197368411152747",
                  "65": "-0.0391464225749902",
                  "66": "-0.17265246242480575",
                  "67": "-0.16303465993262833",
                  "68": "-0.160880706517502",
                  "69": "-0.2160826133497673",
                  "70": "-0.3196853992546226",
                  "71": "-0.017031675880349647",
                  "72": "-0.030026235277791913",
                  "73": "-0.01764011962990492",
                  "74": "-0.015070900001830685",
                  "75": "-0.14076322246003314",
                  "76": "-0.14033462388732307",
                  "77": "-0.09540268927284089",
                  "78": "-0.26440014335510903",
                  "79": "-0.2505650134105574",
                  "80": "-0.26374789794613424",
                  "81": "-0.11056934068216029",
                  "82": "-0.02361209088897132",
                  "83": "-0.05901305478547111",
                  "84": "-0.2624052301988505",
                  "85": "-0.2551608448415946",
                  "86": "-0.2592465222001295",
                  "87": "-0.0890508602471162",
                  "88": "-0.04059673098195356",
                  "89": "-0.29389678930630325",
                  "90": "-0.7603983556166393",
                  "91": "-0.69350907398521",
                  "92": "-0.7205023187139363",
                  "93": "-0.20575541953853915",
                  "94": "-0.3882442714288613",
                  "95": "-0.16297402524165944",
                  "96": "0.5307939448501756",
                  "97": "1.169423689378955",
                  "98": "0.3650162970997145",
                  "99": "0.7226151021476083",
                  "100": "0.8296246049724562",
                  "101": "-1.4582094243716752",
                  "102": "-1.4941219678573872",
                  "103": "-0.08234189035179174",
                  "104": "-1.486062919888071",
                  "105": "0.3015038290514504",
                  "106": "0.29732476214229336",
                  "107": "-0.13320717997475626",
                  "108": "-0.17429275728539997",
                  "109": "-0.1129691627257225",
                  "110": "-0.14969378848737622",
                  "111": "0.878669651787854",
                  "112": "0.9671271225381696",
                  "113": "-1.0963356939258175",
                  "114": "-1.2673399140326196",
                  "115": "-0.3499327749819623",
                  "116": "-1.230440801051298",
                  "117": "-0.004357614038573012",
                  "118": "-0.004194370240563965",
                  "119": "1.03306675254598",
                  "120": "1.2893747481355913",
                  "121": "0.7741686485949967",
                  "122": "1.6772278865500905",
                  "123": "1.0642367485911655",
                  "124": "0.8636554505968632",
                  "125": "-0.04726841570371008",
                  "126": "-0.11674156479229536",
                  "127": "-0.09771859912616487",
                  "128": "-0.0888268030135002",
                  "129": "0.0031432964315106413",
                  "130": "0.0024263098865888125",
                  "131": "-0.10104571815095523",
                  "132": "0.7045579972457777",
                  "133": "0.382060439768322",
                  "134": "0.2725027954967985",
                  "135": "-0.43300476400912774",
                  "136": "-0.4923874926069707",
                  "137": "-1.3739622363399944",
                  "138": "-1.3544450332077382",
                  "139": "-0.30006182026439776",
                  "140": "-1.404411863526048",
                  "141": "-0.10801781258374418",
                  "142": "-0.35736235722737564",
                  "143": "-0.1687415525999319",
                  "144": "-0.44146475810744523",
                  "145": "-0.41569334830614146",
                  "146": "-0.4198363725554008",
                  "147": "-0.33039615443834264",
                  "148": "-0.23619910216311657",
                  "149": "-0.968902874660573",
                  "150": "-0.37571453141267186",
                  "151": "-0.49832252424310597",
                  "152": "-1.592267055997687",
                  "153": "0.13749879315729632",
                  "154": "0.13739620192688362",
                  "155": "-0.16947185978516296",
                  "156": "-0.44603957411167366",
                  "157": "-0.504701533661336",
                  "158": "-0.4225885348538205",
                  "159": "-0.2267903357428618",
                  "160": "-0.11762933738347829",
                  "161": "0.01827940003744589",
                  "162": "0.2777745401237104",
                  "163": "0.4139307519216626",
                  "164": "1.1495563452265547",
                  "165": "-0.6960528472346671",
                  "166": "-0.6955402347637503",
                  "167": "unknown",
                  "168": "unknown"
                }
              ],
              "schema": [
                {
                  "key": "0",
                  "name": "txId",
                  "type": "int"
                },
                {
                  "key": "1",
                  "name": "time_step",
                  "type": "int"
                },
                {
                  "key": "2",
                  "name": "feature_1",
                  "type": "double"
                },
                {
                  "key": "3",
                  "name": "feature_2",
                  "type": "double"
                },
                {
                  "key": "4",
                  "name": "feature_3",
                  "type": "double"
                },
                {
                  "key": "5",
                  "name": "feature_4",
                  "type": "double"
                },
                {
                  "key": "6",
                  "name": "feature_5",
                  "type": "double"
                },
                {
                  "key": "7",
                  "name": "feature_6",
                  "type": "double"
                },
                {
                  "key": "8",
                  "name": "feature_7",
                  "type": "double"
                },
                {
                  "key": "9",
                  "name": "feature_8",
                  "type": "double"
                },
                {
                  "key": "10",
                  "name": "feature_9",
                  "type": "double"
                },
                {
                  "key": "11",
                  "name": "feature_10",
                  "type": "double"
                },
                {
                  "key": "12",
                  "name": "feature_11",
                  "type": "double"
                },
                {
                  "key": "13",
                  "name": "feature_12",
                  "type": "double"
                },
                {
                  "key": "14",
                  "name": "feature_13",
                  "type": "double"
                },
                {
                  "key": "15",
                  "name": "feature_14",
                  "type": "double"
                },
                {
                  "key": "16",
                  "name": "feature_15",
                  "type": "double"
                },
                {
                  "key": "17",
                  "name": "feature_16",
                  "type": "double"
                },
                {
                  "key": "18",
                  "name": "feature_17",
                  "type": "double"
                },
                {
                  "key": "19",
                  "name": "feature_18",
                  "type": "double"
                },
                {
                  "key": "20",
                  "name": "feature_19",
                  "type": "double"
                },
                {
                  "key": "21",
                  "name": "feature_20",
                  "type": "double"
                },
                {
                  "key": "22",
                  "name": "feature_21",
                  "type": "double"
                },
                {
                  "key": "23",
                  "name": "feature_22",
                  "type": "double"
                },
                {
                  "key": "24",
                  "name": "feature_23",
                  "type": "double"
                },
                {
                  "key": "25",
                  "name": "feature_24",
                  "type": "double"
                },
                {
                  "key": "26",
                  "name": "feature_25",
                  "type": "double"
                },
                {
                  "key": "27",
                  "name": "feature_26",
                  "type": "double"
                },
                {
                  "key": "28",
                  "name": "feature_27",
                  "type": "double"
                },
                {
                  "key": "29",
                  "name": "feature_28",
                  "type": "double"
                },
                {
                  "key": "30",
                  "name": "feature_29",
                  "type": "double"
                },
                {
                  "key": "31",
                  "name": "feature_30",
                  "type": "double"
                },
                {
                  "key": "32",
                  "name": "feature_31",
                  "type": "double"
                },
                {
                  "key": "33",
                  "name": "feature_32",
                  "type": "double"
                },
                {
                  "key": "34",
                  "name": "feature_33",
                  "type": "double"
                },
                {
                  "key": "35",
                  "name": "feature_34",
                  "type": "double"
                },
                {
                  "key": "36",
                  "name": "feature_35",
                  "type": "double"
                },
                {
                  "key": "37",
                  "name": "feature_36",
                  "type": "double"
                },
                {
                  "key": "38",
                  "name": "feature_37",
                  "type": "double"
                },
                {
                  "key": "39",
                  "name": "feature_38",
                  "type": "double"
                },
                {
                  "key": "40",
                  "name": "feature_39",
                  "type": "double"
                },
                {
                  "key": "41",
                  "name": "feature_40",
                  "type": "double"
                },
                {
                  "key": "42",
                  "name": "feature_41",
                  "type": "double"
                },
                {
                  "key": "43",
                  "name": "feature_42",
                  "type": "double"
                },
                {
                  "key": "44",
                  "name": "feature_43",
                  "type": "double"
                },
                {
                  "key": "45",
                  "name": "feature_44",
                  "type": "double"
                },
                {
                  "key": "46",
                  "name": "feature_45",
                  "type": "double"
                },
                {
                  "key": "47",
                  "name": "feature_46",
                  "type": "double"
                },
                {
                  "key": "48",
                  "name": "feature_47",
                  "type": "double"
                },
                {
                  "key": "49",
                  "name": "feature_48",
                  "type": "double"
                },
                {
                  "key": "50",
                  "name": "feature_49",
                  "type": "double"
                },
                {
                  "key": "51",
                  "name": "feature_50",
                  "type": "double"
                },
                {
                  "key": "52",
                  "name": "feature_51",
                  "type": "double"
                },
                {
                  "key": "53",
                  "name": "feature_52",
                  "type": "double"
                },
                {
                  "key": "54",
                  "name": "feature_53",
                  "type": "double"
                },
                {
                  "key": "55",
                  "name": "feature_54",
                  "type": "double"
                },
                {
                  "key": "56",
                  "name": "feature_55",
                  "type": "double"
                },
                {
                  "key": "57",
                  "name": "feature_56",
                  "type": "double"
                },
                {
                  "key": "58",
                  "name": "feature_57",
                  "type": "double"
                },
                {
                  "key": "59",
                  "name": "feature_58",
                  "type": "double"
                },
                {
                  "key": "60",
                  "name": "feature_59",
                  "type": "double"
                },
                {
                  "key": "61",
                  "name": "feature_60",
                  "type": "double"
                },
                {
                  "key": "62",
                  "name": "feature_61",
                  "type": "double"
                },
                {
                  "key": "63",
                  "name": "feature_62",
                  "type": "double"
                },
                {
                  "key": "64",
                  "name": "feature_63",
                  "type": "double"
                },
                {
                  "key": "65",
                  "name": "feature_64",
                  "type": "double"
                },
                {
                  "key": "66",
                  "name": "feature_65",
                  "type": "double"
                },
                {
                  "key": "67",
                  "name": "feature_66",
                  "type": "double"
                },
                {
                  "key": "68",
                  "name": "feature_67",
                  "type": "double"
                },
                {
                  "key": "69",
                  "name": "feature_68",
                  "type": "double"
                },
                {
                  "key": "70",
                  "name": "feature_69",
                  "type": "double"
                },
                {
                  "key": "71",
                  "name": "feature_70",
                  "type": "double"
                },
                {
                  "key": "72",
                  "name": "feature_71",
                  "type": "double"
                },
                {
                  "key": "73",
                  "name": "feature_72",
                  "type": "double"
                },
                {
                  "key": "74",
                  "name": "feature_73",
                  "type": "double"
                },
                {
                  "key": "75",
                  "name": "feature_74",
                  "type": "double"
                },
                {
                  "key": "76",
                  "name": "feature_75",
                  "type": "double"
                },
                {
                  "key": "77",
                  "name": "feature_76",
                  "type": "double"
                },
                {
                  "key": "78",
                  "name": "feature_77",
                  "type": "double"
                },
                {
                  "key": "79",
                  "name": "feature_78",
                  "type": "double"
                },
                {
                  "key": "80",
                  "name": "feature_79",
                  "type": "double"
                },
                {
                  "key": "81",
                  "name": "feature_80",
                  "type": "double"
                },
                {
                  "key": "82",
                  "name": "feature_81",
                  "type": "double"
                },
                {
                  "key": "83",
                  "name": "feature_82",
                  "type": "double"
                },
                {
                  "key": "84",
                  "name": "feature_83",
                  "type": "double"
                },
                {
                  "key": "85",
                  "name": "feature_84",
                  "type": "double"
                },
                {
                  "key": "86",
                  "name": "feature_85",
                  "type": "double"
                },
                {
                  "key": "87",
                  "name": "feature_86",
                  "type": "double"
                },
                {
                  "key": "88",
                  "name": "feature_87",
                  "type": "double"
                },
                {
                  "key": "89",
                  "name": "feature_88",
                  "type": "double"
                },
                {
                  "key": "90",
                  "name": "feature_89",
                  "type": "double"
                },
                {
                  "key": "91",
                  "name": "feature_90",
                  "type": "double"
                },
                {
                  "key": "92",
                  "name": "feature_91",
                  "type": "double"
                },
                {
                  "key": "93",
                  "name": "feature_92",
                  "type": "double"
                },
                {
                  "key": "94",
                  "name": "feature_93",
                  "type": "double"
                },
                {
                  "key": "95",
                  "name": "feature_94",
                  "type": "double"
                },
                {
                  "key": "96",
                  "name": "feature_95",
                  "type": "double"
                },
                {
                  "key": "97",
                  "name": "feature_96",
                  "type": "double"
                },
                {
                  "key": "98",
                  "name": "feature_97",
                  "type": "double"
                },
                {
                  "key": "99",
                  "name": "feature_98",
                  "type": "double"
                },
                {
                  "key": "100",
                  "name": "feature_99",
                  "type": "double"
                },
                {
                  "key": "101",
                  "name": "feature_100",
                  "type": "double"
                },
                {
                  "key": "102",
                  "name": "feature_101",
                  "type": "double"
                },
                {
                  "key": "103",
                  "name": "feature_102",
                  "type": "double"
                },
                {
                  "key": "104",
                  "name": "feature_103",
                  "type": "double"
                },
                {
                  "key": "105",
                  "name": "feature_104",
                  "type": "double"
                },
                {
                  "key": "106",
                  "name": "feature_105",
                  "type": "double"
                },
                {
                  "key": "107",
                  "name": "feature_106",
                  "type": "double"
                },
                {
                  "key": "108",
                  "name": "feature_107",
                  "type": "double"
                },
                {
                  "key": "109",
                  "name": "feature_108",
                  "type": "double"
                },
                {
                  "key": "110",
                  "name": "feature_109",
                  "type": "double"
                },
                {
                  "key": "111",
                  "name": "feature_110",
                  "type": "double"
                },
                {
                  "key": "112",
                  "name": "feature_111",
                  "type": "double"
                },
                {
                  "key": "113",
                  "name": "feature_112",
                  "type": "double"
                },
                {
                  "key": "114",
                  "name": "feature_113",
                  "type": "double"
                },
                {
                  "key": "115",
                  "name": "feature_114",
                  "type": "double"
                },
                {
                  "key": "116",
                  "name": "feature_115",
                  "type": "double"
                },
                {
                  "key": "117",
                  "name": "feature_116",
                  "type": "double"
                },
                {
                  "key": "118",
                  "name": "feature_117",
                  "type": "double"
                },
                {
                  "key": "119",
                  "name": "feature_118",
                  "type": "double"
                },
                {
                  "key": "120",
                  "name": "feature_119",
                  "type": "double"
                },
                {
                  "key": "121",
                  "name": "feature_120",
                  "type": "double"
                },
                {
                  "key": "122",
                  "name": "feature_121",
                  "type": "double"
                },
                {
                  "key": "123",
                  "name": "feature_122",
                  "type": "double"
                },
                {
                  "key": "124",
                  "name": "feature_123",
                  "type": "double"
                },
                {
                  "key": "125",
                  "name": "feature_124",
                  "type": "double"
                },
                {
                  "key": "126",
                  "name": "feature_125",
                  "type": "double"
                },
                {
                  "key": "127",
                  "name": "feature_126",
                  "type": "double"
                },
                {
                  "key": "128",
                  "name": "feature_127",
                  "type": "double"
                },
                {
                  "key": "129",
                  "name": "feature_128",
                  "type": "double"
                },
                {
                  "key": "130",
                  "name": "feature_129",
                  "type": "double"
                },
                {
                  "key": "131",
                  "name": "feature_130",
                  "type": "double"
                },
                {
                  "key": "132",
                  "name": "feature_131",
                  "type": "double"
                },
                {
                  "key": "133",
                  "name": "feature_132",
                  "type": "double"
                },
                {
                  "key": "134",
                  "name": "feature_133",
                  "type": "double"
                },
                {
                  "key": "135",
                  "name": "feature_134",
                  "type": "double"
                },
                {
                  "key": "136",
                  "name": "feature_135",
                  "type": "double"
                },
                {
                  "key": "137",
                  "name": "feature_136",
                  "type": "double"
                },
                {
                  "key": "138",
                  "name": "feature_137",
                  "type": "double"
                },
                {
                  "key": "139",
                  "name": "feature_138",
                  "type": "double"
                },
                {
                  "key": "140",
                  "name": "feature_139",
                  "type": "double"
                },
                {
                  "key": "141",
                  "name": "feature_140",
                  "type": "double"
                },
                {
                  "key": "142",
                  "name": "feature_141",
                  "type": "double"
                },
                {
                  "key": "143",
                  "name": "feature_142",
                  "type": "double"
                },
                {
                  "key": "144",
                  "name": "feature_143",
                  "type": "double"
                },
                {
                  "key": "145",
                  "name": "feature_144",
                  "type": "double"
                },
                {
                  "key": "146",
                  "name": "feature_145",
                  "type": "double"
                },
                {
                  "key": "147",
                  "name": "feature_146",
                  "type": "double"
                },
                {
                  "key": "148",
                  "name": "feature_147",
                  "type": "double"
                },
                {
                  "key": "149",
                  "name": "feature_148",
                  "type": "double"
                },
                {
                  "key": "150",
                  "name": "feature_149",
                  "type": "double"
                },
                {
                  "key": "151",
                  "name": "feature_150",
                  "type": "double"
                },
                {
                  "key": "152",
                  "name": "feature_151",
                  "type": "double"
                },
                {
                  "key": "153",
                  "name": "feature_152",
                  "type": "double"
                },
                {
                  "key": "154",
                  "name": "feature_153",
                  "type": "double"
                },
                {
                  "key": "155",
                  "name": "feature_154",
                  "type": "double"
                },
                {
                  "key": "156",
                  "name": "feature_155",
                  "type": "double"
                },
                {
                  "key": "157",
                  "name": "feature_156",
                  "type": "double"
                },
                {
                  "key": "158",
                  "name": "feature_157",
                  "type": "double"
                },
                {
                  "key": "159",
                  "name": "feature_158",
                  "type": "double"
                },
                {
                  "key": "160",
                  "name": "feature_159",
                  "type": "double"
                },
                {
                  "key": "161",
                  "name": "feature_160",
                  "type": "double"
                },
                {
                  "key": "162",
                  "name": "feature_161",
                  "type": "double"
                },
                {
                  "key": "163",
                  "name": "feature_162",
                  "type": "double"
                },
                {
                  "key": "164",
                  "name": "feature_163",
                  "type": "double"
                },
                {
                  "key": "165",
                  "name": "feature_164",
                  "type": "double"
                },
                {
                  "key": "166",
                  "name": "feature_165",
                  "type": "double"
                },
                {
                  "key": "167",
                  "name": "class",
                  "type": "string"
                },
                {
                  "key": "168",
                  "name": "label",
                  "type": "string"
                }
              ],
              "truncated": false
            },
            "isSummary": false,
            "language": "scala",
            "wranglerEntryContext": {
              "dataframeType": "pyspark"
            }
          },
          "persist_state": {
            "view": {
              "type": "details",
              "tableOptions": {},
              "chartOptions": {
                "chartType": "bar",
                "aggregationType": "sum",
                "categoryFieldKeys": [
                  "1"
                ],
                "seriesFieldKeys": [
                  "0"
                ],
                "isStacked": false
              }
            }
          }
        },
        "548e1baa-22d5-4255-b586-f6b429eb17b9": {
          "type": "Synapse.DataFrame",
          "sync_state": {
            "table": {
              "rows": [
                {
                  "0": "1",
                  "1": "illicit",
                  "2": "17"
                },
                {
                  "0": "1",
                  "1": "licit",
                  "2": "2130"
                },
                {
                  "0": "1",
                  "1": "unknown",
                  "2": "5732"
                },
                {
                  "0": "2",
                  "1": "illicit",
                  "2": "18"
                },
                {
                  "0": "2",
                  "1": "licit",
                  "2": "1099"
                },
                {
                  "0": "2",
                  "1": "unknown",
                  "2": "3427"
                },
                {
                  "0": "3",
                  "1": "illicit",
                  "2": "11"
                },
                {
                  "0": "3",
                  "1": "licit",
                  "2": "1268"
                },
                {
                  "0": "3",
                  "1": "unknown",
                  "2": "5342"
                },
                {
                  "0": "4",
                  "1": "illicit",
                  "2": "30"
                },
                {
                  "0": "4",
                  "1": "licit",
                  "2": "1410"
                },
                {
                  "0": "4",
                  "1": "unknown",
                  "2": "4253"
                },
                {
                  "0": "5",
                  "1": "licit",
                  "2": "20"
                },
                {
                  "0": "5",
                  "1": "unknown",
                  "2": "32"
                }
              ],
              "schema": [
                {
                  "key": "0",
                  "name": "time_step",
                  "type": "int"
                },
                {
                  "key": "1",
                  "name": "label",
                  "type": "string"
                },
                {
                  "key": "2",
                  "name": "count",
                  "type": "bigint"
                }
              ],
              "truncated": false
            },
            "isSummary": false,
            "language": "scala",
            "wranglerEntryContext": {
              "candidateVariableNames": [
                "time_class_dist"
              ],
              "dataframeType": "pyspark"
            }
          },
          "persist_state": {
            "view": {
              "type": "details",
              "tableOptions": {},
              "chartOptions": {
                "chartType": "bar",
                "aggregationType": "sum",
                "categoryFieldKeys": [
                  "1"
                ],
                "seriesFieldKeys": [
                  "0"
                ],
                "isStacked": false
              }
            }
          }
        },
        "25337fa8-15ea-4414-a81a-51eabf9b97b4": {
          "type": "Synapse.DataFrame",
          "sync_state": {
            "table": {
              "rows": [
                {
                  "0": "1",
                  "1": "17",
                  "2": "2130"
                },
                {
                  "0": "2",
                  "1": "18",
                  "2": "1099"
                },
                {
                  "0": "3",
                  "1": "11",
                  "2": "1268"
                },
                {
                  "0": "4",
                  "1": "30",
                  "2": "1410"
                },
                {
                  "0": "5",
                  "1": "0",
                  "2": "20"
                }
              ],
              "schema": [
                {
                  "key": "0",
                  "name": "time_step",
                  "type": "int"
                },
                {
                  "key": "1",
                  "name": "illicit",
                  "type": "bigint"
                },
                {
                  "key": "2",
                  "name": "licit",
                  "type": "bigint"
                }
              ],
              "truncated": false
            },
            "isSummary": false,
            "language": "scala",
            "wranglerEntryContext": {
              "candidateVariableNames": [
                "time_class_contingency"
              ],
              "dataframeType": "pyspark"
            }
          },
          "persist_state": {
            "view": {
              "type": "details",
              "tableOptions": {},
              "chartOptions": {
                "chartType": "bar",
                "aggregationType": "sum",
                "categoryFieldKeys": [
                  "1"
                ],
                "seriesFieldKeys": [
                  "0"
                ],
                "isStacked": false
              }
            }
          }
        },
        "b6a6c106-8e22-4366-a98f-368c53b7e076": {
          "type": "Synapse.DataFrame",
          "sync_state": {
            "table": {
              "rows": [
                {
                  "0": "1",
                  "1": "0.79",
                  "2": "17",
                  "3": "2130",
                  "4": "2147"
                },
                {
                  "0": "2",
                  "1": "1.61",
                  "2": "18",
                  "3": "1099",
                  "4": "1117"
                },
                {
                  "0": "3",
                  "1": "0.86",
                  "2": "11",
                  "3": "1268",
                  "4": "1279"
                },
                {
                  "0": "4",
                  "1": "2.08",
                  "2": "30",
                  "3": "1410",
                  "4": "1440"
                },
                {
                  "0": "5",
                  "1": "0.0",
                  "2": "0",
                  "3": "20",
                  "4": "20"
                }
              ],
              "schema": [
                {
                  "key": "0",
                  "name": "time_step",
                  "type": "int"
                },
                {
                  "key": "1",
                  "name": "illicit_percentage",
                  "type": "double"
                },
                {
                  "key": "2",
                  "name": "illicit_count",
                  "type": "bigint"
                },
                {
                  "key": "3",
                  "name": "licit_count",
                  "type": "bigint"
                },
                {
                  "key": "4",
                  "name": "total_labeled",
                  "type": "bigint"
                }
              ],
              "truncated": false
            },
            "isSummary": false,
            "language": "scala",
            "wranglerEntryContext": {
              "candidateVariableNames": [
                "illicit_pct_by_time"
              ],
              "dataframeType": "pyspark"
            }
          },
          "persist_state": {
            "view": {
              "type": "details",
              "tableOptions": {},
              "chartOptions": {
                "chartType": "bar",
                "aggregationType": "sum",
                "categoryFieldKeys": [
                  "1"
                ],
                "seriesFieldKeys": [
                  "0"
                ],
                "isStacked": false
              }
            }
          }
        }
      }
    }
  },
  "nbformat": 4,
  "nbformat_minor": 2
}